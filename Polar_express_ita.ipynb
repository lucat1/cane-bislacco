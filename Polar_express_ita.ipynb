{
  "nbformat": 4,
  "nbformat_minor": 0,
  "metadata": {
    "colab": {
      "provenance": []
    },
    "kernelspec": {
      "name": "python3",
      "display_name": "Python 3"
    },
    "language_info": {
      "name": "python"
    },
    "accelerator": "GPU",
    "gpuClass": "standard"
  },
  "cells": [
    {
      "cell_type": "markdown",
      "source": [
        "\n",
        "L'obiettivo del progetto è apprendere mediante una rete neurale la trasformazione da punti del piano espressi in coordinate polari ad una rappresentazione basata su di una griglia discreta di dimensione 10x10, dove la cella della griglia ha valore 1 se contiene il punto, e 0 altrimenti.\n",
        "\n",
        "Il dataset supervisionato è fornito in questo notebook nella forma di una generatore. Il generatore deve essere considerato come una \"scatola nera\" il cui comportamento deve essere appreso. \n",
        "\n",
        "Dovete progettare una rete neurale in grado di raggiungere una accuratezza del 95%. Questa è una condizione necessaria per superare l'esame, ma l'accuratezza non influisce in altro modo sulla valutazione.  \n",
        "\n",
        "I modelli che raggiungono l'accuratezza attesa saranno invece valutati in modo inversamente proporzionale al numero dei loro parametri: **più il modello è piccolo, meglio è.**\n",
        "\n",
        "\n",
        "**Attenzione**: Qualunque soluzione che tragga vantaggio, diretto o indiretto, da meta-conoscenza relativa al generatore sarà automaticamente bocciato.\n"
      ],
      "metadata": {
        "id": "Zw_326KLT9dF"
      }
    },
    {
      "cell_type": "code",
      "execution_count": 1,
      "metadata": {
        "id": "ynz-4_4cFmbJ"
      },
      "outputs": [],
      "source": [
        "import numpy as np\n",
        "import tensorflow as tf\n",
        "from tensorflow.keras.layers import Input, Dense, Reshape, concatenate\n",
        "from tensorflow.keras.models import Model"
      ]
    },
    {
      "cell_type": "markdown",
      "source": [
        "Veniamo al generatore. Questo restituisce delle triple della forma\n",
        "((theta,rho),out) dove (theta,rho) sono le coordinate polari di un punto nel primo quadrante del piano, e out è una mappa 10x10 con \"1\" in correspondenza alla cella che contiene il punto, e \"0\" altrimenti.\n",
        "\n",
        "Settando  flat=True, la mappa 10x10 viene appiattita ad un vettore di dimensione 100. Potete utilizzare questa variante, se preferite. Nessuna altra modifica del generatore è ammessa. "
      ],
      "metadata": {
        "id": "iA01pkKbUt7Q"
      }
    },
    {
      "cell_type": "code",
      "source": [
        "def polar_generator(batchsize,grid=(10,10),noise=.002,flat=False):\n",
        "  while True:\n",
        "    x = np.random.rand(batchsize)\n",
        "    y = np.random.rand(batchsize)\n",
        "    out = np.zeros((batchsize,grid[0],grid[1]))\n",
        "    xc = (x*grid[0]).astype(int)\n",
        "    yc = (y*grid[1]).astype(int)\n",
        "    for b in range(batchsize):\n",
        "      out[b,xc[b],yc[b]] = 1\n",
        "    #compute rho and theta and add some noise\n",
        "    rho = np.sqrt(x**2+y**2) + np.random.normal(scale=noise)\n",
        "    theta = np.arctan(y/np.maximum(x,.00001)) + np.random.normal(scale=noise)\n",
        "    if flat:\n",
        "      out = np.reshape(out,(batchsize,grid[0]*grid[1]))\n",
        "    yield ((theta,rho),out)"
      ],
      "metadata": {
        "id": "DsA1GqAeWAdo"
      },
      "execution_count": 2,
      "outputs": []
    },
    {
      "cell_type": "markdown",
      "source": [
        "Creiamo una istanza del generatore con una griglia di dimensione 3x4"
      ],
      "metadata": {
        "id": "ZF-jlaqAWc2o"
      }
    },
    {
      "cell_type": "code",
      "source": [
        "g1,g2 = 3,4\n",
        "gen = polar_generator(1,grid=(g1,g2),noise=0.0)"
      ],
      "metadata": {
        "id": "Ov3rXaLVHDCT"
      },
      "execution_count": 3,
      "outputs": []
    },
    {
      "cell_type": "markdown",
      "source": [
        "... e osserviamo qualche esempio"
      ],
      "metadata": {
        "id": "b4hntQtSWjPk"
      }
    },
    {
      "cell_type": "code",
      "source": [
        "(theta,rho),maps = next(gen)\n",
        "for i,map in enumerate(maps):\n",
        "  #let us compute the cartesian coordinates\n",
        "  x = np.cos(theta[i])*rho[i]\n",
        "  y = np.sin(theta[i])*rho[i]\n",
        "  print(\"x coordinate (row): {}\".format(int(x*g1)))\n",
        "  print(\"y coordinate (col): {}\".format(int(y*g2)))\n",
        "  print(\"map:\")\n",
        "  print(np.reshape(map,(g1,g2)))"
      ],
      "metadata": {
        "colab": {
          "base_uri": "https://localhost:8080/"
        },
        "id": "PM7R8ZZZHN7p",
        "outputId": "4de082d1-934c-42ea-e864-3dbbf1e2f001"
      },
      "execution_count": 4,
      "outputs": [
        {
          "output_type": "stream",
          "name": "stdout",
          "text": [
            "x coordinate (row): 0\n",
            "y coordinate (col): 1\n",
            "map:\n",
            "[[0. 1. 0. 0.]\n",
            " [0. 0. 0. 0.]\n",
            " [0. 0. 0. 0.]]\n"
          ]
        }
      ]
    },
    {
      "cell_type": "markdown",
      "source": [],
      "metadata": {
        "id": "W7kw_K2HNlSg"
      }
    },
    {
      "cell_type": "markdown",
      "source": [
        "Utile esercizio: aggiungete rumore al generatore e verificate l'effetto sulla\n",
        "\"ground truth\"."
      ],
      "metadata": {
        "id": "NTY5fu8Hg7RE"
      }
    },
    {
      "cell_type": "markdown",
      "source": [
        "# Cosa consegnare\n",
        "\n",
        "Ai fini del progetto dovete lavorare con la **griglia di default di dimensione 10x10, e con il rumore di default .002**\n",
        "\n",
        "il generatore deve essere trattato come una scatola nera: non modificatelo e non sfruttate la sua semantica, che si suppone ignota. Potete lavorare in modlaità \"flat\", se preferite.\n",
        "\n",
        "Dovete:\n",
        "\n",
        "1.   definire una funzione per il calcolo della accuratezza (potete prendere ispirazione dal cocice della cella precedente) \n",
        "2.   definire una rete neurale che prende in input theta e rho e restituisce out\n",
        "3.  misurare l'accuratezza della rete, che deve essere maggiore o uguale del 95%; l'accuratezza deve essere misurata su almeno 20000 dati\n",
        "4. perfezionare il modello cercando di diminuire il più possibile il numero dei parametri mantenendo una accuratezza superiore al 95%. Solo la vostra rete migliore deve essere consegnata.\n",
        "\n",
        "Dovete consegnare un UNICO notebook eseguibile su colab, che contenga il codice della rete, il suo sommario con il numero dei parametri, la storia di training, il codice per il calcolo della accuratezza e la sua valutazione sulla vostra rete.\n",
        "\n",
        "**N.B.** L'accuratezza deve essere superiore o uguale a 95%, ma non influisce in altro modo sulla valutazione. Il vostro punteggio dipenderà unicamente dal numero dei parametri: più è piccolo e più la vostra vaalutazione sarà elevata.  \n",
        "\n",
        "#Buon lavoro!\n",
        "\n",
        "\n",
        "\n"
      ],
      "metadata": {
        "id": "jj4akvA24maJ"
      }
    },
    {
      "cell_type": "code",
      "source": [
        "import keras\n",
        "import numpy as np\n",
        "import tensorflow as tf\n",
        "from keras import layers\n",
        "from keras import activations\n",
        "from keras import losses\n",
        "from sklearn.model_selection import train_test_split\n",
        "import keras.backend as K"
      ],
      "metadata": {
        "id": "6_wpuwNvHtmM"
      },
      "execution_count": 35,
      "outputs": []
    },
    {
      "cell_type": "code",
      "source": [
        "n_train = 6000\n",
        "n_test = 2000\n",
        "batch_size = 128\n",
        "\n",
        "g1,g2 = 10,10\n",
        "gen = polar_generator(n_train+n_test,grid=(g1,g2),noise=0.02,flat=True)\n",
        "(theta,rho),y = next(gen)\n",
        "x=np.array([i for i in zip(theta,rho)])\n",
        "\n",
        "x_train, x_test, y_train, y_test = train_test_split(x, y, test_size=n_test/(n_train+n_test), shuffle=True, random_state=1)"
      ],
      "metadata": {
        "id": "YHqHVFh8Twvy"
      },
      "execution_count": 46,
      "outputs": []
    },
    {
      "cell_type": "code",
      "source": [
        "def loss_fn(y_true, y_pred):\n",
        "  point = np.array(y_true).argwhere(x==1)[1]\n",
        "\n",
        "  x = K.mult(K.cos(y_true[:1]), y_true[:2])\n",
        "  #x = np.cos(theta[i])*rho[i]\n",
        "  #y = np.sin(theta[i])*rho[i]\n",
        "  eval = K.sq\n",
        "  eval = K.abs(y_pred - y_true)\n",
        "  eval = K.mean(eval, axis=-1)\n",
        "\n",
        "  return eval"
      ],
      "metadata": {
        "id": "uDmOS-jlP3LJ"
      },
      "execution_count": 7,
      "outputs": []
    },
    {
      "cell_type": "code",
      "source": [
        "model = keras.Sequential([\n",
        "    layers.Flatten(),\n",
        "    layers.Dense(4, activation=activations.relu),\n",
        "    layers.Dense(8, activation=activations.swish),\n",
        "    layers.Dense(16, activation=activations.swish),\n",
        "    #tf.keras.layers.Dropout(0.2),\n",
        "    layers.Dense(100, activation=activations.softmax)\n",
        "])\n",
        "model.build((None, 2))\n",
        "model.summary()\n",
        "model.compile(\n",
        "    optimizer=keras.optimizers.Adam(learning_rate=1e-1),\n",
        "    loss=losses.CategoricalCrossentropy(),#loss_fn\n",
        "    metrics=['accuracy']\n",
        ")\n",
        "\n",
        "history = model.fit(\n",
        "    x_train,\n",
        "    y_train,\n",
        "    epochs=100,\n",
        "    batch_size=batch_size\n",
        ")"
      ],
      "metadata": {
        "colab": {
          "base_uri": "https://localhost:8080/"
        },
        "id": "b31UJpXIHkqx",
        "outputId": "154fdba7-ffa6-4332-9d47-2cc7add458eb"
      },
      "execution_count": 39,
      "outputs": [
        {
          "output_type": "stream",
          "name": "stdout",
          "text": [
            "Model: \"sequential_14\"\n",
            "_________________________________________________________________\n",
            " Layer (type)                Output Shape              Param #   \n",
            "=================================================================\n",
            " flatten_15 (Flatten)        (None, 2)                 0         \n",
            "                                                                 \n",
            " dense_58 (Dense)            (None, 4)                 12        \n",
            "                                                                 \n",
            " dense_59 (Dense)            (None, 8)                 40        \n",
            "                                                                 \n",
            " dense_60 (Dense)            (None, 16)                144       \n",
            "                                                                 \n",
            " dense_61 (Dense)            (None, 100)               1700      \n",
            "                                                                 \n",
            "=================================================================\n",
            "Total params: 1,896\n",
            "Trainable params: 1,896\n",
            "Non-trainable params: 0\n",
            "_________________________________________________________________\n",
            "Epoch 1/100\n",
            "47/47 [==============================] - 1s 3ms/step - loss: 3.2434 - accuracy: 0.1308\n",
            "Epoch 2/100\n",
            "47/47 [==============================] - 0s 3ms/step - loss: 1.8516 - accuracy: 0.3450\n",
            "Epoch 3/100\n",
            "47/47 [==============================] - 0s 3ms/step - loss: 1.3213 - accuracy: 0.5083\n",
            "Epoch 4/100\n",
            "47/47 [==============================] - 0s 3ms/step - loss: 1.2359 - accuracy: 0.5207\n",
            "Epoch 5/100\n",
            "47/47 [==============================] - 0s 3ms/step - loss: 1.0695 - accuracy: 0.5792\n",
            "Epoch 6/100\n",
            "47/47 [==============================] - 0s 3ms/step - loss: 1.1548 - accuracy: 0.5570\n",
            "Epoch 7/100\n",
            "47/47 [==============================] - 0s 3ms/step - loss: 0.9218 - accuracy: 0.6443\n",
            "Epoch 8/100\n",
            "47/47 [==============================] - 0s 3ms/step - loss: 0.8985 - accuracy: 0.6442\n",
            "Epoch 9/100\n",
            "47/47 [==============================] - 0s 3ms/step - loss: 0.9654 - accuracy: 0.6242\n",
            "Epoch 10/100\n",
            "47/47 [==============================] - 0s 3ms/step - loss: 0.8094 - accuracy: 0.6888\n",
            "Epoch 11/100\n",
            "47/47 [==============================] - 0s 3ms/step - loss: 0.7691 - accuracy: 0.6933\n",
            "Epoch 12/100\n",
            "47/47 [==============================] - 0s 3ms/step - loss: 0.9410 - accuracy: 0.6398\n",
            "Epoch 13/100\n",
            "47/47 [==============================] - 0s 3ms/step - loss: 0.7030 - accuracy: 0.7187\n",
            "Epoch 14/100\n",
            "47/47 [==============================] - 0s 4ms/step - loss: 1.0028 - accuracy: 0.6137\n",
            "Epoch 15/100\n",
            "47/47 [==============================] - 0s 3ms/step - loss: 0.7460 - accuracy: 0.7022\n",
            "Epoch 16/100\n",
            "47/47 [==============================] - 0s 3ms/step - loss: 0.8934 - accuracy: 0.6513\n",
            "Epoch 17/100\n",
            "47/47 [==============================] - 0s 3ms/step - loss: 0.6449 - accuracy: 0.7398\n",
            "Epoch 18/100\n",
            "47/47 [==============================] - 0s 3ms/step - loss: 0.6655 - accuracy: 0.7373\n",
            "Epoch 19/100\n",
            "47/47 [==============================] - 0s 3ms/step - loss: 0.6327 - accuracy: 0.7480\n",
            "Epoch 20/100\n",
            "47/47 [==============================] - 0s 3ms/step - loss: 0.8092 - accuracy: 0.6835\n",
            "Epoch 21/100\n",
            "47/47 [==============================] - 0s 3ms/step - loss: 0.6141 - accuracy: 0.7543\n",
            "Epoch 22/100\n",
            "47/47 [==============================] - 0s 3ms/step - loss: 0.7377 - accuracy: 0.7068\n",
            "Epoch 23/100\n",
            "47/47 [==============================] - 0s 3ms/step - loss: 0.7805 - accuracy: 0.6830\n",
            "Epoch 24/100\n",
            "47/47 [==============================] - 0s 3ms/step - loss: 0.6859 - accuracy: 0.7358\n",
            "Epoch 25/100\n",
            "47/47 [==============================] - 0s 3ms/step - loss: 0.7486 - accuracy: 0.7005\n",
            "Epoch 26/100\n",
            "47/47 [==============================] - 0s 3ms/step - loss: 0.6007 - accuracy: 0.7567\n",
            "Epoch 27/100\n",
            "47/47 [==============================] - 0s 3ms/step - loss: 0.7617 - accuracy: 0.6963\n",
            "Epoch 28/100\n",
            "47/47 [==============================] - 0s 3ms/step - loss: 0.7638 - accuracy: 0.6992\n",
            "Epoch 29/100\n",
            "47/47 [==============================] - 0s 3ms/step - loss: 0.5897 - accuracy: 0.7567\n",
            "Epoch 30/100\n",
            "47/47 [==============================] - 0s 3ms/step - loss: 0.6942 - accuracy: 0.7200\n",
            "Epoch 31/100\n",
            "47/47 [==============================] - 0s 3ms/step - loss: 0.6230 - accuracy: 0.7390\n",
            "Epoch 32/100\n",
            "47/47 [==============================] - 0s 3ms/step - loss: 0.6861 - accuracy: 0.7232\n",
            "Epoch 33/100\n",
            "47/47 [==============================] - 0s 3ms/step - loss: 0.6096 - accuracy: 0.7443\n",
            "Epoch 34/100\n",
            "47/47 [==============================] - 0s 3ms/step - loss: 0.6033 - accuracy: 0.7513\n",
            "Epoch 35/100\n",
            "47/47 [==============================] - 0s 3ms/step - loss: 0.6929 - accuracy: 0.7268\n",
            "Epoch 36/100\n",
            "47/47 [==============================] - 0s 3ms/step - loss: 0.6371 - accuracy: 0.7447\n",
            "Epoch 37/100\n",
            "47/47 [==============================] - 0s 3ms/step - loss: 0.5517 - accuracy: 0.7727\n",
            "Epoch 38/100\n",
            "47/47 [==============================] - 0s 3ms/step - loss: 0.7530 - accuracy: 0.6993\n",
            "Epoch 39/100\n",
            "47/47 [==============================] - 0s 3ms/step - loss: 0.5294 - accuracy: 0.7788\n",
            "Epoch 40/100\n",
            "47/47 [==============================] - 0s 3ms/step - loss: 0.5527 - accuracy: 0.7715\n",
            "Epoch 41/100\n",
            "47/47 [==============================] - 0s 3ms/step - loss: 0.5044 - accuracy: 0.7908\n",
            "Epoch 42/100\n",
            "47/47 [==============================] - 0s 3ms/step - loss: 0.5890 - accuracy: 0.7600\n",
            "Epoch 43/100\n",
            "47/47 [==============================] - 0s 3ms/step - loss: 0.6446 - accuracy: 0.7450\n",
            "Epoch 44/100\n",
            "47/47 [==============================] - 0s 3ms/step - loss: 0.5381 - accuracy: 0.7803\n",
            "Epoch 45/100\n",
            "47/47 [==============================] - 0s 3ms/step - loss: 0.7954 - accuracy: 0.7038\n",
            "Epoch 46/100\n",
            "47/47 [==============================] - 0s 3ms/step - loss: 0.6251 - accuracy: 0.7467\n",
            "Epoch 47/100\n",
            "47/47 [==============================] - 0s 3ms/step - loss: 0.6916 - accuracy: 0.7223\n",
            "Epoch 48/100\n",
            "47/47 [==============================] - 0s 3ms/step - loss: 0.5801 - accuracy: 0.7652\n",
            "Epoch 49/100\n",
            "47/47 [==============================] - 0s 3ms/step - loss: 0.5881 - accuracy: 0.7600\n",
            "Epoch 50/100\n",
            "47/47 [==============================] - 0s 3ms/step - loss: 0.5454 - accuracy: 0.7822\n",
            "Epoch 51/100\n",
            "47/47 [==============================] - 0s 3ms/step - loss: 0.5264 - accuracy: 0.7887\n",
            "Epoch 52/100\n",
            "47/47 [==============================] - 0s 3ms/step - loss: 0.6224 - accuracy: 0.7598\n",
            "Epoch 53/100\n",
            "47/47 [==============================] - 0s 3ms/step - loss: 0.5581 - accuracy: 0.7687\n",
            "Epoch 54/100\n",
            "47/47 [==============================] - 0s 3ms/step - loss: 0.5208 - accuracy: 0.7840\n",
            "Epoch 55/100\n",
            "47/47 [==============================] - 0s 3ms/step - loss: 0.6150 - accuracy: 0.7563\n",
            "Epoch 56/100\n",
            "47/47 [==============================] - 0s 3ms/step - loss: 0.4487 - accuracy: 0.8140\n",
            "Epoch 57/100\n",
            "47/47 [==============================] - 0s 3ms/step - loss: 0.4727 - accuracy: 0.8090\n",
            "Epoch 58/100\n",
            "47/47 [==============================] - 0s 4ms/step - loss: 0.8056 - accuracy: 0.7013\n",
            "Epoch 59/100\n",
            "47/47 [==============================] - 0s 3ms/step - loss: 0.5663 - accuracy: 0.7693\n",
            "Epoch 60/100\n",
            "47/47 [==============================] - 0s 4ms/step - loss: 0.6723 - accuracy: 0.7320\n",
            "Epoch 61/100\n",
            "47/47 [==============================] - 0s 3ms/step - loss: 0.5313 - accuracy: 0.7830\n",
            "Epoch 62/100\n",
            "47/47 [==============================] - 0s 3ms/step - loss: 0.7449 - accuracy: 0.7180\n",
            "Epoch 63/100\n",
            "47/47 [==============================] - 0s 3ms/step - loss: 0.5054 - accuracy: 0.7972\n",
            "Epoch 64/100\n",
            "47/47 [==============================] - 0s 3ms/step - loss: 0.5597 - accuracy: 0.7753\n",
            "Epoch 65/100\n",
            "47/47 [==============================] - 0s 3ms/step - loss: 0.5649 - accuracy: 0.7728\n",
            "Epoch 66/100\n",
            "47/47 [==============================] - 0s 4ms/step - loss: 0.4577 - accuracy: 0.8157\n",
            "Epoch 67/100\n",
            "47/47 [==============================] - 0s 3ms/step - loss: 0.5618 - accuracy: 0.7690\n",
            "Epoch 68/100\n",
            "47/47 [==============================] - 0s 3ms/step - loss: 0.5858 - accuracy: 0.7613\n",
            "Epoch 69/100\n",
            "47/47 [==============================] - 0s 3ms/step - loss: 0.5448 - accuracy: 0.7845\n",
            "Epoch 70/100\n",
            "47/47 [==============================] - 0s 3ms/step - loss: 0.6116 - accuracy: 0.7537\n",
            "Epoch 71/100\n",
            "47/47 [==============================] - 0s 3ms/step - loss: 0.8588 - accuracy: 0.6952\n",
            "Epoch 72/100\n",
            "47/47 [==============================] - 0s 3ms/step - loss: 0.5706 - accuracy: 0.7672\n",
            "Epoch 73/100\n",
            "47/47 [==============================] - 0s 3ms/step - loss: 0.4909 - accuracy: 0.8025\n",
            "Epoch 74/100\n",
            "47/47 [==============================] - 0s 3ms/step - loss: 0.4601 - accuracy: 0.8160\n",
            "Epoch 75/100\n",
            "47/47 [==============================] - 0s 3ms/step - loss: 0.6304 - accuracy: 0.7563\n",
            "Epoch 76/100\n",
            "47/47 [==============================] - 0s 3ms/step - loss: 0.4901 - accuracy: 0.7990\n",
            "Epoch 77/100\n",
            "47/47 [==============================] - 0s 3ms/step - loss: 0.4546 - accuracy: 0.8100\n",
            "Epoch 78/100\n",
            "47/47 [==============================] - 0s 3ms/step - loss: 0.5592 - accuracy: 0.7715\n",
            "Epoch 79/100\n",
            "47/47 [==============================] - 0s 3ms/step - loss: 0.4498 - accuracy: 0.8168\n",
            "Epoch 80/100\n",
            "47/47 [==============================] - 0s 3ms/step - loss: 0.8951 - accuracy: 0.6768\n",
            "Epoch 81/100\n",
            "47/47 [==============================] - 0s 3ms/step - loss: 0.6808 - accuracy: 0.7357\n",
            "Epoch 82/100\n",
            "47/47 [==============================] - 0s 3ms/step - loss: 0.5709 - accuracy: 0.7727\n",
            "Epoch 83/100\n",
            "47/47 [==============================] - 0s 3ms/step - loss: 0.5174 - accuracy: 0.7893\n",
            "Epoch 84/100\n",
            "47/47 [==============================] - 0s 3ms/step - loss: 0.4515 - accuracy: 0.8183\n",
            "Epoch 85/100\n",
            "47/47 [==============================] - 0s 3ms/step - loss: 0.4404 - accuracy: 0.8237\n",
            "Epoch 86/100\n",
            "47/47 [==============================] - 0s 4ms/step - loss: 0.4685 - accuracy: 0.8087\n",
            "Epoch 87/100\n",
            "47/47 [==============================] - 0s 3ms/step - loss: 0.5940 - accuracy: 0.7738\n",
            "Epoch 88/100\n",
            "47/47 [==============================] - 0s 3ms/step - loss: 0.8344 - accuracy: 0.6865\n",
            "Epoch 89/100\n",
            "47/47 [==============================] - 0s 3ms/step - loss: 0.7396 - accuracy: 0.7127\n",
            "Epoch 90/100\n",
            "47/47 [==============================] - 0s 3ms/step - loss: 0.4917 - accuracy: 0.7967\n",
            "Epoch 91/100\n",
            "47/47 [==============================] - 0s 3ms/step - loss: 0.5642 - accuracy: 0.7743\n",
            "Epoch 92/100\n",
            "47/47 [==============================] - 0s 3ms/step - loss: 0.5120 - accuracy: 0.7950\n",
            "Epoch 93/100\n",
            "47/47 [==============================] - 0s 3ms/step - loss: 0.6632 - accuracy: 0.7423\n",
            "Epoch 94/100\n",
            "47/47 [==============================] - 0s 3ms/step - loss: 0.4844 - accuracy: 0.8078\n",
            "Epoch 95/100\n",
            "47/47 [==============================] - 0s 3ms/step - loss: 0.5554 - accuracy: 0.7757\n",
            "Epoch 96/100\n",
            "47/47 [==============================] - 0s 3ms/step - loss: 0.4739 - accuracy: 0.8092\n",
            "Epoch 97/100\n",
            "47/47 [==============================] - 0s 3ms/step - loss: 0.6154 - accuracy: 0.7555\n",
            "Epoch 98/100\n",
            "47/47 [==============================] - 0s 3ms/step - loss: 0.4734 - accuracy: 0.8052\n",
            "Epoch 99/100\n",
            "47/47 [==============================] - 0s 3ms/step - loss: 0.5823 - accuracy: 0.7680\n",
            "Epoch 100/100\n",
            "47/47 [==============================] - 0s 3ms/step - loss: 0.4467 - accuracy: 0.8190\n"
          ]
        }
      ]
    },
    {
      "cell_type": "code",
      "source": [
        "def accuracy(true_maps: tf.Tensor, my_maps: tf.Tensor) -> float:\n",
        "  return tf.math.count_nonzero(tf.math.equal(true_maps, my_maps)) / \\\n",
        "    tf.cast(tf.size(true_maps), tf.int64)\n",
        "\n",
        "\n",
        "print('Accuracy: {:.2f}%'.format(accuracy(model.predict(x_test), y_test) * 100))"
      ],
      "metadata": {
        "id": "MxF2vCxJmeZr",
        "outputId": "378f0448-13dc-4c98-8651-a1bb02c2844f",
        "colab": {
          "base_uri": "https://localhost:8080/"
        }
      },
      "execution_count": 50,
      "outputs": [
        {
          "output_type": "stream",
          "name": "stdout",
          "text": [
            "63/63 [==============================] - 0s 1ms/step\n",
            "Accuracy: 4.04%\n"
          ]
        }
      ]
    }
  ]
}