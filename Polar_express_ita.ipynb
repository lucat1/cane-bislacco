{
  "nbformat": 4,
  "nbformat_minor": 0,
  "metadata": {
    "colab": {
      "provenance": []
    },
    "kernelspec": {
      "name": "python3",
      "display_name": "Python 3"
    },
    "language_info": {
      "name": "python"
    },
    "accelerator": "GPU",
    "gpuClass": "standard"
  },
  "cells": [
    {
      "cell_type": "markdown",
      "source": [
        "\n",
        "L'obiettivo del progetto è apprendere mediante una rete neurale la trasformazione da punti del piano espressi in coordinate polari ad una rappresentazione basata su di una griglia discreta di dimensione 10x10, dove la cella della griglia ha valore 1 se contiene il punto, e 0 altrimenti.\n",
        "\n",
        "Il dataset supervisionato è fornito in questo notebook nella forma di una generatore. Il generatore deve essere considerato come una \"scatola nera\" il cui comportamento deve essere appreso. \n",
        "\n",
        "Dovete progettare una rete neurale in grado di raggiungere una accuratezza del 95%. Questa è una condizione necessaria per superare l'esame, ma l'accuratezza non influisce in altro modo sulla valutazione.  \n",
        "\n",
        "I modelli che raggiungono l'accuratezza attesa saranno invece valutati in modo inversamente proporzionale al numero dei loro parametri: **più il modello è piccolo, meglio è.**\n",
        "\n",
        "\n",
        "**Attenzione**: Qualunque soluzione che tragga vantaggio, diretto o indiretto, da meta-conoscenza relativa al generatore sarà automaticamente bocciato.\n"
      ],
      "metadata": {
        "id": "Zw_326KLT9dF"
      }
    },
    {
      "cell_type": "code",
      "execution_count": 1,
      "metadata": {
        "id": "ynz-4_4cFmbJ",
        "colab": {
          "base_uri": "https://localhost:8080/"
        },
        "outputId": "d75bbaa1-58fa-43a0-898b-95fd2efcf039"
      },
      "outputs": [
        {
          "output_type": "stream",
          "name": "stderr",
          "text": [
            "2023-01-10 15:04:18.176927: I tensorflow/core/platform/cpu_feature_guard.cc:193] This TensorFlow binary is optimized with oneAPI Deep Neural Network Library (oneDNN) to use the following CPU instructions in performance-critical operations:  SSE3 SSE4.1 SSE4.2 AVX AVX2 FMA\n",
            "To enable them in other operations, rebuild TensorFlow with the appropriate compiler flags.\n"
          ]
        }
      ],
      "source": [
        "import numpy as np\n",
        "import tensorflow as tf\n",
        "from tensorflow.keras.layers import Input, Dense, Reshape, concatenate\n",
        "from tensorflow.keras.models import Model"
      ]
    },
    {
      "cell_type": "markdown",
      "source": [
        "Veniamo al generatore. Questo restituisce delle triple della forma\n",
        "((theta,rho),out) dove (theta,rho) sono le coordinate polari di un punto nel primo quadrante del piano, e out è una mappa 10x10 con \"1\" in correspondenza alla cella che contiene il punto, e \"0\" altrimenti.\n",
        "\n",
        "Settando  flat=True, la mappa 10x10 viene appiattita ad un vettore di dimensione 100. Potete utilizzare questa variante, se preferite. Nessuna altra modifica del generatore è ammessa. "
      ],
      "metadata": {
        "id": "iA01pkKbUt7Q"
      }
    },
    {
      "cell_type": "code",
      "source": [
        "def polar_generator(batchsize,grid=(10,10),noise=.002,flat=False):\n",
        "  while True:\n",
        "    x = np.random.rand(batchsize)\n",
        "    y = np.random.rand(batchsize)\n",
        "    out = np.zeros((batchsize,grid[0],grid[1]))\n",
        "    xc = (x*grid[0]).astype(int)\n",
        "    yc = (y*grid[1]).astype(int)\n",
        "    for b in range(batchsize):\n",
        "      out[b,xc[b],yc[b]] = 1\n",
        "    #compute rho and theta and add some noise\n",
        "    rho = np.sqrt(x**2+y**2) + np.random.normal(scale=noise)\n",
        "    theta = np.arctan(y/np.maximum(x,.00001)) + np.random.normal(scale=noise)\n",
        "    if flat:\n",
        "      out = np.reshape(out,(batchsize,grid[0]*grid[1]))\n",
        "    yield ((theta,rho),out)"
      ],
      "metadata": {
        "id": "DsA1GqAeWAdo"
      },
      "execution_count": 2,
      "outputs": []
    },
    {
      "cell_type": "markdown",
      "source": [
        "Creiamo una istanza del generatore con una griglia di dimensione 3x4"
      ],
      "metadata": {
        "id": "ZF-jlaqAWc2o"
      }
    },
    {
      "cell_type": "code",
      "source": [
        "g1,g2 = 3,4\n",
        "gen = polar_generator(1,grid=(g1,g2),noise=0.0)"
      ],
      "metadata": {
        "id": "Ov3rXaLVHDCT"
      },
      "execution_count": 3,
      "outputs": []
    },
    {
      "cell_type": "markdown",
      "source": [
        "... e osserviamo qualche esempio"
      ],
      "metadata": {
        "id": "b4hntQtSWjPk"
      }
    },
    {
      "cell_type": "code",
      "source": [
        "# (theta,rho),maps = next(gen)\n",
        "# for i,map in enumerate(maps):\n",
        "#   #let us compute the cartesian coordinates\n",
        "#   x = np.cos(theta[i])*rho[i]\n",
        "#   y = np.sin(theta[i])*rho[i]\n",
        "#   print(\"x coordinate (row): {}\".format(int(x*g1)))\n",
        "#   print(\"y coordinate (col): {}\".format(int(y*g2)))\n",
        "#   print(\"map:\")\n",
        "#   print(np.reshape(map,(g1,g2)))"
      ],
      "metadata": {
        "colab": {
          "base_uri": "https://localhost:8080/"
        },
        "id": "PM7R8ZZZHN7p",
        "outputId": "d51c88cd-dfa2-482f-9f5d-f0cb0acc8cb6"
      },
      "execution_count": 5,
      "outputs": [
        {
          "output_type": "stream",
          "name": "stdout",
          "text": [
            "x coordinate (row): 1\n",
            "y coordinate (col): 3\n",
            "map:\n",
            "[[0. 0. 0. 0.]\n",
            " [0. 0. 0. 1.]\n",
            " [0. 0. 0. 0.]]\n"
          ]
        }
      ]
    },
    {
      "cell_type": "markdown",
      "source": [],
      "metadata": {
        "id": "W7kw_K2HNlSg"
      }
    },
    {
      "cell_type": "markdown",
      "source": [
        "Utile esercizio: aggiungete rumore al generatore e verificate l'effetto sulla\n",
        "\"ground truth\"."
      ],
      "metadata": {
        "id": "NTY5fu8Hg7RE"
      }
    },
    {
      "cell_type": "markdown",
      "source": [
        "# Cosa consegnare\n",
        "\n",
        "Ai fini del progetto dovete lavorare con la **griglia di default di dimensione 10x10, e con il rumore di default .002**\n",
        "\n",
        "il generatore deve essere trattato come una scatola nera: non modificatelo e non sfruttate la sua semantica, che si suppone ignota. Potete lavorare in modlaità \"flat\", se preferite.\n",
        "\n",
        "Dovete:\n",
        "\n",
        "1.   definire una funzione per il calcolo della accuratezza (potete prendere ispirazione dal cocice della cella precedente) \n",
        "2.   definire una rete neurale che prende in input theta e rho e restituisce out\n",
        "3.  misurare l'accuratezza della rete, che deve essere maggiore o uguale del 95%; l'accuratezza deve essere misurata su almeno 20000 dati\n",
        "4. perfezionare il modello cercando di diminuire il più possibile il numero dei parametri mantenendo una accuratezza superiore al 95%. Solo la vostra rete migliore deve essere consegnata.\n",
        "\n",
        "Dovete consegnare un UNICO notebook eseguibile su colab, che contenga il codice della rete, il suo sommario con il numero dei parametri, la storia di training, il codice per il calcolo della accuratezza e la sua valutazione sulla vostra rete.\n",
        "\n",
        "**N.B.** L'accuratezza deve essere superiore o uguale a 95%, ma non influisce in altro modo sulla valutazione. Il vostro punteggio dipenderà unicamente dal numero dei parametri: più è piccolo e più la vostra vaalutazione sarà elevata.  \n",
        "\n",
        "#Buon lavoro!\n",
        "\n",
        "\n",
        "\n"
      ],
      "metadata": {
        "id": "jj4akvA24maJ"
      }
    },
    {
      "cell_type": "code",
      "source": [
        "import keras\n",
        "import numpy as np\n",
        "from keras import layers\n",
        "from keras import activations\n",
        "from keras import losses\n",
        "from sklearn.model_selection import train_test_split\n",
        "import keras.backend as K\n",
        "\n",
        "size = 10"
      ],
      "metadata": {
        "id": "6_wpuwNvHtmM"
      },
      "execution_count": 128,
      "outputs": []
    },
    {
      "cell_type": "code",
      "source": [
        "# def map_map(map: np.ndarray) -> np.ndarray:\n",
        "#   out = np.zeros(size * 2)\n",
        "#   point = np.argwhere(map==1)[0]\n",
        "#   out[point[0]] = 1\n",
        "#   out[size + point[1]] = 1\n",
        "#   return out\n",
        "\n",
        "def map_map(map: np.ndarray) -> np.ndarray:\n",
        "  out = np.zeros(size * 2)\n",
        "  point = np.argwhere(map==1)[0]\n",
        "  return point"
      ],
      "metadata": {
        "id": "qZzw_nMnZPO_"
      },
      "execution_count": 129,
      "outputs": []
    },
    {
      "cell_type": "code",
      "source": [
        "batch_size = 256"
      ],
      "metadata": {
        "id": "TNYi_Ln0pa29"
      },
      "execution_count": 130,
      "outputs": []
    },
    {
      "cell_type": "code",
      "source": [
        "n_train = 400000\n",
        "n_test = 20000\n",
        "\n",
        "def xy(i):\n",
        "  (theta,rho),y = i\n",
        "  res = map(map_map, y)\n",
        "  y = np.array(list(res))\n",
        "  x=np.array([i for i in zip(theta,rho)])\n",
        "  return (x,y)\n",
        "\n",
        "gcd = np.gcd(n_train, n_test)\n",
        "gen = polar_generator(gcd,grid=(size,size),noise=0.02)\n",
        "\n",
        "x_train, y_train = xy(next(gen))\n",
        "for i in range(int(n_train/gcd)-1):\n",
        "  x,y = xy(next(gen))\n",
        "  x_trian = np.concatenate((x, x_train), axis=0)\n",
        "  y_trian = np.concatenate((y, y_train), axis=0)\n",
        "\n",
        "x_test, y_test = xy(next(gen))\n",
        "for i in range(int(n_train/gcd)-1):\n",
        "  x,y = xy(next(gen))\n",
        "  x_trian = np.concatenate((x, x_test), axis=0)\n",
        "  y_trian = np.concatenate((y, y_test), axis=0)\n",
        "\n",
        "# x_train, x_test, y_train, y_test = train_test_split(x, y, test_size=n_test/(n_train+n_test), shuffle=True, random_state=1)"
      ],
      "metadata": {
        "id": "YHqHVFh8Twvy"
      },
      "execution_count": 131,
      "outputs": []
    },
    {
      "cell_type": "code",
      "source": [
        "def loss_fn(y_true, y_pred):\n",
        "  point = np.array(y_true).argwhere(x==1)[1]\n",
        "\n",
        "  x = K.mult(K.cos(y_true[:1]), y_true[:2])\n",
        "  #x = np.cos(theta[i])*rho[i]\n",
        "  #y = np.sin(theta[i])*rho[1,164  \n",
        "def point_accuracy(y_true: tf.Tensor, y_pred: tf.Tensor) -> float:\n",
        "  norm = tf.cast(tf.round(y_pred), tf.uint8)\n",
        "  return tf.equal(tf.cast(y_true, tf.uint8), norm)"
      ],
      "metadata": {
        "id": "uDmOS-jlP3LJ"
      },
      "execution_count": 132,
      "outputs": []
    },
    {
      "cell_type": "code",
      "source": [
        "model = keras.Sequential([\n",
        "    layers.Flatten(),\n",
        "    layers.Dense(8, activation=activations.swish),\n",
        "    layers.Dense(8, activation=activations.swish),\n",
        "    layers.Dense(8, activation=activations.swish),\n",
        "    layers.Dense(8, activation=activations.swish),\n",
        "    layers.Dense(8, activation=activations.swish),\n",
        "    layers.Dense(8, activation=activations.swish),\n",
        "    layers.Dense(8, activation=activations.swish),\n",
        "    layers.Dense(8, activation=activations.swish),\n",
        "    layers.Dense(8, activation=activations.swish),\n",
        "    layers.Dense(8, activation=activations.swish),\n",
        "    layers.Dense(8, activation=activations.swish),\n",
        "    layers.Dense(8, activation=activations.swish),\n",
        "    layers.Dense(8, activation=activations.swish),\n",
        "    layers.Dense(8, activation=activations.swish),\n",
        "\n",
        "\n",
        "    layers.Dense(2, activation=activations.relu)\n",
        "])\n",
        "model.build((None, 2))\n",
        "model.summary()\n",
        "model.compile(\n",
        "    optimizer=keras.optimizers.Adam(learning_rate=1e-3),\n",
        "    loss=losses.MeanSquaredError(),\n",
        "    metrics=['accuracy', point_accuracy]\n",
        ")"
      ],
      "metadata": {
        "colab": {
          "base_uri": "https://localhost:8080/"
        },
        "id": "b31UJpXIHkqx",
        "outputId": "74a3dbac-db31-472e-ba94-924c230d12d4"
      },
      "execution_count": 164,
      "outputs": [
        {
          "output_type": "stream",
          "name": "stdout",
          "text": [
            "Model: \"sequential_31\"\n",
            "_________________________________________________________________\n",
            " Layer (type)                Output Shape              Param #   \n",
            "=================================================================\n",
            " flatten_32 (Flatten)        (None, 2)                 0         \n",
            "                                                                 \n",
            " dense_128 (Dense)           (None, 8)                 24        \n",
            "                                                                 \n",
            " dense_129 (Dense)           (None, 8)                 72        \n",
            "                                                                 \n",
            " dense_130 (Dense)           (None, 8)                 72        \n",
            "                                                                 \n",
            " dense_131 (Dense)           (None, 8)                 72        \n",
            "                                                                 \n",
            " dense_132 (Dense)           (None, 8)                 72        \n",
            "                                                                 \n",
            " dense_133 (Dense)           (None, 8)                 72        \n",
            "                                                                 \n",
            " dense_134 (Dense)           (None, 8)                 72        \n",
            "                                                                 \n",
            " dense_135 (Dense)           (None, 8)                 72        \n",
            "                                                                 \n",
            " dense_136 (Dense)           (None, 8)                 72        \n",
            "                                                                 \n",
            " dense_137 (Dense)           (None, 8)                 72        \n",
            "                                                                 \n",
            " dense_138 (Dense)           (None, 8)                 72        \n",
            "                                                                 \n",
            " dense_139 (Dense)           (None, 8)                 72        \n",
            "                                                                 \n",
            " dense_140 (Dense)           (None, 8)                 72        \n",
            "                                                                 \n",
            " dense_141 (Dense)           (None, 8)                 72        \n",
            "                                                                 \n",
            " dense_142 (Dense)           (None, 2)                 18        \n",
            "                                                                 \n",
            "=================================================================\n",
            "Total params: 978\n",
            "Trainable params: 978\n",
            "Non-trainable params: 0\n",
            "_________________________________________________________________\n"
          ]
        }
      ]
    },
    {
      "cell_type": "code",
      "source": [
        "history = model.fit(\n",
        "    x_train,\n",
        "    y_train,\n",
        "    epochs=100,# 300,\n",
        "    batch_size=batch_size\n",
        ")"
      ],
      "metadata": {
        "id": "jxYv1xHFrAY2",
        "outputId": "e2b41a74-bbd7-43a1-fabf-e956050674cd",
        "colab": {
          "base_uri": "https://localhost:8080/"
        }
      },
      "execution_count": 166,
      "outputs": [
        {
          "output_type": "stream",
          "name": "stdout",
          "text": [
            "Epoch 1/100\n",
            "79/79 [==============================] - 0s 3ms/step - loss: 0.2635 - accuracy: 0.9384 - point_accuracy: 0.7270\n",
            "Epoch 2/100\n",
            "79/79 [==============================] - 0s 3ms/step - loss: 0.2086 - accuracy: 0.9419 - point_accuracy: 0.7679\n",
            "Epoch 3/100\n",
            "79/79 [==============================] - 0s 3ms/step - loss: 0.1994 - accuracy: 0.9414 - point_accuracy: 0.7700\n",
            "Epoch 4/100\n",
            "79/79 [==============================] - 0s 2ms/step - loss: 0.1860 - accuracy: 0.9446 - point_accuracy: 0.7818\n",
            "Epoch 5/100\n",
            "79/79 [==============================] - 0s 3ms/step - loss: 0.1830 - accuracy: 0.9431 - point_accuracy: 0.7763\n",
            "Epoch 6/100\n",
            "79/79 [==============================] - 0s 2ms/step - loss: 0.1546 - accuracy: 0.9432 - point_accuracy: 0.8125\n",
            "Epoch 7/100\n",
            "79/79 [==============================] - 0s 2ms/step - loss: 0.1374 - accuracy: 0.9430 - point_accuracy: 0.8314\n",
            "Epoch 8/100\n",
            "79/79 [==============================] - 0s 2ms/step - loss: 0.1283 - accuracy: 0.9424 - point_accuracy: 0.8555\n",
            "Epoch 9/100\n",
            "79/79 [==============================] - 0s 2ms/step - loss: 0.1271 - accuracy: 0.9472 - point_accuracy: 0.8682\n",
            "Epoch 10/100\n",
            "79/79 [==============================] - 0s 2ms/step - loss: 0.1230 - accuracy: 0.9480 - point_accuracy: 0.8742\n",
            "Epoch 11/100\n",
            "79/79 [==============================] - 0s 2ms/step - loss: 0.1189 - accuracy: 0.9492 - point_accuracy: 0.8769\n",
            "Epoch 12/100\n",
            "79/79 [==============================] - 0s 2ms/step - loss: 0.1182 - accuracy: 0.9495 - point_accuracy: 0.8756\n",
            "Epoch 13/100\n",
            "79/79 [==============================] - 0s 2ms/step - loss: 0.1096 - accuracy: 0.9480 - point_accuracy: 0.8920\n",
            "Epoch 14/100\n",
            "79/79 [==============================] - 0s 2ms/step - loss: 0.1123 - accuracy: 0.9486 - point_accuracy: 0.8931\n",
            "Epoch 15/100\n",
            "79/79 [==============================] - 0s 2ms/step - loss: 0.1096 - accuracy: 0.9494 - point_accuracy: 0.8920\n",
            "Epoch 16/100\n",
            "79/79 [==============================] - 0s 2ms/step - loss: 0.1042 - accuracy: 0.9500 - point_accuracy: 0.8994\n",
            "Epoch 17/100\n",
            "79/79 [==============================] - 0s 2ms/step - loss: 0.1025 - accuracy: 0.9474 - point_accuracy: 0.9032\n",
            "Epoch 18/100\n",
            "79/79 [==============================] - 0s 2ms/step - loss: 0.0975 - accuracy: 0.9495 - point_accuracy: 0.9078\n",
            "Epoch 19/100\n",
            "79/79 [==============================] - 0s 2ms/step - loss: 0.0965 - accuracy: 0.9484 - point_accuracy: 0.9140\n",
            "Epoch 20/100\n",
            "79/79 [==============================] - 0s 2ms/step - loss: 0.0956 - accuracy: 0.9464 - point_accuracy: 0.9155\n",
            "Epoch 21/100\n",
            "79/79 [==============================] - 0s 2ms/step - loss: 0.0924 - accuracy: 0.9463 - point_accuracy: 0.9217\n",
            "Epoch 22/100\n",
            "79/79 [==============================] - 0s 2ms/step - loss: 0.0954 - accuracy: 0.9470 - point_accuracy: 0.9146\n",
            "Epoch 23/100\n",
            "79/79 [==============================] - 0s 2ms/step - loss: 0.0930 - accuracy: 0.9471 - point_accuracy: 0.9200\n",
            "Epoch 24/100\n",
            "79/79 [==============================] - 0s 2ms/step - loss: 0.0918 - accuracy: 0.9461 - point_accuracy: 0.9206\n",
            "Epoch 25/100\n",
            "79/79 [==============================] - 0s 2ms/step - loss: 0.0937 - accuracy: 0.9467 - point_accuracy: 0.9144\n",
            "Epoch 26/100\n",
            "79/79 [==============================] - 0s 2ms/step - loss: 0.0904 - accuracy: 0.9457 - point_accuracy: 0.9221\n",
            "Epoch 27/100\n",
            "79/79 [==============================] - 0s 2ms/step - loss: 0.0882 - accuracy: 0.9460 - point_accuracy: 0.9294\n",
            "Epoch 28/100\n",
            "79/79 [==============================] - 0s 2ms/step - loss: 0.0895 - accuracy: 0.9459 - point_accuracy: 0.9207\n",
            "Epoch 29/100\n",
            "79/79 [==============================] - 0s 2ms/step - loss: 0.0879 - accuracy: 0.9454 - point_accuracy: 0.9275\n",
            "Epoch 30/100\n",
            "79/79 [==============================] - 0s 2ms/step - loss: 0.0898 - accuracy: 0.9446 - point_accuracy: 0.9224\n",
            "Epoch 31/100\n",
            "79/79 [==============================] - 0s 2ms/step - loss: 0.0869 - accuracy: 0.9446 - point_accuracy: 0.9315\n",
            "Epoch 32/100\n",
            "79/79 [==============================] - 0s 2ms/step - loss: 0.0861 - accuracy: 0.9449 - point_accuracy: 0.9341\n",
            "Epoch 33/100\n",
            "79/79 [==============================] - 0s 2ms/step - loss: 0.0855 - accuracy: 0.9445 - point_accuracy: 0.9365\n",
            "Epoch 34/100\n",
            "79/79 [==============================] - 0s 2ms/step - loss: 0.0847 - accuracy: 0.9448 - point_accuracy: 0.9397\n",
            "Epoch 35/100\n",
            "79/79 [==============================] - 0s 2ms/step - loss: 0.0845 - accuracy: 0.9455 - point_accuracy: 0.9380\n",
            "Epoch 36/100\n",
            "79/79 [==============================] - 0s 2ms/step - loss: 0.0842 - accuracy: 0.9464 - point_accuracy: 0.9405\n",
            "Epoch 37/100\n",
            "79/79 [==============================] - 0s 2ms/step - loss: 0.0842 - accuracy: 0.9450 - point_accuracy: 0.9397\n",
            "Epoch 38/100\n",
            "79/79 [==============================] - 0s 2ms/step - loss: 0.0837 - accuracy: 0.9452 - point_accuracy: 0.9437\n",
            "Epoch 39/100\n",
            "79/79 [==============================] - 0s 2ms/step - loss: 0.0841 - accuracy: 0.9459 - point_accuracy: 0.9401\n",
            "Epoch 40/100\n",
            "79/79 [==============================] - 0s 2ms/step - loss: 0.0840 - accuracy: 0.9471 - point_accuracy: 0.9404\n",
            "Epoch 41/100\n",
            "79/79 [==============================] - 0s 2ms/step - loss: 0.0838 - accuracy: 0.9467 - point_accuracy: 0.9414\n",
            "Epoch 42/100\n",
            "79/79 [==============================] - 0s 2ms/step - loss: 0.0833 - accuracy: 0.9444 - point_accuracy: 0.9428\n",
            "Epoch 43/100\n",
            "79/79 [==============================] - 0s 3ms/step - loss: 0.0845 - accuracy: 0.9466 - point_accuracy: 0.9381\n",
            "Epoch 44/100\n",
            "79/79 [==============================] - 0s 2ms/step - loss: 0.0846 - accuracy: 0.9464 - point_accuracy: 0.9383\n",
            "Epoch 45/100\n",
            "79/79 [==============================] - 0s 2ms/step - loss: 0.0845 - accuracy: 0.9470 - point_accuracy: 0.9376\n",
            "Epoch 46/100\n",
            "79/79 [==============================] - 0s 2ms/step - loss: 0.0827 - accuracy: 0.9467 - point_accuracy: 0.9452\n",
            "Epoch 47/100\n",
            "79/79 [==============================] - 0s 2ms/step - loss: 0.0830 - accuracy: 0.9459 - point_accuracy: 0.9441\n",
            "Epoch 48/100\n",
            "79/79 [==============================] - 0s 2ms/step - loss: 0.0839 - accuracy: 0.9461 - point_accuracy: 0.9432\n",
            "Epoch 49/100\n",
            "79/79 [==============================] - 0s 2ms/step - loss: 0.0820 - accuracy: 0.9473 - point_accuracy: 0.9495\n",
            "Epoch 50/100\n",
            "79/79 [==============================] - 0s 2ms/step - loss: 0.0839 - accuracy: 0.9468 - point_accuracy: 0.9378\n",
            "Epoch 51/100\n",
            "79/79 [==============================] - 0s 2ms/step - loss: 0.0839 - accuracy: 0.9463 - point_accuracy: 0.9410\n",
            "Epoch 52/100\n",
            "79/79 [==============================] - 0s 2ms/step - loss: 0.0826 - accuracy: 0.9474 - point_accuracy: 0.9491\n",
            "Epoch 53/100\n",
            "79/79 [==============================] - 0s 2ms/step - loss: 0.0827 - accuracy: 0.9469 - point_accuracy: 0.9478\n",
            "Epoch 54/100\n",
            "79/79 [==============================] - 0s 2ms/step - loss: 0.0817 - accuracy: 0.9469 - point_accuracy: 0.9492\n",
            "Epoch 55/100\n",
            "79/79 [==============================] - 0s 2ms/step - loss: 0.0843 - accuracy: 0.9471 - point_accuracy: 0.9420\n",
            "Epoch 56/100\n",
            "79/79 [==============================] - 0s 2ms/step - loss: 0.0854 - accuracy: 0.9479 - point_accuracy: 0.9365\n",
            "Epoch 57/100\n",
            "79/79 [==============================] - 0s 2ms/step - loss: 0.0832 - accuracy: 0.9489 - point_accuracy: 0.9479\n",
            "Epoch 58/100\n",
            "79/79 [==============================] - 0s 2ms/step - loss: 0.0838 - accuracy: 0.9474 - point_accuracy: 0.9433\n",
            "Epoch 59/100\n",
            "79/79 [==============================] - 0s 2ms/step - loss: 0.0835 - accuracy: 0.9470 - point_accuracy: 0.9435\n",
            "Epoch 60/100\n",
            "79/79 [==============================] - 0s 2ms/step - loss: 0.0817 - accuracy: 0.9468 - point_accuracy: 0.9517\n",
            "Epoch 61/100\n",
            "79/79 [==============================] - 0s 2ms/step - loss: 0.0818 - accuracy: 0.9468 - point_accuracy: 0.9509\n",
            "Epoch 62/100\n",
            "79/79 [==============================] - 0s 2ms/step - loss: 0.0842 - accuracy: 0.9470 - point_accuracy: 0.9389\n",
            "Epoch 63/100\n",
            "79/79 [==============================] - 0s 2ms/step - loss: 0.0833 - accuracy: 0.9464 - point_accuracy: 0.9449\n",
            "Epoch 64/100\n",
            "79/79 [==============================] - 0s 2ms/step - loss: 0.0820 - accuracy: 0.9470 - point_accuracy: 0.9494\n",
            "Epoch 65/100\n",
            "79/79 [==============================] - 0s 2ms/step - loss: 0.0826 - accuracy: 0.9473 - point_accuracy: 0.9454\n",
            "Epoch 66/100\n",
            "79/79 [==============================] - 0s 2ms/step - loss: 0.0822 - accuracy: 0.9470 - point_accuracy: 0.9482\n",
            "Epoch 67/100\n",
            "79/79 [==============================] - 0s 2ms/step - loss: 0.0830 - accuracy: 0.9469 - point_accuracy: 0.9445\n",
            "Epoch 68/100\n",
            "79/79 [==============================] - 0s 2ms/step - loss: 0.0826 - accuracy: 0.9470 - point_accuracy: 0.9461\n",
            "Epoch 69/100\n",
            "79/79 [==============================] - 0s 2ms/step - loss: 0.0833 - accuracy: 0.9471 - point_accuracy: 0.9431\n",
            "Epoch 70/100\n",
            "79/79 [==============================] - 0s 2ms/step - loss: 0.0813 - accuracy: 0.9459 - point_accuracy: 0.9528\n",
            "Epoch 71/100\n",
            "79/79 [==============================] - 0s 3ms/step - loss: 0.0828 - accuracy: 0.9467 - point_accuracy: 0.9442\n",
            "Epoch 72/100\n",
            "79/79 [==============================] - 0s 3ms/step - loss: 0.0823 - accuracy: 0.9480 - point_accuracy: 0.9469\n",
            "Epoch 73/100\n",
            "79/79 [==============================] - 0s 2ms/step - loss: 0.0828 - accuracy: 0.9457 - point_accuracy: 0.9461\n",
            "Epoch 74/100\n",
            "79/79 [==============================] - 0s 2ms/step - loss: 0.0819 - accuracy: 0.9476 - point_accuracy: 0.9496\n",
            "Epoch 75/100\n",
            "79/79 [==============================] - 0s 2ms/step - loss: 0.0863 - accuracy: 0.9467 - point_accuracy: 0.9303\n",
            "Epoch 76/100\n",
            "79/79 [==============================] - 0s 2ms/step - loss: 0.0818 - accuracy: 0.9489 - point_accuracy: 0.9502\n",
            "Epoch 77/100\n",
            "79/79 [==============================] - 0s 2ms/step - loss: 0.0823 - accuracy: 0.9481 - point_accuracy: 0.9463\n",
            "Epoch 78/100\n",
            "79/79 [==============================] - 0s 2ms/step - loss: 0.0810 - accuracy: 0.9482 - point_accuracy: 0.9530\n",
            "Epoch 79/100\n",
            "79/79 [==============================] - 0s 2ms/step - loss: 0.0814 - accuracy: 0.9473 - point_accuracy: 0.9513\n",
            "Epoch 80/100\n",
            "79/79 [==============================] - 0s 2ms/step - loss: 0.0833 - accuracy: 0.9466 - point_accuracy: 0.9425\n",
            "Epoch 81/100\n",
            "79/79 [==============================] - 0s 3ms/step - loss: 0.0818 - accuracy: 0.9482 - point_accuracy: 0.9513\n",
            "Epoch 82/100\n",
            "79/79 [==============================] - 0s 2ms/step - loss: 0.0813 - accuracy: 0.9483 - point_accuracy: 0.9512\n",
            "Epoch 83/100\n",
            "79/79 [==============================] - 0s 2ms/step - loss: 0.0824 - accuracy: 0.9477 - point_accuracy: 0.9465\n",
            "Epoch 84/100\n",
            "79/79 [==============================] - 0s 2ms/step - loss: 0.0808 - accuracy: 0.9495 - point_accuracy: 0.9538\n",
            "Epoch 85/100\n",
            "79/79 [==============================] - 0s 2ms/step - loss: 0.0818 - accuracy: 0.9474 - point_accuracy: 0.9503\n",
            "Epoch 86/100\n",
            "79/79 [==============================] - 0s 2ms/step - loss: 0.0816 - accuracy: 0.9469 - point_accuracy: 0.9534\n",
            "Epoch 87/100\n",
            "79/79 [==============================] - 0s 2ms/step - loss: 0.0820 - accuracy: 0.9479 - point_accuracy: 0.9468\n",
            "Epoch 88/100\n",
            "79/79 [==============================] - 0s 2ms/step - loss: 0.0815 - accuracy: 0.9473 - point_accuracy: 0.9490\n",
            "Epoch 89/100\n",
            "79/79 [==============================] - 0s 2ms/step - loss: 0.0823 - accuracy: 0.9475 - point_accuracy: 0.9496\n",
            "Epoch 90/100\n",
            "79/79 [==============================] - 0s 2ms/step - loss: 0.0817 - accuracy: 0.9477 - point_accuracy: 0.9527\n",
            "Epoch 91/100\n",
            "79/79 [==============================] - 0s 2ms/step - loss: 0.0827 - accuracy: 0.9487 - point_accuracy: 0.9460\n",
            "Epoch 92/100\n",
            "79/79 [==============================] - 0s 2ms/step - loss: 0.0807 - accuracy: 0.9479 - point_accuracy: 0.9541\n",
            "Epoch 93/100\n",
            "79/79 [==============================] - 0s 2ms/step - loss: 0.0812 - accuracy: 0.9484 - point_accuracy: 0.9501\n",
            "Epoch 94/100\n",
            "79/79 [==============================] - 0s 2ms/step - loss: 0.0822 - accuracy: 0.9463 - point_accuracy: 0.9472\n",
            "Epoch 95/100\n",
            "79/79 [==============================] - 0s 2ms/step - loss: 0.0828 - accuracy: 0.9470 - point_accuracy: 0.9443\n",
            "Epoch 96/100\n",
            "79/79 [==============================] - 0s 2ms/step - loss: 0.0817 - accuracy: 0.9473 - point_accuracy: 0.9496\n",
            "Epoch 97/100\n",
            "79/79 [==============================] - 0s 2ms/step - loss: 0.0808 - accuracy: 0.9481 - point_accuracy: 0.9539\n",
            "Epoch 98/100\n",
            "79/79 [==============================] - 0s 2ms/step - loss: 0.0823 - accuracy: 0.9477 - point_accuracy: 0.9477\n",
            "Epoch 99/100\n",
            "79/79 [==============================] - 0s 2ms/step - loss: 0.0817 - accuracy: 0.9470 - point_accuracy: 0.9486\n",
            "Epoch 100/100\n",
            "79/79 [==============================] - 0s 2ms/step - loss: 0.0815 - accuracy: 0.9470 - point_accuracy: 0.9496\n"
          ]
        }
      ]
    },
    {
      "cell_type": "code",
      "source": [
        "score, _, acc = model.evaluate(x_test, y_test,\n",
        "                            batch_size=batch_size)\n",
        "print(x_test.shape, y_test.shape)\n",
        "print('Test score:', score)\n",
        "print('Accuracy: {:.1f}%'.format(acc*100))\n",
        "\n",
        "accs = []\n",
        "for x in range(50):\n",
        "  (theta,rho),y = next(gen)\n",
        "  x=np.array([i for i in zip(theta,rho)])\n",
        "  y = np.array(list(map(map_map, y)))\n",
        "\n",
        "  score, _, acc = model.evaluate(x, y, batch_size=batch_size)\n",
        "  accs.append(acc)\n",
        "\n",
        "\n",
        "acc = np.mean(accs)\n",
        "print('Accuracy: {:.1f}%'.format(acc*100))"
      ],
      "metadata": {
        "colab": {
          "base_uri": "https://localhost:8080/"
        },
        "id": "CxuyWeFvVWXN",
        "outputId": "4c2a8e05-1906-4e9f-c26c-6b120e567491"
      },
      "execution_count": null,
      "outputs": [
        {
          "output_type": "stream",
          "name": "stdout",
          "text": [
            "79/79 [==============================] - 0s 2ms/step - loss: 0.1116 - accuracy: 0.9704 - point_accuracy: 0.8452\n",
            "(20000, 2) (20000, 2)\n",
            "Test score: 0.11163769662380219\n",
            "Accuracy: 84.5%\n",
            "79/79 [==============================] - 0s 3ms/step - loss: 0.1505 - accuracy: 0.9603 - point_accuracy: 0.7632\n",
            "79/79 [==============================] - 0s 2ms/step - loss: 0.1180 - accuracy: 0.9267 - point_accuracy: 0.8390\n",
            "79/79 [==============================] - 0s 2ms/step - loss: 0.1445 - accuracy: 0.9706 - point_accuracy: 0.7784\n",
            "79/79 [==============================] - 0s 2ms/step - loss: 0.1134 - accuracy: 0.9604 - point_accuracy: 0.8426\n",
            "79/79 [==============================] - 0s 2ms/step - loss: 0.1046 - accuracy: 0.9422 - point_accuracy: 0.8643\n",
            "79/79 [==============================] - 0s 3ms/step - loss: 0.1314 - accuracy: 0.9678 - point_accuracy: 0.8205\n",
            "79/79 [==============================] - 0s 2ms/step - loss: 0.1704 - accuracy: 0.9664 - point_accuracy: 0.7394\n",
            "79/79 [==============================] - 0s 2ms/step - loss: 0.0992 - accuracy: 0.9323 - point_accuracy: 0.8851\n",
            "79/79 [==============================] - 0s 2ms/step - loss: 0.2120 - accuracy: 0.9655 - point_accuracy: 0.6838\n",
            "79/79 [==============================] - 0s 2ms/step - loss: 0.0834 - accuracy: 0.9577 - point_accuracy: 0.9427\n",
            "79/79 [==============================] - 0s 2ms/step - loss: 0.1055 - accuracy: 0.9607 - point_accuracy: 0.8690\n",
            "79/79 [==============================] - 0s 3ms/step - loss: 0.2834 - accuracy: 0.9550 - point_accuracy: 0.5857\n",
            "79/79 [==============================] - 0s 2ms/step - loss: 0.2225 - accuracy: 0.9693 - point_accuracy: 0.6902\n",
            "79/79 [==============================] - 0s 3ms/step - loss: 0.1047 - accuracy: 0.9696 - point_accuracy: 0.8614\n",
            "79/79 [==============================] - 0s 2ms/step - loss: 0.1305 - accuracy: 0.9725 - point_accuracy: 0.8036\n",
            "79/79 [==============================] - 0s 2ms/step - loss: 0.1665 - accuracy: 0.9674 - point_accuracy: 0.7448\n",
            "79/79 [==============================] - 0s 3ms/step - loss: 0.0927 - accuracy: 0.9533 - point_accuracy: 0.9016\n",
            "79/79 [==============================] - 0s 2ms/step - loss: 0.0988 - accuracy: 0.9488 - point_accuracy: 0.8814\n",
            "79/79 [==============================] - 0s 2ms/step - loss: 0.0981 - accuracy: 0.9412 - point_accuracy: 0.8817\n",
            "79/79 [==============================] - 0s 3ms/step - loss: 0.1164 - accuracy: 0.9664 - point_accuracy: 0.8486\n",
            "79/79 [==============================] - 0s 3ms/step - loss: 0.0870 - accuracy: 0.9586 - point_accuracy: 0.9290\n",
            "79/79 [==============================] - 0s 2ms/step - loss: 0.1307 - accuracy: 0.9355 - point_accuracy: 0.8037\n",
            "79/79 [==============================] - 0s 3ms/step - loss: 0.0909 - accuracy: 0.9502 - point_accuracy: 0.9098\n",
            "79/79 [==============================] - 0s 3ms/step - loss: 0.1077 - accuracy: 0.9677 - point_accuracy: 0.8692\n",
            "79/79 [==============================] - 0s 2ms/step - loss: 0.0913 - accuracy: 0.9421 - point_accuracy: 0.9022\n",
            "79/79 [==============================] - 0s 2ms/step - loss: 0.1277 - accuracy: 0.9702 - point_accuracy: 0.8225\n",
            "79/79 [==============================] - 0s 3ms/step - loss: 0.1499 - accuracy: 0.9728 - point_accuracy: 0.7753\n",
            "79/79 [==============================] - 0s 3ms/step - loss: 0.1163 - accuracy: 0.9530 - point_accuracy: 0.8323\n",
            "79/79 [==============================] - 0s 3ms/step - loss: 0.0920 - accuracy: 0.9373 - point_accuracy: 0.9014\n",
            "79/79 [==============================] - 0s 2ms/step - loss: 0.2158 - accuracy: 0.9719 - point_accuracy: 0.6955\n",
            "79/79 [==============================] - 0s 3ms/step - loss: 0.0955 - accuracy: 0.9669 - point_accuracy: 0.8939\n",
            "79/79 [==============================] - 0s 3ms/step - loss: 0.1067 - accuracy: 0.9712 - point_accuracy: 0.8555\n",
            "79/79 [==============================] - 0s 2ms/step - loss: 0.1732 - accuracy: 0.9695 - point_accuracy: 0.7505\n",
            "79/79 [==============================] - 0s 2ms/step - loss: 0.0937 - accuracy: 0.9501 - point_accuracy: 0.9001\n",
            "79/79 [==============================] - 0s 4ms/step - loss: 0.1241 - accuracy: 0.9658 - point_accuracy: 0.8326\n",
            "79/79 [==============================] - 0s 3ms/step - loss: 0.0912 - accuracy: 0.9559 - point_accuracy: 0.9086\n",
            "79/79 [==============================] - 0s 2ms/step - loss: 0.0982 - accuracy: 0.9603 - point_accuracy: 0.8869\n",
            "79/79 [==============================] - 0s 2ms/step - loss: 0.1653 - accuracy: 0.9668 - point_accuracy: 0.7572\n",
            "79/79 [==============================] - 0s 3ms/step - loss: 0.0971 - accuracy: 0.9654 - point_accuracy: 0.8946\n",
            "79/79 [==============================] - 0s 3ms/step - loss: 0.0861 - accuracy: 0.9417 - point_accuracy: 0.9238\n",
            "79/79 [==============================] - 0s 3ms/step - loss: 0.1419 - accuracy: 0.9399 - point_accuracy: 0.7802\n",
            "79/79 [==============================] - 0s 2ms/step - loss: 0.2337 - accuracy: 0.9609 - point_accuracy: 0.6461\n"
          ]
        }
      ]
    },
    {
      "cell_type": "code",
      "source": [
        "x,y = xy(next(gen))\n",
        "y_pred = model.predict(x[:1])\n",
        "print(y[0], np.round(y_pred))"
      ],
      "metadata": {
        "colab": {
          "base_uri": "https://localhost:8080/"
        },
        "id": "PlL3N3WT0cAA",
        "outputId": "4f76ad53-5272-4dda-c371-08aa180eeffc"
      },
      "execution_count": 145,
      "outputs": [
        {
          "output_type": "stream",
          "name": "stdout",
          "text": [
            "1/1 [==============================] - 0s 13ms/step\n",
            "[0 5] [[0. 6.]]\n"
          ]
        }
      ]
    }
  ]
}