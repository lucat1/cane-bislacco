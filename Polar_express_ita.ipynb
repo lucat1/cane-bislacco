{
  "nbformat": 4,
  "nbformat_minor": 0,
  "metadata": {
    "colab": {
      "provenance": [],
      "include_colab_link": true
    },
    "kernelspec": {
      "name": "python3",
      "display_name": "Python 3"
    },
    "language_info": {
      "name": "python"
    },
    "accelerator": "GPU",
    "gpuClass": "standard"
  },
  "cells": [
    {
      "cell_type": "markdown",
      "metadata": {
        "id": "view-in-github",
        "colab_type": "text"
      },
      "source": [
        "<a href=\"https://colab.research.google.com/github/lucat1/cane-bislacco/blob/main/Polar_express_ita.ipynb\" target=\"_parent\"><img src=\"https://colab.research.google.com/assets/colab-badge.svg\" alt=\"Open In Colab\"/></a>"
      ]
    },
    {
      "cell_type": "markdown",
      "source": [
        "\n",
        "L'obiettivo del progetto è apprendere mediante una rete neurale la trasformazione da punti del piano espressi in coordinate polari ad una rappresentazione basata su di una griglia discreta di dimensione 10x10, dove la cella della griglia ha valore 1 se contiene il punto, e 0 altrimenti.\n",
        "\n",
        "Il dataset supervisionato è fornito in questo notebook nella forma di una generatore. Il generatore deve essere considerato come una \"scatola nera\" il cui comportamento deve essere appreso. \n",
        "\n",
        "Dovete progettare una rete neurale in grado di raggiungere una accuratezza del 95%. Questa è una condizione necessaria per superare l'esame, ma l'accuratezza non influisce in altro modo sulla valutazione.  \n",
        "\n",
        "I modelli che raggiungono l'accuratezza attesa saranno invece valutati in modo inversamente proporzionale al numero dei loro parametri: **più il modello è piccolo, meglio è.**\n",
        "\n",
        "\n",
        "**Attenzione**: Qualunque soluzione che tragga vantaggio, diretto o indiretto, da meta-conoscenza relativa al generatore sarà automaticamente bocciato.\n"
      ],
      "metadata": {
        "id": "Zw_326KLT9dF"
      }
    },
    {
      "cell_type": "code",
      "execution_count": 4,
      "metadata": {
        "id": "ynz-4_4cFmbJ"
      },
      "outputs": [],
      "source": [
        "import numpy as np\n",
        "import tensorflow as tf\n",
        "from tensorflow.keras.layers import Input, Dense, Reshape, concatenate\n",
        "from tensorflow.keras.models import Model"
      ]
    },
    {
      "cell_type": "markdown",
      "source": [
        "Veniamo al generatore. Questo restituisce delle triple della forma\n",
        "((theta,rho),out) dove (theta,rho) sono le coordinate polari di un punto nel primo quadrante del piano, e out è una mappa 10x10 con \"1\" in correspondenza alla cella che contiene il punto, e \"0\" altrimenti.\n",
        "\n",
        "Settando  flat=True, la mappa 10x10 viene appiattita ad un vettore di dimensione 100. Potete utilizzare questa variante, se preferite. Nessuna altra modifica del generatore è ammessa. "
      ],
      "metadata": {
        "id": "iA01pkKbUt7Q"
      }
    },
    {
      "cell_type": "code",
      "source": [
        "def polar_generator(batchsize,grid=(10,10),noise=.002,flat=False):\n",
        "  while True:\n",
        "    x = np.random.rand(batchsize)\n",
        "    y = np.random.rand(batchsize)\n",
        "    out = np.zeros((batchsize,grid[0],grid[1]))\n",
        "    xc = (x*grid[0]).astype(int)\n",
        "    yc = (y*grid[1]).astype(int)\n",
        "    for b in range(batchsize):\n",
        "      out[b,xc[b],yc[b]] = 1\n",
        "    #compute rho and theta and add some noise\n",
        "    rho = np.sqrt(x**2+y**2) + np.random.normal(scale=noise)\n",
        "    theta = np.arctan(y/np.maximum(x,.00001)) + np.random.normal(scale=noise)\n",
        "    if flat:\n",
        "      out = np.reshape(out,(batchsize,grid[0]*grid[1]))\n",
        "    yield ((theta,rho),out)"
      ],
      "metadata": {
        "id": "DsA1GqAeWAdo"
      },
      "execution_count": 5,
      "outputs": []
    },
    {
      "cell_type": "markdown",
      "source": [
        "Creiamo una istanza del generatore con una griglia di dimensione 3x4"
      ],
      "metadata": {
        "id": "ZF-jlaqAWc2o"
      }
    },
    {
      "cell_type": "code",
      "source": [
        "g1,g2 = 3,4\n",
        "gen = polar_generator(1,grid=(g1,g2),noise=0.0)"
      ],
      "metadata": {
        "id": "Ov3rXaLVHDCT"
      },
      "execution_count": 3,
      "outputs": []
    },
    {
      "cell_type": "markdown",
      "source": [
        "... e osserviamo qualche esempio"
      ],
      "metadata": {
        "id": "b4hntQtSWjPk"
      }
    },
    {
      "cell_type": "code",
      "source": [
        "(theta,rho),maps = next(gen)\n",
        "for i,map in enumerate(maps):\n",
        "  #let us compute the cartesian coordinates\n",
        "  x = np.cos(theta[i])*rho[i]\n",
        "  y = np.sin(theta[i])*rho[i]\n",
        "  print(\"x coordinate (row): {}\".format(int(x*g1)))\n",
        "  print(\"y coordinate (col): {}\".format(int(y*g2)))\n",
        "  print(\"map:\")\n",
        "  print(np.reshape(map,(g1,g2)))"
      ],
      "metadata": {
        "colab": {
          "base_uri": "https://localhost:8080/"
        },
        "id": "PM7R8ZZZHN7p",
        "outputId": "a3791928-725c-42c9-df64-082460d55086"
      },
      "execution_count": 4,
      "outputs": [
        {
          "output_type": "stream",
          "name": "stdout",
          "text": [
            "x coordinate (row): 1\n",
            "y coordinate (col): 1\n",
            "map:\n",
            "[[0. 0. 0. 0.]\n",
            " [0. 1. 0. 0.]\n",
            " [0. 0. 0. 0.]]\n"
          ]
        }
      ]
    },
    {
      "cell_type": "markdown",
      "source": [],
      "metadata": {
        "id": "W7kw_K2HNlSg"
      }
    },
    {
      "cell_type": "markdown",
      "source": [
        "Utile esercizio: aggiungete rumore al generatore e verificate l'effetto sulla\n",
        "\"ground truth\"."
      ],
      "metadata": {
        "id": "NTY5fu8Hg7RE"
      }
    },
    {
      "cell_type": "markdown",
      "source": [
        "# Cosa consegnare\n",
        "\n",
        "Ai fini del progetto dovete lavorare con la **griglia di default di dimensione 10x10, e con il rumore di default .002**\n",
        "\n",
        "il generatore deve essere trattato come una scatola nera: non modificatelo e non sfruttate la sua semantica, che si suppone ignota. Potete lavorare in modlaità \"flat\", se preferite.\n",
        "\n",
        "Dovete:\n",
        "\n",
        "1.   definire una funzione per il calcolo della accuratezza (potete prendere ispirazione dal cocice della cella precedente) \n",
        "2.   definire una rete neurale che prende in input theta e rho e restituisce out\n",
        "3.  misurare l'accuratezza della rete, che deve essere maggiore o uguale del 95%; l'accuratezza deve essere misurata su almeno 20000 dati\n",
        "4. perfezionare il modello cercando di diminuire il più possibile il numero dei parametri mantenendo una accuratezza superiore al 95%. Solo la vostra rete migliore deve essere consegnata.\n",
        "\n",
        "Dovete consegnare un UNICO notebook eseguibile su colab, che contenga il codice della rete, il suo sommario con il numero dei parametri, la storia di training, il codice per il calcolo della accuratezza e la sua valutazione sulla vostra rete.\n",
        "\n",
        "**N.B.** L'accuratezza deve essere superiore o uguale a 95%, ma non influisce in altro modo sulla valutazione. Il vostro punteggio dipenderà unicamente dal numero dei parametri: più è piccolo e più la vostra vaalutazione sarà elevata.  \n",
        "\n",
        "#Buon lavoro!\n",
        "\n",
        "\n",
        "\n"
      ],
      "metadata": {
        "id": "jj4akvA24maJ"
      }
    },
    {
      "cell_type": "code",
      "source": [
        "import keras\n",
        "import numpy as np\n",
        "from keras import layers\n",
        "from keras import activations\n",
        "from keras import losses\n",
        "from sklearn.model_selection import train_test_split\n",
        "import keras.backend as K"
      ],
      "metadata": {
        "id": "6_wpuwNvHtmM"
      },
      "execution_count": 9,
      "outputs": []
    },
    {
      "cell_type": "code",
      "source": [
        "n_train = 40000\n",
        "n_test = 2000\n",
        "batch_size = 128\n",
        "\n",
        "g1,g2 = 10,10\n",
        "gen = polar_generator(n_train+n_test,grid=(g1,g2),noise=0.02,flat=True)\n",
        "(theta,rho),y = next(gen)\n",
        "x=np.array([i for i in zip(theta,rho)])\n",
        "\n",
        "x_train, x_test, y_train, y_test = train_test_split(x, y, test_size=n_test/(n_train+n_test), shuffle=True, random_state=1)"
      ],
      "metadata": {
        "id": "YHqHVFh8Twvy"
      },
      "execution_count": 6,
      "outputs": []
    },
    {
      "cell_type": "code",
      "source": [
        "def loss_fn(y_true, y_pred):\n",
        "  eval = K.abs(y_pred - y_true)\n",
        "  eval = K.mean(eval, axis=-1)\n",
        "\n",
        "  return eval"
      ],
      "metadata": {
        "id": "uDmOS-jlP3LJ"
      },
      "execution_count": 30,
      "outputs": []
    },
    {
      "cell_type": "code",
      "source": [
        "model = keras.Sequential([\n",
        "    layers.Flatten(),\n",
        "    layers.Dense(50, activation=activations.relu),\n",
        "    layers.Dense(25, activation=activations.swish),\n",
        "    layers.Dense(25, activation=activations.swish),\n",
        "    layers.Dense(100, activation=activations.softmax)\n",
        "])\n",
        "model.build((None, 2))\n",
        "model.summary()\n",
        "model.compile(\n",
        "    optimizer=keras.optimizers.Adam(learning_rate=1e-3),\n",
        "    loss=losses.CategoricalCrossentropy(), #loss_fn,\n",
        "    metrics=['accuracy']\n",
        ")\n",
        "\n",
        "history = model.fit(\n",
        "    x_train,\n",
        "    y_train,\n",
        "    epochs=100,\n",
        "    batch_size=batch_size\n",
        ")\n",
        "\n",
        "score, acc = model.evaluate(x_test, y_test,\n",
        "                            batch_size=batch_size)\n",
        "print('Test scire:', score)\n",
        "print('Accuracy: {:.1f}%'.format(acc*100))"
      ],
      "metadata": {
        "colab": {
          "base_uri": "https://localhost:8080/"
        },
        "id": "b31UJpXIHkqx",
        "outputId": "10c69d86-5861-44b0-f042-66ddd5d4cd20"
      },
      "execution_count": null,
      "outputs": [
        {
          "output_type": "stream",
          "name": "stdout",
          "text": [
            "Model: \"sequential_4\"\n",
            "_________________________________________________________________\n",
            " Layer (type)                Output Shape              Param #   \n",
            "=================================================================\n",
            " flatten_4 (Flatten)         (None, 2)                 0         \n",
            "                                                                 \n",
            " dense_16 (Dense)            (None, 50)                150       \n",
            "                                                                 \n",
            " dense_17 (Dense)            (None, 25)                1275      \n",
            "                                                                 \n",
            " dense_18 (Dense)            (None, 25)                650       \n",
            "                                                                 \n",
            " dense_19 (Dense)            (None, 100)               2600      \n",
            "                                                                 \n",
            "=================================================================\n",
            "Total params: 4,675\n",
            "Trainable params: 4,675\n",
            "Non-trainable params: 0\n",
            "_________________________________________________________________\n",
            "Epoch 1/100\n",
            "313/313 [==============================] - 1s 3ms/step - loss: 3.6387 - accuracy: 0.0937\n",
            "Epoch 2/100\n",
            "313/313 [==============================] - 1s 3ms/step - loss: 1.7502 - accuracy: 0.4501\n",
            "Epoch 3/100\n",
            "313/313 [==============================] - 1s 3ms/step - loss: 1.1472 - accuracy: 0.6361\n",
            "Epoch 4/100\n",
            "313/313 [==============================] - 1s 3ms/step - loss: 0.8965 - accuracy: 0.7108\n",
            "Epoch 5/100\n",
            "313/313 [==============================] - 1s 3ms/step - loss: 0.7560 - accuracy: 0.7525\n",
            "Epoch 6/100\n",
            "313/313 [==============================] - 1s 3ms/step - loss: 0.6641 - accuracy: 0.7788\n",
            "Epoch 7/100\n",
            "313/313 [==============================] - 1s 3ms/step - loss: 0.5940 - accuracy: 0.7996\n",
            "Epoch 8/100\n",
            "313/313 [==============================] - 1s 3ms/step - loss: 0.5372 - accuracy: 0.8189\n",
            "Epoch 9/100\n",
            "313/313 [==============================] - 1s 3ms/step - loss: 0.5096 - accuracy: 0.8212\n",
            "Epoch 10/100\n",
            "313/313 [==============================] - 1s 3ms/step - loss: 0.4739 - accuracy: 0.8307\n",
            "Epoch 11/100\n",
            "313/313 [==============================] - 1s 3ms/step - loss: 0.4470 - accuracy: 0.8389\n",
            "Epoch 12/100\n",
            "313/313 [==============================] - 1s 3ms/step - loss: 0.4319 - accuracy: 0.8398\n",
            "Epoch 13/100\n",
            "313/313 [==============================] - 1s 3ms/step - loss: 0.4117 - accuracy: 0.8479\n",
            "Epoch 14/100\n",
            "313/313 [==============================] - 1s 3ms/step - loss: 0.3916 - accuracy: 0.8562\n",
            "Epoch 15/100\n",
            "313/313 [==============================] - 1s 3ms/step - loss: 0.3750 - accuracy: 0.8600\n",
            "Epoch 16/100\n",
            "313/313 [==============================] - 1s 3ms/step - loss: 0.3725 - accuracy: 0.8592\n",
            "Epoch 17/100\n",
            "313/313 [==============================] - 1s 3ms/step - loss: 0.3546 - accuracy: 0.8663\n",
            "Epoch 18/100\n",
            "313/313 [==============================] - 1s 3ms/step - loss: 0.3459 - accuracy: 0.8684\n",
            "Epoch 19/100\n",
            "313/313 [==============================] - 1s 3ms/step - loss: 0.3394 - accuracy: 0.8691\n",
            "Epoch 20/100\n",
            "313/313 [==============================] - 1s 3ms/step - loss: 0.3229 - accuracy: 0.8774\n",
            "Epoch 21/100\n",
            "313/313 [==============================] - 1s 3ms/step - loss: 0.3203 - accuracy: 0.8764\n",
            "Epoch 22/100\n",
            "313/313 [==============================] - 1s 3ms/step - loss: 0.3110 - accuracy: 0.8818\n",
            "Epoch 23/100\n",
            "313/313 [==============================] - 1s 3ms/step - loss: 0.3116 - accuracy: 0.8770\n",
            "Epoch 24/100\n",
            "313/313 [==============================] - 1s 3ms/step - loss: 0.3032 - accuracy: 0.8824\n",
            "Epoch 25/100\n",
            "313/313 [==============================] - 1s 3ms/step - loss: 0.2978 - accuracy: 0.8806\n",
            "Epoch 26/100\n",
            "313/313 [==============================] - 1s 3ms/step - loss: 0.3008 - accuracy: 0.8791\n",
            "Epoch 27/100\n",
            "313/313 [==============================] - 1s 3ms/step - loss: 0.2829 - accuracy: 0.8894\n",
            "Epoch 28/100\n",
            "313/313 [==============================] - 1s 3ms/step - loss: 0.2830 - accuracy: 0.8872\n",
            "Epoch 29/100\n",
            "313/313 [==============================] - 1s 3ms/step - loss: 0.2814 - accuracy: 0.8868\n",
            "Epoch 30/100\n",
            "313/313 [==============================] - 1s 3ms/step - loss: 0.2739 - accuracy: 0.8904\n",
            "Epoch 31/100\n",
            "313/313 [==============================] - 1s 3ms/step - loss: 0.2676 - accuracy: 0.8939\n",
            "Epoch 32/100\n",
            "313/313 [==============================] - 1s 3ms/step - loss: 0.2676 - accuracy: 0.8943\n",
            "Epoch 33/100\n",
            "313/313 [==============================] - 1s 3ms/step - loss: 0.2590 - accuracy: 0.8961\n",
            "Epoch 34/100\n",
            "313/313 [==============================] - 1s 3ms/step - loss: 0.2577 - accuracy: 0.8977\n",
            "Epoch 35/100\n",
            "313/313 [==============================] - 1s 3ms/step - loss: 0.2605 - accuracy: 0.8929\n",
            "Epoch 36/100\n",
            "313/313 [==============================] - 1s 3ms/step - loss: 0.2531 - accuracy: 0.8995\n",
            "Epoch 37/100\n",
            "313/313 [==============================] - 1s 3ms/step - loss: 0.2530 - accuracy: 0.8980\n",
            "Epoch 38/100\n",
            "313/313 [==============================] - 1s 3ms/step - loss: 0.2486 - accuracy: 0.9000\n",
            "Epoch 39/100\n",
            "313/313 [==============================] - 1s 3ms/step - loss: 0.2451 - accuracy: 0.9000\n",
            "Epoch 40/100\n",
            "313/313 [==============================] - 1s 3ms/step - loss: 0.2411 - accuracy: 0.9017\n",
            "Epoch 41/100\n",
            "313/313 [==============================] - 1s 3ms/step - loss: 0.2404 - accuracy: 0.9032\n",
            "Epoch 42/100\n",
            "313/313 [==============================] - 1s 3ms/step - loss: 0.2502 - accuracy: 0.8962\n",
            "Epoch 43/100\n",
            "313/313 [==============================] - 1s 3ms/step - loss: 0.2399 - accuracy: 0.9020\n",
            "Epoch 44/100\n",
            "313/313 [==============================] - 1s 3ms/step - loss: 0.2406 - accuracy: 0.9021\n",
            "Epoch 45/100\n",
            "313/313 [==============================] - 1s 3ms/step - loss: 0.2391 - accuracy: 0.9015\n",
            "Epoch 46/100\n",
            "313/313 [==============================] - 1s 3ms/step - loss: 0.2327 - accuracy: 0.9058\n",
            "Epoch 47/100\n",
            "313/313 [==============================] - 1s 3ms/step - loss: 0.2318 - accuracy: 0.9048\n",
            "Epoch 48/100\n",
            "313/313 [==============================] - 1s 3ms/step - loss: 0.2368 - accuracy: 0.9024\n",
            "Epoch 49/100\n",
            "313/313 [==============================] - 1s 3ms/step - loss: 0.2327 - accuracy: 0.9043\n",
            "Epoch 50/100\n",
            "313/313 [==============================] - 1s 3ms/step - loss: 0.2264 - accuracy: 0.9068\n",
            "Epoch 51/100\n",
            "313/313 [==============================] - 1s 3ms/step - loss: 0.2261 - accuracy: 0.9065\n",
            "Epoch 52/100\n",
            "313/313 [==============================] - 1s 3ms/step - loss: 0.2212 - accuracy: 0.9097\n",
            "Epoch 53/100\n",
            "313/313 [==============================] - 1s 3ms/step - loss: 0.2276 - accuracy: 0.9053\n",
            "Epoch 54/100\n",
            "313/313 [==============================] - 1s 3ms/step - loss: 0.2238 - accuracy: 0.9071\n",
            "Epoch 55/100\n",
            "313/313 [==============================] - 1s 3ms/step - loss: 0.2275 - accuracy: 0.9049\n",
            "Epoch 56/100\n",
            "313/313 [==============================] - 1s 3ms/step - loss: 0.2237 - accuracy: 0.9077\n",
            "Epoch 57/100\n",
            "313/313 [==============================] - 1s 3ms/step - loss: 0.2180 - accuracy: 0.9089\n",
            "Epoch 58/100\n",
            "313/313 [==============================] - 1s 3ms/step - loss: 0.2225 - accuracy: 0.9058\n",
            "Epoch 59/100\n",
            "313/313 [==============================] - 1s 3ms/step - loss: 0.2275 - accuracy: 0.9054\n",
            "Epoch 60/100\n",
            "313/313 [==============================] - 1s 3ms/step - loss: 0.2121 - accuracy: 0.9125\n",
            "Epoch 61/100\n",
            "313/313 [==============================] - 1s 3ms/step - loss: 0.2186 - accuracy: 0.9089\n",
            "Epoch 62/100\n",
            "313/313 [==============================] - 1s 3ms/step - loss: 0.2128 - accuracy: 0.9115\n",
            "Epoch 63/100\n",
            "313/313 [==============================] - 1s 3ms/step - loss: 0.2151 - accuracy: 0.9105\n",
            "Epoch 64/100\n",
            "313/313 [==============================] - 1s 3ms/step - loss: 0.2197 - accuracy: 0.9072\n",
            "Epoch 65/100\n",
            "313/313 [==============================] - 1s 3ms/step - loss: 0.2066 - accuracy: 0.9164\n",
            "Epoch 66/100\n",
            "313/313 [==============================] - 1s 3ms/step - loss: 0.2118 - accuracy: 0.9119\n",
            "Epoch 67/100\n",
            "313/313 [==============================] - 1s 3ms/step - loss: 0.2133 - accuracy: 0.9114\n",
            "Epoch 68/100\n",
            "313/313 [==============================] - 1s 3ms/step - loss: 0.2100 - accuracy: 0.9133\n",
            "Epoch 69/100\n",
            "313/313 [==============================] - 1s 3ms/step - loss: 0.2082 - accuracy: 0.9134\n",
            "Epoch 70/100\n",
            "313/313 [==============================] - 1s 3ms/step - loss: 0.2055 - accuracy: 0.9146\n",
            "Epoch 71/100\n",
            "313/313 [==============================] - 1s 3ms/step - loss: 0.2061 - accuracy: 0.9144\n",
            "Epoch 72/100\n",
            "313/313 [==============================] - 1s 3ms/step - loss: 0.2108 - accuracy: 0.9116\n",
            "Epoch 73/100\n",
            "313/313 [==============================] - 1s 3ms/step - loss: 0.2060 - accuracy: 0.9138\n",
            "Epoch 74/100\n",
            "313/313 [==============================] - 1s 3ms/step - loss: 0.2045 - accuracy: 0.9140\n",
            "Epoch 75/100\n",
            "313/313 [==============================] - 1s 3ms/step - loss: 0.2062 - accuracy: 0.9146\n",
            "Epoch 76/100\n",
            "313/313 [==============================] - 1s 3ms/step - loss: 0.1957 - accuracy: 0.9193\n",
            "Epoch 77/100\n",
            "313/313 [==============================] - 1s 3ms/step - loss: 0.2151 - accuracy: 0.9097\n",
            "Epoch 78/100\n",
            "313/313 [==============================] - 1s 3ms/step - loss: 0.2009 - accuracy: 0.9178\n",
            "Epoch 79/100\n",
            "313/313 [==============================] - 1s 3ms/step - loss: 0.2061 - accuracy: 0.9132\n",
            "Epoch 80/100\n",
            " 92/313 [=======>......................] - ETA: 0s - loss: 0.2151 - accuracy: 0.9095"
          ]
        }
      ]
    }
  ]
}