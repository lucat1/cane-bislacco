{
  "nbformat": 4,
  "nbformat_minor": 0,
  "metadata": {
    "colab": {
      "provenance": []
    },
    "kernelspec": {
      "name": "python3",
      "display_name": "Python 3"
    },
    "language_info": {
      "name": "python"
    },
    "accelerator": "GPU",
    "gpuClass": "standard"
  },
  "cells": [
    {
      "cell_type": "markdown",
      "source": [
        "\n",
        "L'obiettivo del progetto è apprendere mediante una rete neurale la trasformazione da punti del piano espressi in coordinate polari ad una rappresentazione basata su di una griglia discreta di dimensione 10x10, dove la cella della griglia ha valore 1 se contiene il punto, e 0 altrimenti.\n",
        "\n",
        "Il dataset supervisionato è fornito in questo notebook nella forma di una generatore. Il generatore deve essere considerato come una \"scatola nera\" il cui comportamento deve essere appreso. \n",
        "\n",
        "Dovete progettare una rete neurale in grado di raggiungere una accuratezza del 95%. Questa è una condizione necessaria per superare l'esame, ma l'accuratezza non influisce in altro modo sulla valutazione.  \n",
        "\n",
        "I modelli che raggiungono l'accuratezza attesa saranno invece valutati in modo inversamente proporzionale al numero dei loro parametri: **più il modello è piccolo, meglio è.**\n",
        "\n",
        "\n",
        "**Attenzione**: Qualunque soluzione che tragga vantaggio, diretto o indiretto, da meta-conoscenza relativa al generatore sarà automaticamente bocciato.\n"
      ],
      "metadata": {
        "id": "Zw_326KLT9dF"
      }
    },
    {
      "cell_type": "code",
      "execution_count": 2,
      "metadata": {
        "id": "ynz-4_4cFmbJ",
        "outputId": "4bb43550-aa85-47d8-ecf7-a0c5435dfe76",
        "colab": {
          "base_uri": "https://localhost:8080/"
        }
      },
      "outputs": [
        {
          "output_type": "stream",
          "name": "stderr",
          "text": [
            "2023-01-10 11:48:54.718306: I tensorflow/core/platform/cpu_feature_guard.cc:193] This TensorFlow binary is optimized with oneAPI Deep Neural Network Library (oneDNN) to use the following CPU instructions in performance-critical operations:  SSE3 SSE4.1 SSE4.2 AVX AVX2 FMA\n",
            "To enable them in other operations, rebuild TensorFlow with the appropriate compiler flags.\n"
          ]
        }
      ],
      "source": [
        "import numpy as np\n",
        "import tensorflow as tf\n",
        "from tensorflow.keras.layers import Input, Dense, Reshape, concatenate\n",
        "from tensorflow.keras.models import Model"
      ]
    },
    {
      "cell_type": "markdown",
      "source": [
        "Veniamo al generatore. Questo restituisce delle triple della forma\n",
        "((theta,rho),out) dove (theta,rho) sono le coordinate polari di un punto nel primo quadrante del piano, e out è una mappa 10x10 con \"1\" in correspondenza alla cella che contiene il punto, e \"0\" altrimenti.\n",
        "\n",
        "Settando  flat=True, la mappa 10x10 viene appiattita ad un vettore di dimensione 100. Potete utilizzare questa variante, se preferite. Nessuna altra modifica del generatore è ammessa. "
      ],
      "metadata": {
        "id": "iA01pkKbUt7Q"
      }
    },
    {
      "cell_type": "code",
      "source": [
        "def polar_generator(batchsize,grid=(10,10),noise=.002,flat=False):\n",
        "  while True:\n",
        "    x = np.random.rand(batchsize)\n",
        "    y = np.random.rand(batchsize)\n",
        "    out = np.zeros((batchsize,grid[0],grid[1]))\n",
        "    xc = (x*grid[0]).astype(int)\n",
        "    yc = (y*grid[1]).astype(int)\n",
        "    for b in range(batchsize):\n",
        "      out[b,xc[b],yc[b]] = 1\n",
        "    #compute rho and theta and add some noise\n",
        "    rho = np.sqrt(x**2+y**2) + np.random.normal(scale=noise)\n",
        "    theta = np.arctan(y/np.maximum(x,.00001)) + np.random.normal(scale=noise)\n",
        "    if flat:\n",
        "      out = np.reshape(out,(batchsize,grid[0]*grid[1]))\n",
        "    yield ((theta,rho),out)"
      ],
      "metadata": {
        "id": "DsA1GqAeWAdo"
      },
      "execution_count": 3,
      "outputs": []
    },
    {
      "cell_type": "markdown",
      "source": [
        "Creiamo una istanza del generatore con una griglia di dimensione 3x4"
      ],
      "metadata": {
        "id": "ZF-jlaqAWc2o"
      }
    },
    {
      "cell_type": "code",
      "source": [
        "g1,g2 = 3,4\n",
        "gen = polar_generator(1,grid=(g1,g2),noise=0.0)"
      ],
      "metadata": {
        "id": "Ov3rXaLVHDCT"
      },
      "execution_count": null,
      "outputs": []
    },
    {
      "cell_type": "markdown",
      "source": [
        "... e osserviamo qualche esempio"
      ],
      "metadata": {
        "id": "b4hntQtSWjPk"
      }
    },
    {
      "cell_type": "code",
      "source": [
        "(theta,rho),maps = next(gen)\n",
        "for i,map in enumerate(maps):\n",
        "  #let us compute the cartesian coordinates\n",
        "  x = np.cos(theta[i])*rho[i]\n",
        "  y = np.sin(theta[i])*rho[i]\n",
        "  print(\"x coordinate (row): {}\".format(int(x*g1)))\n",
        "  print(\"y coordinate (col): {}\".format(int(y*g2)))\n",
        "  print(\"map:\")\n",
        "  print(np.reshape(map,(g1,g2)))"
      ],
      "metadata": {
        "colab": {
          "base_uri": "https://localhost:8080/"
        },
        "id": "PM7R8ZZZHN7p",
        "outputId": "a3791928-725c-42c9-df64-082460d55086"
      },
      "execution_count": null,
      "outputs": [
        {
          "output_type": "stream",
          "name": "stdout",
          "text": [
            "x coordinate (row): 1\n",
            "y coordinate (col): 1\n",
            "map:\n",
            "[[0. 0. 0. 0.]\n",
            " [0. 1. 0. 0.]\n",
            " [0. 0. 0. 0.]]\n"
          ]
        }
      ]
    },
    {
      "cell_type": "markdown",
      "source": [],
      "metadata": {
        "id": "W7kw_K2HNlSg"
      }
    },
    {
      "cell_type": "markdown",
      "source": [
        "Utile esercizio: aggiungete rumore al generatore e verificate l'effetto sulla\n",
        "\"ground truth\"."
      ],
      "metadata": {
        "id": "NTY5fu8Hg7RE"
      }
    },
    {
      "cell_type": "markdown",
      "source": [
        "# Cosa consegnare\n",
        "\n",
        "Ai fini del progetto dovete lavorare con la **griglia di default di dimensione 10x10, e con il rumore di default .002**\n",
        "\n",
        "il generatore deve essere trattato come una scatola nera: non modificatelo e non sfruttate la sua semantica, che si suppone ignota. Potete lavorare in modlaità \"flat\", se preferite.\n",
        "\n",
        "Dovete:\n",
        "\n",
        "1.   definire una funzione per il calcolo della accuratezza (potete prendere ispirazione dal cocice della cella precedente) \n",
        "2.   definire una rete neurale che prende in input theta e rho e restituisce out\n",
        "3.  misurare l'accuratezza della rete, che deve essere maggiore o uguale del 95%; l'accuratezza deve essere misurata su almeno 20000 dati\n",
        "4. perfezionare il modello cercando di diminuire il più possibile il numero dei parametri mantenendo una accuratezza superiore al 95%. Solo la vostra rete migliore deve essere consegnata.\n",
        "\n",
        "Dovete consegnare un UNICO notebook eseguibile su colab, che contenga il codice della rete, il suo sommario con il numero dei parametri, la storia di training, il codice per il calcolo della accuratezza e la sua valutazione sulla vostra rete.\n",
        "\n",
        "**N.B.** L'accuratezza deve essere superiore o uguale a 95%, ma non influisce in altro modo sulla valutazione. Il vostro punteggio dipenderà unicamente dal numero dei parametri: più è piccolo e più la vostra vaalutazione sarà elevata.  \n",
        "\n",
        "#Buon lavoro!\n",
        "\n",
        "\n",
        "\n"
      ],
      "metadata": {
        "id": "jj4akvA24maJ"
      }
    },
    {
      "cell_type": "code",
      "source": [
        "import keras\n",
        "import numpy as np\n",
        "from keras import layers\n",
        "from keras import activations\n",
        "from keras import losses\n",
        "from sklearn.model_selection import train_test_split\n",
        "import keras.backend as K\n",
        "\n",
        "size = 10"
      ],
      "metadata": {
        "id": "6_wpuwNvHtmM"
      },
      "execution_count": 114,
      "outputs": []
    },
    {
      "cell_type": "code",
      "source": [
        "# def map_map(map: np.ndarray) -> np.ndarray:\n",
        "#   out = np.zeros(size * 2)\n",
        "#   point = np.argwhere(map==1)[0]\n",
        "#   out[point[0]] = 1\n",
        "#   out[size + point[1]] = 1\n",
        "#   return out\n",
        "\n",
        "def map_map(map: np.ndarray) -> np.ndarray:\n",
        "  out = np.zeros(size * 2)\n",
        "  point = np.argwhere(map==1)[0]\n",
        "  return point"
      ],
      "metadata": {
        "id": "qZzw_nMnZPO_"
      },
      "execution_count": 164,
      "outputs": []
    },
    {
      "cell_type": "code",
      "source": [
        "n_train = 100000\n",
        "n_test = 20000\n",
        "\n",
        "gen = polar_generator(n_train+n_test,grid=(size,size),noise=0.02)\n",
        "(theta,rho),y = next(gen)\n",
        "y = np.array(list(map(map_map, y)))\n",
        "x=np.array([i for i in zip(theta,rho)])\n",
        "\n",
        "x_train, x_test, y_train, y_test = train_test_split(x, y, test_size=n_test/(n_train+n_test), shuffle=True, random_state=1)"
      ],
      "metadata": {
        "id": "YHqHVFh8Twvy"
      },
      "execution_count": 165,
      "outputs": []
    },
    {
      "cell_type": "code",
      "source": [
        "def loss_fn(y_true, y_pred):\n",
        "  point = np.array(y_true).argwhere(x==1)[1]\n",
        "\n",
        "  x = K.mult(K.cos(y_true[:1]), y_true[:2])\n",
        "  #x = np.cos(theta[i])*rho[i]\n",
        "  #y = np.sin(theta[i])*rho[1,164"
      ],
      "metadata": {
        "id": "uDmOS-jlP3LJ"
      },
      "execution_count": 166,
      "outputs": []
    },
    {
      "cell_type": "code",
      "source": [
        "model = keras.Sequential([\n",
        "    layers.Flatten(),\n",
        "    layers.Dense(32, activation=activations.swish),\n",
        "    layers.Dense(64, activation=activations.swish),\n",
        "    layers.Dense(32, activation=activations.swish),\n",
        "\n",
        "    layers.Dense(2, activation=activations.softmax)\n",
        "])\n",
        "model.build((None, 2))\n",
        "model.summary()\n",
        "model.compile(\n",
        "    optimizer=keras.optimizers.Adam(learning_rate=1e-3),\n",
        "    loss=losses.CategoricalCrossentropy(),\n",
        "    metrics=['accuracy']\n",
        ")"
      ],
      "metadata": {
        "colab": {
          "base_uri": "https://localhost:8080/"
        },
        "id": "b31UJpXIHkqx",
        "outputId": "9096d559-d4b5-4fad-acd2-10008ae5b692"
      },
      "execution_count": 170,
      "outputs": [
        {
          "output_type": "stream",
          "name": "stdout",
          "text": [
            "Model: \"sequential_34\"\n",
            "_________________________________________________________________\n",
            " Layer (type)                Output Shape              Param #   \n",
            "=================================================================\n",
            " flatten_34 (Flatten)        (None, 2)                 0         \n",
            "                                                                 \n",
            " dense_143 (Dense)           (None, 32)                96        \n",
            "                                                                 \n",
            " dense_144 (Dense)           (None, 64)                2112      \n",
            "                                                                 \n",
            " dense_145 (Dense)           (None, 32)                2080      \n",
            "                                                                 \n",
            " dense_146 (Dense)           (None, 2)                 66        \n",
            "                                                                 \n",
            "=================================================================\n",
            "Total params: 4,354\n",
            "Trainable params: 4,354\n",
            "Non-trainable params: 0\n",
            "_________________________________________________________________\n"
          ]
        }
      ]
    },
    {
      "cell_type": "code",
      "source": [
        "batch_size = 256\n",
        "history = model.fit(\n",
        "    x_train,\n",
        "    y_train,\n",
        "    epochs=25,# 300,\n",
        "    batch_size=batch_size\n",
        ")"
      ],
      "metadata": {
        "id": "jxYv1xHFrAY2",
        "outputId": "d6447a0f-4882-40fe-9fd2-5d45ba6cf36a",
        "colab": {
          "base_uri": "https://localhost:8080/"
        }
      },
      "execution_count": 171,
      "outputs": [
        {
          "output_type": "stream",
          "name": "stdout",
          "text": [
            "Epoch 1/25\n",
            "391/391 [==============================] - 1s 2ms/step - loss: 641.4860 - accuracy: 0.5425\n",
            "Epoch 2/25\n",
            "391/391 [==============================] - 1s 2ms/step - loss: 9684.6035 - accuracy: 0.5513\n",
            "Epoch 3/25\n",
            "391/391 [==============================] - 1s 2ms/step - loss: 39097.7188 - accuracy: 0.5513\n",
            "Epoch 4/25\n",
            "391/391 [==============================] - 1s 2ms/step - loss: 97615.7578 - accuracy: 0.5513\n",
            "Epoch 5/25\n",
            "391/391 [==============================] - 1s 2ms/step - loss: 193136.5156 - accuracy: 0.5513\n",
            "Epoch 6/25\n",
            "391/391 [==============================] - 1s 2ms/step - loss: 286089.1875 - accuracy: 0.5513\n",
            "Epoch 7/25\n",
            "391/391 [==============================] - 1s 2ms/step - loss: 446247.9062 - accuracy: 0.5513\n",
            "Epoch 8/25\n",
            "391/391 [==============================] - 1s 2ms/step - loss: 629875.3125 - accuracy: 0.5513\n",
            "Epoch 9/25\n",
            "391/391 [==============================] - 1s 2ms/step - loss: 815172.6250 - accuracy: 0.5513\n",
            "Epoch 10/25\n",
            "391/391 [==============================] - 1s 2ms/step - loss: 1028417.3125 - accuracy: 0.5513\n",
            "Epoch 11/25\n",
            "391/391 [==============================] - 1s 2ms/step - loss: 1236633.7500 - accuracy: 0.5513\n",
            "Epoch 12/25\n",
            "391/391 [==============================] - 1s 2ms/step - loss: 1571350.7500 - accuracy: 0.5513\n",
            "Epoch 13/25\n",
            "391/391 [==============================] - 1s 2ms/step - loss: 1793953.2500 - accuracy: 0.5513\n",
            "Epoch 14/25\n",
            "391/391 [==============================] - 1s 2ms/step - loss: 2328393.5000 - accuracy: 0.5513\n",
            "Epoch 15/25\n",
            "391/391 [==============================] - 1s 2ms/step - loss: 2570879.0000 - accuracy: 0.5513\n",
            "Epoch 16/25\n",
            "391/391 [==============================] - 1s 2ms/step - loss: 2934972.0000 - accuracy: 0.5513\n",
            "Epoch 17/25\n",
            "391/391 [==============================] - 1s 2ms/step - loss: 3098213.0000 - accuracy: 0.5513\n",
            "Epoch 18/25\n",
            "391/391 [==============================] - 1s 2ms/step - loss: 3728713.2500 - accuracy: 0.5513\n",
            "Epoch 19/25\n",
            "391/391 [==============================] - 1s 2ms/step - loss: 3951228.0000 - accuracy: 0.5513\n",
            "Epoch 20/25\n",
            "391/391 [==============================] - 1s 2ms/step - loss: 4828797.0000 - accuracy: 0.5513\n",
            "Epoch 21/25\n",
            "391/391 [==============================] - 1s 2ms/step - loss: 5226987.0000 - accuracy: 0.5513\n",
            "Epoch 22/25\n",
            "391/391 [==============================] - 1s 2ms/step - loss: 5753862.0000 - accuracy: 0.5513\n",
            "Epoch 23/25\n",
            "391/391 [==============================] - 1s 2ms/step - loss: 6386747.5000 - accuracy: 0.5513\n",
            "Epoch 24/25\n",
            "391/391 [==============================] - 1s 2ms/step - loss: 6576337.0000 - accuracy: 0.5513\n",
            "Epoch 25/25\n",
            "391/391 [==============================] - 1s 2ms/step - loss: 6591809.0000 - accuracy: 0.5513\n"
          ]
        }
      ]
    },
    {
      "cell_type": "code",
      "source": [
        "score, acc = model.evaluate(x_test, y_test,\n",
        "                            batch_size=batch_size)\n",
        "print('Test score:', score)\n",
        "print('Accuracy: {:.1f}%'.format(acc*100))\n",
        "\n",
        "gen = polar_generator(n_train+n_test,grid=(g1,g2),noise=0.02,flat=True)\n",
        "for x in range(5):\n",
        "  x,y = next(gen)\n",
        "\n",
        "  score, acc = model.evaluate(x, y, batch_size=batch_size)\n",
        "  print('Test score:', score)\n",
        "  print('Accuracy: {:.1f}%'.format(acc*100))"
      ],
      "metadata": {
        "id": "CxuyWeFvVWXN",
        "outputId": "e845fa62-4c79-4001-e4bf-34a513c9dc15",
        "colab": {
          "base_uri": "https://localhost:8080/",
          "height": 987
        }
      },
      "execution_count": 69,
      "outputs": [
        {
          "output_type": "stream",
          "name": "stdout",
          "text": [
            "79/79 [==============================] - 0s 3ms/step - loss: 4.6059 - accuracy: 0.0200\n",
            "Test score: 4.605925559997559\n",
            "Accuracy: 2.0%\n",
            "WARNING:tensorflow:Layers in a Sequential model should only have a single input tensor. Received: inputs=(<tf.Tensor 'IteratorGetNext:0' shape=(None,) dtype=float32>, <tf.Tensor 'IteratorGetNext:1' shape=(None,) dtype=float32>). Consider rewriting this model with the Functional API.\n",
            "WARNING:tensorflow:Model was constructed with shape (None, 2) for input KerasTensor(type_spec=TensorSpec(shape=(None, 2), dtype=tf.float32, name='flatten_15_input'), name='flatten_15_input', description=\"created by layer 'flatten_15_input'\"), but it was called on an input with incompatible shape (None,).\n"
          ]
        },
        {
          "output_type": "error",
          "ename": "ValueError",
          "evalue": "ignored",
          "traceback": [
            "\u001b[0;31m---------------------------------------------------------------------------\u001b[0m",
            "\u001b[0;31mValueError\u001b[0m                                Traceback (most recent call last)",
            "Cell \u001b[0;32mIn[69], line 10\u001b[0m\n\u001b[1;32m      7\u001b[0m \u001b[38;5;28;01mfor\u001b[39;00m x \u001b[38;5;129;01min\u001b[39;00m \u001b[38;5;28mrange\u001b[39m(\u001b[38;5;241m5\u001b[39m):\n\u001b[1;32m      8\u001b[0m   x,y \u001b[38;5;241m=\u001b[39m \u001b[38;5;28mnext\u001b[39m(gen)\n\u001b[0;32m---> 10\u001b[0m   score, acc \u001b[38;5;241m=\u001b[39m \u001b[43mmodel\u001b[49m\u001b[38;5;241;43m.\u001b[39;49m\u001b[43mevaluate\u001b[49m\u001b[43m(\u001b[49m\u001b[43mx\u001b[49m\u001b[43m,\u001b[49m\u001b[43m \u001b[49m\u001b[43my\u001b[49m\u001b[43m,\u001b[49m\u001b[43m \u001b[49m\u001b[43mbatch_size\u001b[49m\u001b[38;5;241;43m=\u001b[39;49m\u001b[43mbatch_size\u001b[49m\u001b[43m)\u001b[49m\n\u001b[1;32m     11\u001b[0m   \u001b[38;5;28mprint\u001b[39m(\u001b[38;5;124m'\u001b[39m\u001b[38;5;124mTest score:\u001b[39m\u001b[38;5;124m'\u001b[39m, score)\n\u001b[1;32m     12\u001b[0m   \u001b[38;5;28mprint\u001b[39m(\u001b[38;5;124m'\u001b[39m\u001b[38;5;124mAccuracy: \u001b[39m\u001b[38;5;132;01m{:.1f}\u001b[39;00m\u001b[38;5;124m%\u001b[39m\u001b[38;5;124m'\u001b[39m\u001b[38;5;241m.\u001b[39mformat(acc\u001b[38;5;241m*\u001b[39m\u001b[38;5;241m100\u001b[39m))\n",
            "File \u001b[0;32m/usr/lib/python3.10/site-packages/keras/utils/traceback_utils.py:70\u001b[0m, in \u001b[0;36mfilter_traceback.<locals>.error_handler\u001b[0;34m(*args, **kwargs)\u001b[0m\n\u001b[1;32m     67\u001b[0m     filtered_tb \u001b[38;5;241m=\u001b[39m _process_traceback_frames(e\u001b[38;5;241m.\u001b[39m__traceback__)\n\u001b[1;32m     68\u001b[0m     \u001b[38;5;66;03m# To get the full stack trace, call:\u001b[39;00m\n\u001b[1;32m     69\u001b[0m     \u001b[38;5;66;03m# `tf.debugging.disable_traceback_filtering()`\u001b[39;00m\n\u001b[0;32m---> 70\u001b[0m     \u001b[38;5;28;01mraise\u001b[39;00m e\u001b[38;5;241m.\u001b[39mwith_traceback(filtered_tb) \u001b[38;5;28;01mfrom\u001b[39;00m \u001b[38;5;28mNone\u001b[39m\n\u001b[1;32m     71\u001b[0m \u001b[38;5;28;01mfinally\u001b[39;00m:\n\u001b[1;32m     72\u001b[0m     \u001b[38;5;28;01mdel\u001b[39;00m filtered_tb\n",
            "File \u001b[0;32m/tmp/__autograph_generated_file6zdvf6xl.py:15\u001b[0m, in \u001b[0;36mouter_factory.<locals>.inner_factory.<locals>.tf__test_function\u001b[0;34m(iterator)\u001b[0m\n\u001b[1;32m     13\u001b[0m \u001b[38;5;28;01mtry\u001b[39;00m:\n\u001b[1;32m     14\u001b[0m     do_return \u001b[38;5;241m=\u001b[39m \u001b[38;5;28;01mTrue\u001b[39;00m\n\u001b[0;32m---> 15\u001b[0m     retval_ \u001b[38;5;241m=\u001b[39m ag__\u001b[38;5;241m.\u001b[39mconverted_call(ag__\u001b[38;5;241m.\u001b[39mld(step_function), (ag__\u001b[38;5;241m.\u001b[39mld(\u001b[38;5;28mself\u001b[39m), ag__\u001b[38;5;241m.\u001b[39mld(iterator)), \u001b[38;5;28;01mNone\u001b[39;00m, fscope)\n\u001b[1;32m     16\u001b[0m \u001b[38;5;28;01mexcept\u001b[39;00m:\n\u001b[1;32m     17\u001b[0m     do_return \u001b[38;5;241m=\u001b[39m \u001b[38;5;28;01mFalse\u001b[39;00m\n",
            "\u001b[0;31mValueError\u001b[0m: in user code:\n\n    File \"/usr/lib/python3.10/site-packages/keras/engine/training.py\", line 1820, in test_function  *\n        return step_function(self, iterator)\n    File \"/usr/lib/python3.10/site-packages/keras/engine/training.py\", line 1804, in step_function  **\n        outputs = model.distribute_strategy.run(run_step, args=(data,))\n    File \"/usr/lib/python3.10/site-packages/keras/engine/training.py\", line 1792, in run_step  **\n        outputs = model.test_step(data)\n    File \"/usr/lib/python3.10/site-packages/keras/engine/training.py\", line 1756, in test_step\n        y_pred = self(x, training=False)\n    File \"/usr/lib/python3.10/site-packages/keras/utils/traceback_utils.py\", line 70, in error_handler\n        raise e.with_traceback(filtered_tb) from None\n    File \"/usr/lib/python3.10/site-packages/keras/engine/input_spec.py\", line 277, in assert_input_compatibility\n        raise ValueError(\n\n    ValueError: Exception encountered when calling layer 'sequential_15' (type Sequential).\n    \n    Input 0 of layer \"dense_67\" is incompatible with the layer: expected axis -1 of input shape to have value 2, but received input with shape (None, 1)\n    \n    Call arguments received by layer 'sequential_15' (type Sequential):\n      • inputs=('tf.Tensor(shape=(None,), dtype=float32)', 'tf.Tensor(shape=(None,), dtype=float32)')\n      • training=False\n      • mask=None\n"
          ]
        }
      ]
    }
  ]
}