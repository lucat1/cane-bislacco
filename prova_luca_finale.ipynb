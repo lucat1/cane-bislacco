{
  "nbformat": 4,
  "nbformat_minor": 0,
  "metadata": {
    "colab": {
      "provenance": []
    },
    "kernelspec": {
      "name": "python3",
      "display_name": "Python 3"
    },
    "language_info": {
      "name": "python"
    }
  },
  "cells": [
    {
      "cell_type": "markdown",
      "source": [
        "\n",
        "L'obiettivo del progetto è apprendere mediante una rete neurale la trasformazione da punti del piano espressi in coordinate polari ad una rappresentazione basata su di una griglia discreta di dimensione 10x10, dove la cella della griglia ha valore 1 se contiene il punto, e 0 altrimenti.\n",
        "\n",
        "Il dataset supervisionato è fornito in questo notebook nella forma di una generatore. Il generatore deve essere considerato come una \"scatola nera\" il cui comportamento deve essere appreso. \n",
        "\n",
        "Dovete progettare una rete neurale in grado di raggiungere una accuratezza del 95%. Questa è una condizione necessaria per superare l'esame, ma l'accuratezza non influisce in altro modo sulla valutazione.  \n",
        "\n",
        "I modelli che raggiungono l'accuratezza attesa saranno invece valutati in modo inversamente proporzionale al numero dei loro parametri: **più il modello è piccolo, meglio è.**\n",
        "\n",
        "\n",
        "**Attenzione**: Qualunque soluzione che tragga vantaggio, diretto o indiretto, da meta-conoscenza relativa al generatore sarà automaticamente bocciato.\n"
      ],
      "metadata": {
        "id": "Zw_326KLT9dF"
      }
    },
    {
      "cell_type": "markdown",
      "source": [
        "Veniamo al generatore. Questo restituisce delle triple della forma\n",
        "((theta,rho),out) dove (theta,rho) sono le coordinate polari di un punto nel primo quadrante del piano, e out è una mappa 10x10 con \"1\" in correspondenza alla cella che contiene il punto, e \"0\" altrimenti.\n",
        "\n",
        "Settando  flat=True, la mappa 10x10 viene appiattita ad un vettore di dimensione 100. Potete utilizzare questa variante, se preferite. Nessuna altra modifica del generatore è ammessa. "
      ],
      "metadata": {
        "id": "iA01pkKbUt7Q"
      }
    },
    {
      "cell_type": "markdown",
      "source": [
        "Creiamo una istanza del generatore con una griglia di dimensione 3x4"
      ],
      "metadata": {
        "id": "ZF-jlaqAWc2o"
      }
    },
    {
      "cell_type": "markdown",
      "source": [
        "... e osserviamo qualche esempio"
      ],
      "metadata": {
        "id": "b4hntQtSWjPk"
      }
    },
    {
      "cell_type": "code",
      "source": [
        "import keras\n",
        "from keras import layers\n",
        "from keras import activations\n",
        "import numpy as np\n",
        "import tensorflow as tf\n",
        "from tensorflow.keras.layers import Input, Dense, Reshape, concatenate\n",
        "from tensorflow.keras.models import Model\n",
        "from sklearn.model_selection import train_test_split\n",
        "\n",
        "def polar_generator(batchsize,grid=(10,10),noise=.002,flat=False):\n",
        "  while True:\n",
        "    x = np.random.rand(batchsize)\n",
        "    y = np.random.rand(batchsize)\n",
        "    out = np.zeros((batchsize,grid[0],grid[1]))\n",
        "    xc = (x*grid[0]).astype(int)\n",
        "    yc = (y*grid[1]).astype(int)\n",
        "    for b in range(batchsize):\n",
        "      out[b,xc[b],yc[b]] = 1\n",
        "    #compute rho and theta and add some noise\n",
        "    rho = np.sqrt(x**2+y**2) + np.random.normal(scale=noise)\n",
        "    theta = np.arctan(y/np.maximum(x,.00001)) + np.random.normal(scale=noise)\n",
        "    if flat:\n",
        "      out = np.reshape(out,(batchsize,grid[0]*grid[1]))\n",
        "    yield ((theta,rho),out)\n",
        "\n",
        "n_train = 4000000\n",
        "n_test = 20000\n",
        "batch_size = 2048\n",
        "\n",
        "g1,g2 = 10,10\n",
        "gen = polar_generator(n_train+n_test,grid=(g1,g2),noise=0.002,flat=True)\n",
        "# (theta,rho),y = next(gen)\n",
        "(theta,rho),y = next(gen)\n",
        "\n",
        "x=np.array([i for i in zip(theta,rho)])\n",
        "\n",
        "# def xy(i):\n",
        "#   (theta,rho),y = i\n",
        "#   x=np.array([i for i in zip(theta,rho)])\n",
        "#   return (x,y)\n",
        "\n",
        "# gcd = np.gcd(n_train, n_test)\n",
        "# gen = pol.ipynbar_generator(gcd,grid=(size,size),noise=0.02)\n",
        "\n",
        "# x_train, y_train = xy(next(gen))\n",
        "# for i in range(int(n_train/gcd)-1):\n",
        "#   x,y = xy(next(gen))\n",
        "#   x_train = np.concatenate((x, x_train), axis=0)\n",
        "#   y_train = np.concatenate((y, y_train), axis=0)\n",
        "\n",
        "# x_test, y_test = xy(next(gen))\n",
        "# for i in range(int(n_train/gcd)-1):\n",
        "#   x,y = xy(next(gen))\n",
        "#   x_test = np.concatenate((x, x_test), axis=0)\n",
        "#   y_test = np.concatenate((y, y_test), axis=0)\n",
        "\n",
        "x_train, x_test, y_train, y_test = train_test_split(x, y, test_size=n_test/(n_train+n_test), shuffle=True, random_state=1)\n",
        "\n",
        "\n",
        "def discretized_accuracy(true_maps: tf.Tensor, my_maps: tf.Tensor) -> float:\n",
        "  equals = tf.equal(tf.argmax(true_maps, axis=1), tf.argmax(my_maps, axis=1))\n",
        "  return tf.cast(tf.math.count_nonzero(equals), tf.float64) / tf.cast(len(true_maps), tf.float64)"
      ],
      "metadata": {
        "id": "0Hh8TIUvKuXp",
        "colab": {
          "base_uri": "https://localhost:8080/"
        },
        "outputId": "68893c91-1848-47b6-ef69-64543bc21dfa"
      },
      "execution_count": 1,
      "outputs": [
        {
          "output_type": "stream",
          "name": "stderr",
          "text": [
            "2023-01-11 17:46:20.764659: I tensorflow/core/platform/cpu_feature_guard.cc:193] This TensorFlow binary is optimized with oneAPI Deep Neural Network Library (oneDNN) to use the following CPU instructions in performance-critical operations:  SSE3 SSE4.1 SSE4.2 AVX AVX2 FMA\n",
            "To enable them in other operations, rebuild TensorFlow with the appropriate compiler flags.\n"
          ]
        }
      ]
    },
    {
      "cell_type": "code",
      "source": [
        "network = keras.Sequential([\n",
        "layers.Flatten(),\n",
        "# layers.Dense(20, activation=keras.activations.relu),\n",
        "# layers.Dense(20, activation=keras.activations.tanh),\n",
        "# layers.Dropout(0.1), # Spegni il 10% dei neuroni a caso\n",
        "layers.Dense(4, activation=keras.activations.softsign),\n",
        "layers.Dense(6, activation=keras.activations.swish),\n",
        "layers.Dense(6, activation=keras.activations.tanh),\n",
        "# layers.BatchNormalization(),\n",
        "# layers.Dropout(0.5), # Spegni il 10% dei neuroni a caso\n",
        "layers.Dense(6, activation=keras.activations.relu),\n",
        "# layers.Dropout(0.5), # Spegni il 10% dei neuroni a caso\n",
        "# layers.LayerNormalization(),\n",
        "# layers.BatchNormalization(),\n",
        "layers.Dense(100, activation=activations.softmax)\n",
        "])\n",
        "\n",
        "# Prima di poter usare il modello dobbiamo dire a Keras la dimensione dei nostri input\n",
        "# \"None\" vuol dire che il numero è ignoto/può cambiare (perché quante immagini alla volta g# può cambiare)\n",
        "network.build((None, 2))\n",
        "network.summary()\n",
        "\n",
        "network.compile(\n",
        "optimizer=keras.optimizers.Adam(learning_rate=1e-3), # Impostiamo SGD come ottimizzatore\n",
        "loss=keras.losses.CategoricalCrossentropy(),\n",
        "# loss=customLoss,\n",
        "metrics=['accuracy', discretized_accuracy]\n",
        ")\n"
      ],
      "metadata": {
        "colab": {
          "base_uri": "https://localhost:8080/"
        },
        "id": "icsL8zRUZ1Y-",
        "outputId": "fb5a794a-a4c7-4bd8-e32c-ccdc0084691e"
      },
      "execution_count": 37,
      "outputs": [
        {
          "output_type": "stream",
          "name": "stdout",
          "text": [
            "Model: \"sequential_2\"\n",
            "_________________________________________________________________\n",
            " Layer (type)                Output Shape              Param #   \n",
            "=================================================================\n",
            " flatten_2 (Flatten)         (None, 2)                 0         \n",
            "                                                                 \n",
            " dense_10 (Dense)            (None, 4)                 12        \n",
            "                                                                 \n",
            " dense_11 (Dense)            (None, 6)                 30        \n",
            "                                                                 \n",
            " dense_12 (Dense)            (None, 6)                 42        \n",
            "                                                                 \n",
            " dense_13 (Dense)            (None, 6)                 42        \n",
            "                                                                 \n",
            " dense_14 (Dense)            (None, 100)               700       \n",
            "                                                                 \n",
            "=================================================================\n",
            "Total params: 826\n",
            "Trainable params: 826\n",
            "Non-trainable params: 0\n",
            "_________________________________________________________________\n"
          ]
        }
      ]
    },
    {
      "cell_type": "code",
      "source": [
        "network = keras.models.load_model(\"mymodel\")"
      ],
      "metadata": {
        "id": "lVV8wkELsrfz",
        "colab": {
          "base_uri": "https://localhost:8080/",
          "height": 499
        },
        "outputId": "38f42012-0dd5-476c-bf7e-7ae8f54f6119"
      },
      "execution_count": 3,
      "outputs": [
        {
          "output_type": "error",
          "ename": "ValueError",
          "evalue": "ignored",
          "traceback": [
            "\u001b[0;31m---------------------------------------------------------------------------\u001b[0m",
            "\u001b[0;31mValueError\u001b[0m                                Traceback (most recent call last)",
            "Cell \u001b[0;32mIn[3], line 1\u001b[0m\n\u001b[0;32m----> 1\u001b[0m network \u001b[38;5;241m=\u001b[39m \u001b[43mkeras\u001b[49m\u001b[38;5;241;43m.\u001b[39;49m\u001b[43mmodels\u001b[49m\u001b[38;5;241;43m.\u001b[39;49m\u001b[43mload_model\u001b[49m\u001b[43m(\u001b[49m\u001b[38;5;124;43m\"\u001b[39;49m\u001b[38;5;124;43mmymodel\u001b[39;49m\u001b[38;5;124;43m\"\u001b[39;49m\u001b[43m)\u001b[49m\n",
            "File \u001b[0;32m/usr/lib/python3.10/site-packages/keras/utils/traceback_utils.py:70\u001b[0m, in \u001b[0;36mfilter_traceback.<locals>.error_handler\u001b[0;34m(*args, **kwargs)\u001b[0m\n\u001b[1;32m     67\u001b[0m     filtered_tb \u001b[38;5;241m=\u001b[39m _process_traceback_frames(e\u001b[38;5;241m.\u001b[39m__traceback__)\n\u001b[1;32m     68\u001b[0m     \u001b[38;5;66;03m# To get the full stack trace, call:\u001b[39;00m\n\u001b[1;32m     69\u001b[0m     \u001b[38;5;66;03m# `tf.debugging.disable_traceback_filtering()`\u001b[39;00m\n\u001b[0;32m---> 70\u001b[0m     \u001b[38;5;28;01mraise\u001b[39;00m e\u001b[38;5;241m.\u001b[39mwith_traceback(filtered_tb) \u001b[38;5;28;01mfrom\u001b[39;00m \u001b[38;5;28mNone\u001b[39m\n\u001b[1;32m     71\u001b[0m \u001b[38;5;28;01mfinally\u001b[39;00m:\n\u001b[1;32m     72\u001b[0m     \u001b[38;5;28;01mdel\u001b[39;00m filtered_tb\n",
            "File \u001b[0;32m/usr/lib/python3.10/site-packages/keras/saving/legacy/saved_model/load.py:1138\u001b[0m, in \u001b[0;36mrevive_custom_object\u001b[0;34m(identifier, metadata)\u001b[0m\n\u001b[1;32m   1136\u001b[0m     \u001b[38;5;28;01mreturn\u001b[39;00m revived_cls\u001b[38;5;241m.\u001b[39m_init_from_metadata(metadata)\n\u001b[1;32m   1137\u001b[0m \u001b[38;5;28;01melse\u001b[39;00m:\n\u001b[0;32m-> 1138\u001b[0m     \u001b[38;5;28;01mraise\u001b[39;00m \u001b[38;5;167;01mValueError\u001b[39;00m(\n\u001b[1;32m   1139\u001b[0m         \u001b[38;5;124mf\u001b[39m\u001b[38;5;124m\"\u001b[39m\u001b[38;5;124mUnable to restore custom object of type \u001b[39m\u001b[38;5;132;01m{\u001b[39;00midentifier\u001b[38;5;132;01m}\u001b[39;00m\u001b[38;5;124m. \u001b[39m\u001b[38;5;124m\"\u001b[39m\n\u001b[1;32m   1140\u001b[0m         \u001b[38;5;124m\"\u001b[39m\u001b[38;5;124mPlease make sure that any custom layers are included in the \u001b[39m\u001b[38;5;124m\"\u001b[39m\n\u001b[1;32m   1141\u001b[0m         \u001b[38;5;124m\"\u001b[39m\u001b[38;5;124m`custom_objects` arg when calling `load_model()` and make sure \u001b[39m\u001b[38;5;124m\"\u001b[39m\n\u001b[1;32m   1142\u001b[0m         \u001b[38;5;124m\"\u001b[39m\u001b[38;5;124mthat all layers implement `get_config` and `from_config`.\u001b[39m\u001b[38;5;124m\"\u001b[39m\n\u001b[1;32m   1143\u001b[0m     )\n",
            "\u001b[0;31mValueError\u001b[0m: Unable to restore custom object of type _tf_keras_metric. Please make sure that any custom layers are included in the `custom_objects` arg when calling `load_model()` and make sure that all layers implement `get_config` and `from_config`."
          ]
        }
      ]
    },
    {
      "cell_type": "code",
      "source": [
        "history = network.fit(\n",
        "x=x_train,\n",
        "y=y_train,\n",
        "epochs=15, # Addestriamo per 100 epoche\n",
        "batch_size=batch_size, # Usiamo una batch size di 128\n",
        "validation_data=(x_test, y_test),\n",
        "callbacks=[keras.callbacks.EarlyStopping(monitor='val_loss', patience=5)]\n",
        ")"
      ],
      "metadata": {
        "colab": {
          "base_uri": "https://localhost:8080/"
        },
        "id": "0s1bjWjlxkEv",
        "outputId": "002a5913-f3e9-43e9-910c-15073f48553c"
      },
      "execution_count": 38,
      "outputs": [
        {
          "output_type": "stream",
          "name": "stdout",
          "text": [
            "Epoch 1/15\n",
            "1954/1954 [==============================] - 14s 7ms/step - loss: 3.1988 - accuracy: 0.1112 - discretized_accuracy: 0.1112 - val_loss: 2.3723 - val_accuracy: 0.2682 - val_discretized_accuracy: 0.2679\n",
            "Epoch 2/15\n",
            "1954/1954 [==============================] - 13s 7ms/step - loss: 1.5706 - accuracy: 0.5845 - discretized_accuracy: 0.5845 - val_loss: 1.0518 - val_accuracy: 0.7510 - val_discretized_accuracy: 0.7506\n",
            "Epoch 3/15\n",
            "1954/1954 [==============================] - 16s 8ms/step - loss: 0.8147 - accuracy: 0.8176 - discretized_accuracy: 0.8176 - val_loss: 0.6451 - val_accuracy: 0.8601 - val_discretized_accuracy: 0.8601\n",
            "Epoch 4/15\n",
            "1954/1954 [==============================] - 15s 8ms/step - loss: 0.5461 - accuracy: 0.8815 - discretized_accuracy: 0.8816 - val_loss: 0.4653 - val_accuracy: 0.8994 - val_discretized_accuracy: 0.8995\n",
            "Epoch 5/15\n",
            "1954/1954 [==============================] - 14s 7ms/step - loss: 0.4132 - accuracy: 0.9120 - discretized_accuracy: 0.9120 - val_loss: 0.3682 - val_accuracy: 0.9189 - val_discretized_accuracy: 0.9189\n",
            "Epoch 6/15\n",
            "1954/1954 [==============================] - 14s 7ms/step - loss: 0.3366 - accuracy: 0.9273 - discretized_accuracy: 0.9273 - val_loss: 0.3088 - val_accuracy: 0.9344 - val_discretized_accuracy: 0.9344\n",
            "Epoch 7/15\n",
            "1954/1954 [==============================] - 15s 8ms/step - loss: 0.2881 - accuracy: 0.9378 - discretized_accuracy: 0.9378 - val_loss: 0.2682 - val_accuracy: 0.9444 - val_discretized_accuracy: 0.9443\n",
            "Epoch 8/15\n",
            "1954/1954 [==============================] - 15s 8ms/step - loss: 0.2548 - accuracy: 0.9457 - discretized_accuracy: 0.9457 - val_loss: 0.2410 - val_accuracy: 0.9507 - val_discretized_accuracy: 0.9508\n",
            "Epoch 9/15\n",
            "1954/1954 [==============================] - 17s 9ms/step - loss: 0.2309 - accuracy: 0.9514 - discretized_accuracy: 0.9514 - val_loss: 0.2218 - val_accuracy: 0.9524 - val_discretized_accuracy: 0.9525\n",
            "Epoch 10/15\n",
            "1954/1954 [==============================] - 13s 6ms/step - loss: 0.2132 - accuracy: 0.9553 - discretized_accuracy: 0.9553 - val_loss: 0.2058 - val_accuracy: 0.9553 - val_discretized_accuracy: 0.9553\n",
            "Epoch 11/15\n",
            "1954/1954 [==============================] - 13s 7ms/step - loss: 0.1991 - accuracy: 0.9582 - discretized_accuracy: 0.9582 - val_loss: 0.1930 - val_accuracy: 0.9590 - val_discretized_accuracy: 0.9590\n",
            "Epoch 12/15\n",
            "1954/1954 [==============================] - 13s 7ms/step - loss: 0.1876 - accuracy: 0.9608 - discretized_accuracy: 0.9608 - val_loss: 0.1803 - val_accuracy: 0.9633 - val_discretized_accuracy: 0.9632\n",
            "Epoch 13/15\n",
            "1954/1954 [==============================] - 13s 7ms/step - loss: 0.1781 - accuracy: 0.9627 - discretized_accuracy: 0.9627 - val_loss: 0.1719 - val_accuracy: 0.9650 - val_discretized_accuracy: 0.9651\n",
            "Epoch 14/15\n",
            "1954/1954 [==============================] - 15s 8ms/step - loss: 0.1702 - accuracy: 0.9640 - discretized_accuracy: 0.9640 - val_loss: 0.1648 - val_accuracy: 0.9657 - val_discretized_accuracy: 0.9658\n",
            "Epoch 15/15\n",
            "1954/1954 [==============================] - 14s 7ms/step - loss: 0.1632 - accuracy: 0.9656 - discretized_accuracy: 0.9656 - val_loss: 0.1662 - val_accuracy: 0.9550 - val_discretized_accuracy: 0.9549\n"
          ]
        }
      ]
    },
    {
      "cell_type": "code",
      "source": [
        "score, _, acc  = network.evaluate(x_test, y_test,\n",
        "                            batch_size=batch_size)\n",
        "print('Test score:', score)\n",
        "print('Accuracy: {:.1f}%'.format(acc*100))"
      ],
      "metadata": {
        "id": "9EVrd8vdibxj",
        "outputId": "05d74565-43ee-4e32-a5cc-1e8ba24816a7",
        "colab": {
          "base_uri": "https://localhost:8080/"
        }
      },
      "execution_count": 33,
      "outputs": [
        {
          "output_type": "stream",
          "name": "stdout",
          "text": [
            "10/10 [==============================] - 0s 9ms/step - loss: 0.0996 - accuracy: 0.9783 - discretized_accuracy: 0.9782\n",
            "Test score: 0.09960493445396423\n",
            "Accuracy: 97.8%\n"
          ]
        }
      ]
    },
    {
      "cell_type": "code",
      "source": [
        "network.save(\"mymodel_2048\")\n",
        "network.summary()"
      ],
      "metadata": {
        "colab": {
          "base_uri": "https://localhost:8080/"
        },
        "id": "dYGzYU7dnM11",
        "outputId": "1205e4f0-cb19-4740-8bd6-d01528c38e9a"
      },
      "execution_count": 34,
      "outputs": [
        {
          "output_type": "stream",
          "name": "stdout",
          "text": [
            "INFO:tensorflow:Assets written to: mymodel_2048/assets\n",
            "Model: \"sequential_1\"\n",
            "_________________________________________________________________\n",
            " Layer (type)                Output Shape              Param #   \n",
            "=================================================================\n",
            " flatten_1 (Flatten)         (None, 2)                 0         \n",
            "                                                                 \n",
            " dense_5 (Dense)             (None, 4)                 12        \n",
            "                                                                 \n",
            " dense_6 (Dense)             (None, 8)                 40        \n",
            "                                                                 \n",
            " dense_7 (Dense)             (None, 8)                 72        \n",
            "                                                                 \n",
            " dense_8 (Dense)             (None, 6)                 54        \n",
            "                                                                 \n",
            " dense_9 (Dense)             (None, 100)               700       \n",
            "                                                                 \n",
            "=================================================================\n",
            "Total params: 878\n",
            "Trainable params: 878\n",
            "Non-trainable params: 0\n",
            "_________________________________________________________________\n"
          ]
        }
      ]
    },
    {
      "cell_type": "code",
      "source": [
        "gen = polar_generator(20000,grid=(g1,g2),noise=0.002,flat=True)\n",
        "\n",
        "accs = 0.0\n",
        "iters = 100\n",
        "for x in range(iters):\n",
        "  (theta,rho),y = next(gen)\n",
        "  x=np.array([i for i in zip(theta,rho)])\n",
        "\n",
        "  score, _, acc = network.evaluate(x, y, batch_size=batch_size)\n",
        "  accs += acc\n",
        "\n",
        "print('Accuracy: {:.1f}%'.format(accs/iters*100))"
      ],
      "metadata": {
        "colab": {
          "base_uri": "https://localhost:8080/"
        },
        "id": "YSuIej-WhztW",
        "outputId": "245936b8-f9ec-43f2-99d2-607267dbb455"
      },
      "execution_count": 36,
      "outputs": [
        {
          "output_type": "stream",
          "name": "stdout",
          "text": [
            "10/10 [==============================] - 0s 7ms/step - loss: 0.1297 - accuracy: 0.9481 - discretized_accuracy: 0.9482\n",
            "10/10 [==============================] - 0s 4ms/step - loss: 0.1239 - accuracy: 0.9534 - discretized_accuracy: 0.9535\n",
            "10/10 [==============================] - 0s 3ms/step - loss: 0.1114 - accuracy: 0.9665 - discretized_accuracy: 0.9666\n",
            "10/10 [==============================] - 0s 4ms/step - loss: 0.1448 - accuracy: 0.9403 - discretized_accuracy: 0.9401\n",
            "10/10 [==============================] - 0s 5ms/step - loss: 0.1208 - accuracy: 0.9577 - discretized_accuracy: 0.9577\n",
            "10/10 [==============================] - 0s 3ms/step - loss: 0.1812 - accuracy: 0.9185 - discretized_accuracy: 0.9185\n",
            "10/10 [==============================] - 0s 5ms/step - loss: 0.1279 - accuracy: 0.9518 - discretized_accuracy: 0.9519\n",
            "10/10 [==============================] - 0s 5ms/step - loss: 0.1293 - accuracy: 0.9467 - discretized_accuracy: 0.9467\n",
            "10/10 [==============================] - 0s 6ms/step - loss: 0.1030 - accuracy: 0.9743 - discretized_accuracy: 0.9742\n",
            "10/10 [==============================] - 0s 4ms/step - loss: 0.1197 - accuracy: 0.9567 - discretized_accuracy: 0.9567\n",
            "10/10 [==============================] - 0s 5ms/step - loss: 0.1295 - accuracy: 0.9517 - discretized_accuracy: 0.9518\n",
            "10/10 [==============================] - 0s 5ms/step - loss: 0.1649 - accuracy: 0.9227 - discretized_accuracy: 0.9228\n",
            "10/10 [==============================] - 0s 8ms/step - loss: 0.1126 - accuracy: 0.9642 - discretized_accuracy: 0.9641\n",
            "10/10 [==============================] - 0s 5ms/step - loss: 0.1404 - accuracy: 0.9403 - discretized_accuracy: 0.9405\n",
            "10/10 [==============================] - 0s 4ms/step - loss: 0.1208 - accuracy: 0.9542 - discretized_accuracy: 0.9542\n",
            "10/10 [==============================] - 0s 6ms/step - loss: 0.1199 - accuracy: 0.9585 - discretized_accuracy: 0.9586\n",
            "10/10 [==============================] - 0s 10ms/step - loss: 0.1309 - accuracy: 0.9498 - discretized_accuracy: 0.9497\n",
            "10/10 [==============================] - 0s 6ms/step - loss: 0.1218 - accuracy: 0.9563 - discretized_accuracy: 0.9564\n",
            "10/10 [==============================] - 0s 5ms/step - loss: 0.1125 - accuracy: 0.9643 - discretized_accuracy: 0.9643\n",
            "10/10 [==============================] - 0s 9ms/step - loss: 0.1231 - accuracy: 0.9564 - discretized_accuracy: 0.9563\n",
            "10/10 [==============================] - 0s 5ms/step - loss: 0.1164 - accuracy: 0.9585 - discretized_accuracy: 0.9585\n",
            "10/10 [==============================] - 0s 6ms/step - loss: 0.1126 - accuracy: 0.9646 - discretized_accuracy: 0.9647\n",
            "10/10 [==============================] - 0s 7ms/step - loss: 0.1248 - accuracy: 0.9541 - discretized_accuracy: 0.9542\n",
            "10/10 [==============================] - 0s 10ms/step - loss: 0.1056 - accuracy: 0.9722 - discretized_accuracy: 0.9722\n",
            "10/10 [==============================] - 0s 10ms/step - loss: 0.1284 - accuracy: 0.9501 - discretized_accuracy: 0.9501\n",
            "10/10 [==============================] - 0s 5ms/step - loss: 0.1128 - accuracy: 0.9631 - discretized_accuracy: 0.9633\n",
            "10/10 [==============================] - 0s 4ms/step - loss: 0.1248 - accuracy: 0.9550 - discretized_accuracy: 0.9552\n",
            "10/10 [==============================] - 0s 7ms/step - loss: 0.1476 - accuracy: 0.9369 - discretized_accuracy: 0.9370\n",
            "10/10 [==============================] - 0s 8ms/step - loss: 0.1489 - accuracy: 0.9370 - discretized_accuracy: 0.9370\n",
            "10/10 [==============================] - 0s 8ms/step - loss: 0.1489 - accuracy: 0.9334 - discretized_accuracy: 0.9333\n",
            "10/10 [==============================] - 0s 4ms/step - loss: 0.1318 - accuracy: 0.9489 - discretized_accuracy: 0.9491\n",
            "10/10 [==============================] - 0s 4ms/step - loss: 0.1419 - accuracy: 0.9369 - discretized_accuracy: 0.9367\n",
            "10/10 [==============================] - 0s 10ms/step - loss: 0.1475 - accuracy: 0.9398 - discretized_accuracy: 0.9398\n",
            "10/10 [==============================] - 0s 8ms/step - loss: 0.1320 - accuracy: 0.9492 - discretized_accuracy: 0.9491\n",
            "10/10 [==============================] - 0s 8ms/step - loss: 0.1523 - accuracy: 0.9343 - discretized_accuracy: 0.9342\n",
            "10/10 [==============================] - 0s 5ms/step - loss: 0.1329 - accuracy: 0.9464 - discretized_accuracy: 0.9462\n",
            "10/10 [==============================] - 0s 5ms/step - loss: 0.1349 - accuracy: 0.9437 - discretized_accuracy: 0.9437\n",
            "10/10 [==============================] - 0s 5ms/step - loss: 0.1508 - accuracy: 0.9369 - discretized_accuracy: 0.9369\n",
            "10/10 [==============================] - 0s 5ms/step - loss: 0.1391 - accuracy: 0.9396 - discretized_accuracy: 0.9396\n",
            "10/10 [==============================] - 0s 7ms/step - loss: 0.1659 - accuracy: 0.9261 - discretized_accuracy: 0.9260\n",
            "10/10 [==============================] - 0s 5ms/step - loss: 0.1558 - accuracy: 0.9323 - discretized_accuracy: 0.9324\n",
            "10/10 [==============================] - 0s 7ms/step - loss: 0.1072 - accuracy: 0.9705 - discretized_accuracy: 0.9705\n",
            "10/10 [==============================] - 0s 4ms/step - loss: 0.1379 - accuracy: 0.9393 - discretized_accuracy: 0.9394\n",
            "10/10 [==============================] - 0s 4ms/step - loss: 0.1284 - accuracy: 0.9503 - discretized_accuracy: 0.9502\n",
            "10/10 [==============================] - 0s 8ms/step - loss: 0.1688 - accuracy: 0.9270 - discretized_accuracy: 0.9274\n",
            "10/10 [==============================] - 0s 6ms/step - loss: 0.1411 - accuracy: 0.9423 - discretized_accuracy: 0.9424\n",
            "10/10 [==============================] - 0s 6ms/step - loss: 0.1451 - accuracy: 0.9413 - discretized_accuracy: 0.9414\n",
            "10/10 [==============================] - 0s 6ms/step - loss: 0.1109 - accuracy: 0.9645 - discretized_accuracy: 0.9646\n",
            "10/10 [==============================] - 0s 5ms/step - loss: 0.1290 - accuracy: 0.9499 - discretized_accuracy: 0.9501\n",
            "10/10 [==============================] - 0s 7ms/step - loss: 0.1235 - accuracy: 0.9508 - discretized_accuracy: 0.9510\n",
            "10/10 [==============================] - 0s 5ms/step - loss: 0.1162 - accuracy: 0.9592 - discretized_accuracy: 0.9591\n",
            "10/10 [==============================] - 0s 4ms/step - loss: 0.1380 - accuracy: 0.9433 - discretized_accuracy: 0.9431\n",
            "10/10 [==============================] - 0s 7ms/step - loss: 0.1098 - accuracy: 0.9681 - discretized_accuracy: 0.9680\n",
            "10/10 [==============================] - 0s 4ms/step - loss: 0.1468 - accuracy: 0.9407 - discretized_accuracy: 0.9405\n",
            "10/10 [==============================] - 0s 7ms/step - loss: 0.1081 - accuracy: 0.9696 - discretized_accuracy: 0.9696\n",
            "10/10 [==============================] - 0s 5ms/step - loss: 0.1284 - accuracy: 0.9515 - discretized_accuracy: 0.9515\n",
            "10/10 [==============================] - 0s 9ms/step - loss: 0.1174 - accuracy: 0.9600 - discretized_accuracy: 0.9599\n",
            "10/10 [==============================] - 0s 5ms/step - loss: 0.1356 - accuracy: 0.9457 - discretized_accuracy: 0.9459\n",
            "10/10 [==============================] - 0s 7ms/step - loss: 0.1603 - accuracy: 0.9293 - discretized_accuracy: 0.9295\n",
            "10/10 [==============================] - 0s 6ms/step - loss: 0.1223 - accuracy: 0.9527 - discretized_accuracy: 0.9527\n",
            "10/10 [==============================] - 0s 4ms/step - loss: 0.1732 - accuracy: 0.9264 - discretized_accuracy: 0.9261\n",
            "10/10 [==============================] - 0s 5ms/step - loss: 0.1202 - accuracy: 0.9553 - discretized_accuracy: 0.9551\n",
            "10/10 [==============================] - 0s 5ms/step - loss: 0.1077 - accuracy: 0.9679 - discretized_accuracy: 0.9679\n",
            "10/10 [==============================] - 0s 7ms/step - loss: 0.1528 - accuracy: 0.9302 - discretized_accuracy: 0.9302\n",
            "10/10 [==============================] - 0s 9ms/step - loss: 0.1268 - accuracy: 0.9499 - discretized_accuracy: 0.9497\n",
            "10/10 [==============================] - 0s 5ms/step - loss: 0.1211 - accuracy: 0.9551 - discretized_accuracy: 0.9551\n",
            "10/10 [==============================] - 0s 4ms/step - loss: 0.1114 - accuracy: 0.9650 - discretized_accuracy: 0.9646\n",
            "10/10 [==============================] - 0s 5ms/step - loss: 0.1294 - accuracy: 0.9491 - discretized_accuracy: 0.9492\n",
            "10/10 [==============================] - 0s 4ms/step - loss: 0.1751 - accuracy: 0.9244 - discretized_accuracy: 0.9244\n",
            "10/10 [==============================] - 0s 9ms/step - loss: 0.1094 - accuracy: 0.9643 - discretized_accuracy: 0.9640\n",
            "10/10 [==============================] - 0s 4ms/step - loss: 0.1203 - accuracy: 0.9568 - discretized_accuracy: 0.9570\n",
            "10/10 [==============================] - 0s 6ms/step - loss: 0.1229 - accuracy: 0.9522 - discretized_accuracy: 0.9521\n",
            "10/10 [==============================] - 0s 8ms/step - loss: 0.1433 - accuracy: 0.9398 - discretized_accuracy: 0.9397\n",
            "10/10 [==============================] - 0s 7ms/step - loss: 0.1501 - accuracy: 0.9337 - discretized_accuracy: 0.9337\n",
            "10/10 [==============================] - 0s 5ms/step - loss: 0.1204 - accuracy: 0.9534 - discretized_accuracy: 0.9533\n",
            "10/10 [==============================] - 0s 4ms/step - loss: 0.2237 - accuracy: 0.9029 - discretized_accuracy: 0.9031\n",
            "10/10 [==============================] - 0s 7ms/step - loss: 0.1557 - accuracy: 0.9294 - discretized_accuracy: 0.9294\n",
            "10/10 [==============================] - 0s 5ms/step - loss: 0.1262 - accuracy: 0.9529 - discretized_accuracy: 0.9529\n",
            "10/10 [==============================] - 0s 7ms/step - loss: 0.1251 - accuracy: 0.9498 - discretized_accuracy: 0.9498\n",
            "10/10 [==============================] - 0s 7ms/step - loss: 0.1267 - accuracy: 0.9532 - discretized_accuracy: 0.9532\n",
            "10/10 [==============================] - 0s 6ms/step - loss: 0.1146 - accuracy: 0.9609 - discretized_accuracy: 0.9609\n",
            "10/10 [==============================] - 0s 4ms/step - loss: 0.1307 - accuracy: 0.9492 - discretized_accuracy: 0.9494\n",
            "10/10 [==============================] - 0s 5ms/step - loss: 0.1182 - accuracy: 0.9603 - discretized_accuracy: 0.9603\n",
            "10/10 [==============================] - 0s 5ms/step - loss: 0.1474 - accuracy: 0.9401 - discretized_accuracy: 0.9401\n",
            "10/10 [==============================] - 0s 5ms/step - loss: 0.1214 - accuracy: 0.9558 - discretized_accuracy: 0.9559\n",
            "10/10 [==============================] - 0s 5ms/step - loss: 0.1152 - accuracy: 0.9607 - discretized_accuracy: 0.9608\n",
            "10/10 [==============================] - 0s 6ms/step - loss: 0.1300 - accuracy: 0.9471 - discretized_accuracy: 0.9471\n",
            "10/10 [==============================] - 0s 5ms/step - loss: 0.1049 - accuracy: 0.9745 - discretized_accuracy: 0.9745\n",
            "10/10 [==============================] - 0s 9ms/step - loss: 0.1653 - accuracy: 0.9287 - discretized_accuracy: 0.9286\n",
            "10/10 [==============================] - 0s 5ms/step - loss: 0.1101 - accuracy: 0.9654 - discretized_accuracy: 0.9654\n",
            "10/10 [==============================] - 0s 6ms/step - loss: 0.1037 - accuracy: 0.9761 - discretized_accuracy: 0.9761\n",
            "10/10 [==============================] - 0s 5ms/step - loss: 0.1095 - accuracy: 0.9679 - discretized_accuracy: 0.9681\n",
            "10/10 [==============================] - 0s 6ms/step - loss: 0.1982 - accuracy: 0.9143 - discretized_accuracy: 0.9145\n",
            "10/10 [==============================] - 0s 4ms/step - loss: 0.1353 - accuracy: 0.9449 - discretized_accuracy: 0.9448\n",
            "10/10 [==============================] - 0s 6ms/step - loss: 0.1250 - accuracy: 0.9520 - discretized_accuracy: 0.9520\n",
            "10/10 [==============================] - 0s 4ms/step - loss: 0.1247 - accuracy: 0.9511 - discretized_accuracy: 0.9510\n",
            "10/10 [==============================] - 0s 4ms/step - loss: 0.1360 - accuracy: 0.9444 - discretized_accuracy: 0.9444\n",
            "10/10 [==============================] - 0s 5ms/step - loss: 0.1058 - accuracy: 0.9722 - discretized_accuracy: 0.9722\n",
            "10/10 [==============================] - 0s 7ms/step - loss: 0.1075 - accuracy: 0.9708 - discretized_accuracy: 0.9708\n",
            "10/10 [==============================] - 0s 5ms/step - loss: 0.1178 - accuracy: 0.9592 - discretized_accuracy: 0.9592\n",
            "Accuracy: 95.0%\n"
          ]
        }
      ]
    },
    {
      "cell_type": "markdown",
      "source": [
        "Utile esercizio: aggiungete rumore al generatore e verificate l'effetto sulla\n",
        "\"ground truth\"."
      ],
      "metadata": {
        "id": "NTY5fu8Hg7RE"
      }
    },
    {
      "cell_type": "markdown",
      "source": [
        "# Cosa consegnare\n",
        "\n",
        "Ai fini del progetto dovete lavorare con la **griglia di default di dimensione 10x10, e con il rumore di default .002**\n",
        "\n",
        "il generatore deve essere trattato come una scatola nera: non modificatelo e non sfruttate la sua semantica, che si suppone ignota. Potete lavorare in modlaità \"flat\", se preferite.\n",
        "\n",
        "Dovete:\n",
        "\n",
        "1.   definire una funzione per il calcolo della accuratezza (potete prendere ispirazione dal cocice della cella precedente) \n",
        "2.   definire una rete neurale che prende in input theta e rho e restituisce out\n",
        "3.  misurare l'accuratezza della rete, che deve essere maggiore o uguale del 95%; l'accuratezza deve essere misurata su almeno 20000 dati\n",
        "4. perfezionare il modello cercando di diminuire il più possibile il numero dei parametri mantenendo una accuratezza superiore al 95%. Solo la vostra rete migliore deve essere consegnata.\n",
        "\n",
        "Dovete consegnare un UNICO notebook eseguibile su colab, che contenga il codice della rete, il suo sommario con il numero dei parametri, la storia di training, il codice per il calcolo della accuratezza e la sua valutazione sulla vostra rete.\n",
        "\n",
        "**N.B.** L'accuratezza deve essere superiore o uguale a 95%, ma non influisce in altro modo sulla valutazione. Il vostro punteggio dipenderà unicamente dal numero dei parametri: più è piccolo e più la vostra vaalutazione sarà elevata.  \n",
        "\n",
        "#Buon lavoro!\n",
        "\n",
        "\n",
        "\n"
      ],
      "metadata": {
        "id": "jj4akvA24maJ"
      }
    }
  ]
}