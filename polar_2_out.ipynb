{
  "nbformat": 4,
  "nbformat_minor": 0,
  "metadata": {
    "colab": {
      "provenance": []
    },
    "kernelspec": {
      "name": "python3",
      "display_name": "Python 3"
    },
    "language_info": {
      "name": "python"
    },
    "accelerator": "GPU",
    "gpuClass": "standard"
  },
  "cells": [
    {
      "cell_type": "markdown",
      "source": [
        "\n",
        "L'obiettivo del progetto è apprendere mediante una rete neurale la trasformazione da punti del piano espressi in coordinate polari ad una rappresentazione basata su di una griglia discreta di dimensione 10x10, dove la cella della griglia ha valore 1 se contiene il punto, e 0 altrimenti.\n",
        "\n",
        "Il dataset supervisionato è fornito in questo notebook nella forma di una generatore. Il generatore deve essere considerato come una \"scatola nera\" il cui comportamento deve essere appreso. \n",
        "\n",
        "Dovete progettare una rete neurale in grado di raggiungere una accuratezza del 95%. Questa è una condizione necessaria per superare l'esame, ma l'accuratezza non influisce in altro modo sulla valutazione.  \n",
        "\n",
        "I modelli che raggiungono l'accuratezza attesa saranno invece valutati in modo inversamente proporzionale al numero dei loro parametri: **più il modello è piccolo, meglio è.**\n",
        "\n",
        "\n",
        "**Attenzione**: Qualunque soluzione che tragga vantaggio, diretto o indiretto, da meta-conoscenza relativa al generatore sarà automaticamente bocciato.\n"
      ],
      "metadata": {
        "id": "Zw_326KLT9dF"
      }
    },
    {
      "cell_type": "code",
      "execution_count": 1,
      "metadata": {
        "id": "ynz-4_4cFmbJ",
        "colab": {
          "base_uri": "https://localhost:8080/"
        },
        "outputId": "d75bbaa1-58fa-43a0-898b-95fd2efcf039"
      },
      "outputs": [
        {
          "output_type": "stream",
          "name": "stderr",
          "text": [
            "2023-01-10 15:04:18.176927: I tensorflow/core/platform/cpu_feature_guard.cc:193] This TensorFlow binary is optimized with oneAPI Deep Neural Network Library (oneDNN) to use the following CPU instructions in performance-critical operations:  SSE3 SSE4.1 SSE4.2 AVX AVX2 FMA\n",
            "To enable them in other operations, rebuild TensorFlow with the appropriate compiler flags.\n"
          ]
        }
      ],
      "source": [
        "import numpy as np\n",
        "import tensorflow as tf\n",
        "from tensorflow.keras.layers import Input, Dense, Reshape, concatenate\n",
        "from tensorflow.keras.models import Model"
      ]
    },
    {
      "cell_type": "markdown",
      "source": [
        "Veniamo al generatore. Questo restituisce delle triple della forma\n",
        "((theta,rho),out) dove (theta,rho) sono le coordinate polari di un punto nel primo quadrante del piano, e out è una mappa 10x10 con \"1\" in correspondenza alla cella che contiene il punto, e \"0\" altrimenti.\n",
        "\n",
        "Settando  flat=True, la mappa 10x10 viene appiattita ad un vettore di dimensione 100. Potete utilizzare questa variante, se preferite. Nessuna altra modifica del generatore è ammessa. "
      ],
      "metadata": {
        "id": "iA01pkKbUt7Q"
      }
    },
    {
      "cell_type": "code",
      "source": [
        "def polar_generator(batchsize,grid=(10,10),noise=.002,flat=False):\n",
        "  while True:\n",
        "    x = np.random.rand(batchsize)\n",
        "    y = np.random.rand(batchsize)\n",
        "    out = np.zeros((batchsize,grid[0],grid[1]))\n",
        "    xc = (x*grid[0]).astype(int)\n",
        "    yc = (y*grid[1]).astype(int)\n",
        "    for b in range(batchsize):\n",
        "      out[b,xc[b],yc[b]] = 1\n",
        "    #compute rho and theta and add some noise\n",
        "    rho = np.sqrt(x**2+y**2) + np.random.normal(scale=noise)\n",
        "    theta = np.arctan(y/np.maximum(x,.00001)) + np.random.normal(scale=noise)\n",
        "    if flat:\n",
        "      out = np.reshape(out,(batchsize,grid[0]*grid[1]))\n",
        "    yield ((theta,rho),out)"
      ],
      "metadata": {
        "id": "DsA1GqAeWAdo"
      },
      "execution_count": 2,
      "outputs": []
    },
    {
      "cell_type": "markdown",
      "source": [
        "Creiamo una istanza del generatore con una griglia di dimensione 3x4"
      ],
      "metadata": {
        "id": "ZF-jlaqAWc2o"
      }
    },
    {
      "cell_type": "code",
      "source": [
        "g1,g2 = 3,4\n",
        "gen = polar_generator(1,grid=(g1,g2),noise=0.0)"
      ],
      "metadata": {
        "id": "Ov3rXaLVHDCT"
      },
      "execution_count": 3,
      "outputs": []
    },
    {
      "cell_type": "markdown",
      "source": [
        "... e osserviamo qualche esempio"
      ],
      "metadata": {
        "id": "b4hntQtSWjPk"
      }
    },
    {
      "cell_type": "code",
      "source": [
        "# (theta,rho),maps = next(gen)\n",
        "# for i,map in enumerate(maps):\n",
        "#   #let us compute the cartesian coordinates\n",
        "#   x = np.cos(theta[i])*rho[i]\n",
        "#   y = np.sin(theta[i])*rho[i]\n",
        "#   print(\"x coordinate (row): {}\".format(int(x*g1)))\n",
        "#   print(\"y coordinate (col): {}\".format(int(y*g2)))\n",
        "#   print(\"map:\")\n",
        "#   print(np.reshape(map,(g1,g2)))"
      ],
      "metadata": {
        "colab": {
          "base_uri": "https://localhost:8080/"
        },
        "id": "PM7R8ZZZHN7p",
        "outputId": "d51c88cd-dfa2-482f-9f5d-f0cb0acc8cb6"
      },
      "execution_count": 5,
      "outputs": [
        {
          "output_type": "stream",
          "name": "stdout",
          "text": [
            "x coordinate (row): 1\n",
            "y coordinate (col): 3\n",
            "map:\n",
            "[[0. 0. 0. 0.]\n",
            " [0. 0. 0. 1.]\n",
            " [0. 0. 0. 0.]]\n"
          ]
        }
      ]
    },
    {
      "cell_type": "markdown",
      "source": [],
      "metadata": {
        "id": "W7kw_K2HNlSg"
      }
    },
    {
      "cell_type": "markdown",
      "source": [
        "Utile esercizio: aggiungete rumore al generatore e verificate l'effetto sulla\n",
        "\"ground truth\"."
      ],
      "metadata": {
        "id": "NTY5fu8Hg7RE"
      }
    },
    {
      "cell_type": "markdown",
      "source": [
        "# Cosa consegnare\n",
        "\n",
        "Ai fini del progetto dovete lavorare con la **griglia di default di dimensione 10x10, e con il rumore di default .002**\n",
        "\n",
        "il generatore deve essere trattato come una scatola nera: non modificatelo e non sfruttate la sua semantica, che si suppone ignota. Potete lavorare in modlaità \"flat\", se preferite.\n",
        "\n",
        "Dovete:\n",
        "\n",
        "1.   definire una funzione per il calcolo della accuratezza (potete prendere ispirazione dal cocice della cella precedente) \n",
        "2.   definire una rete neurale che prende in input theta e rho e restituisce out\n",
        "3.  misurare l'accuratezza della rete, che deve essere maggiore o uguale del 95%; l'accuratezza deve essere misurata su almeno 20000 dati\n",
        "4. perfezionare il modello cercando di diminuire il più possibile il numero dei parametri mantenendo una accuratezza superiore al 95%. Solo la vostra rete migliore deve essere consegnata.\n",
        "\n",
        "Dovete consegnare un UNICO notebook eseguibile su colab, che contenga il codice della rete, il suo sommario con il numero dei parametri, la storia di training, il codice per il calcolo della accuratezza e la sua valutazione sulla vostra rete.\n",
        "\n",
        "**N.B.** L'accuratezza deve essere superiore o uguale a 95%, ma non influisce in altro modo sulla valutazione. Il vostro punteggio dipenderà unicamente dal numero dei parametri: più è piccolo e più la vostra vaalutazione sarà elevata.  \n",
        "\n",
        "#Buon lavoro!\n",
        "\n",
        "\n",
        "\n"
      ],
      "metadata": {
        "id": "jj4akvA24maJ"
      }
    },
    {
      "cell_type": "code",
      "source": [
        "import keras\n",
        "import numpy as np\n",
        "from keras import layers\n",
        "from keras import activations\n",
        "from keras import losses\n",
        "from sklearn.model_selection import train_test_split\n",
        "import keras.backend as K\n",
        "\n",
        "size = 10"
      ],
      "metadata": {
        "id": "6_wpuwNvHtmM"
      },
      "execution_count": 128,
      "outputs": []
    },
    {
      "cell_type": "code",
      "source": [
        "# def map_map(map: np.ndarray) -> np.ndarray:\n",
        "#   out = np.zeros(size * 2)\n",
        "#   point = np.argwhere(map==1)[0]\n",
        "#   out[point[0]] = 1\n",
        "#   out[size + point[1]] = 1\n",
        "#   return out\n",
        "\n",
        "def map_map(map: np.ndarray) -> np.ndarray:\n",
        "  out = np.zeros(size * 2)\n",
        "  point = np.argwhere(map==1)[0]\n",
        "  return point"
      ],
      "metadata": {
        "id": "qZzw_nMnZPO_"
      },
      "execution_count": 129,
      "outputs": []
    },
    {
      "cell_type": "code",
      "source": [
        "batch_size = 512"
      ],
      "metadata": {
        "id": "TNYi_Ln0pa29"
      },
      "execution_count": 235,
      "outputs": []
    },
    {
      "cell_type": "code",
      "source": [
        "n_train = 100000\n",
        "n_test = 20000\n",
        "\n",
        "def xy(i):\n",
        "  (theta,rho),y = i\n",
        "  res = map(map_map, y)\n",
        "  y = np.array(list(res))\n",
        "  x=np.array([i for i in zip(theta,rho)])\n",
        "  return (x,y)\n",
        "\n",
        "gcd = np.gcd(n_train, n_test)\n",
        "gen = polar_generator(gcd,grid=(size,size),noise=0.02)\n",
        "\n",
        "x_train, y_train = xy(next(gen))\n",
        "for i in range(int(n_train/gcd)-1):\n",
        "  x,y = xy(next(gen))\n",
        "  x_trian = np.concatenate((x, x_train), axis=0)\n",
        "  y_trian = np.concatenate((y, y_train), axis=0)\n",
        "\n",
        "x_test, y_test = xy(next(gen))\n",
        "for i in range(int(n_train/gcd)-1):\n",
        "  x,y = xy(next(gen))\n",
        "  x_trian = np.concatenate((x, x_test), axis=0)\n",
        "  y_trian = np.concatenate((y, y_test), axis=0)\n",
        "\n",
        "# x_train, x_test, y_train, y_test = train_test_split(x, y, test_size=n_test/(n_train+n_test), shuffle=True, random_state=1)"
      ],
      "metadata": {
        "id": "YHqHVFh8Twvy"
      },
      "execution_count": 236,
      "outputs": []
    },
    {
      "cell_type": "code",
      "source": [
        "def loss_fn(y_true, y_pred):\n",
        "  point = np.array(y_true).argwhere(x==1)[1]\n",
        "\n",
        "  x = K.mult(K.cos(y_true[:1]), y_true[:2])\n",
        "  #x = np.cos(theta[i])*rho[i]\n",
        "  #y = np.sin(theta[i])*rho[1,164  \n",
        "def point_accuracy(y_true: tf.Tensor, y_pred: tf.Tensor) -> float:\n",
        "  norm = tf.cast(tf.round(y_pred), tf.uint8)\n",
        "  return tf.equal(tf.cast(y_true, tf.uint8), norm)"
      ],
      "metadata": {
        "id": "uDmOS-jlP3LJ"
      },
      "execution_count": 237,
      "outputs": []
    },
    {
      "cell_type": "code",
      "source": [
        "model = keras.Sequential([\n",
        "    layers.Flatten(),\n",
        "    layers.Dense(100, activation=activations.swish),\n",
        "    layers.Dense(50, activation=activations.sigmoid),\n",
        "    layers.Dense(25, activation=activations.swish),\n",
        "    layers.Dense(50, activation=activations.swish),\n",
        "    layers.Dense(75, activation=activations.swish),\n",
        "    layers.Dense(100, activation=activations.relu),\n",
        "\n",
        "    layers.Dense(2, activation=activations.relu)\n",
        "])\n",
        "model.build((None, 2))\n",
        "model.summary()\n",
        "model.compile(\n",
        "    optimizer=keras.optimizers.Adam(learning_rate=1e-3),\n",
        "    loss=losses.MeanAbsoluteError(),\n",
        "    metrics=['accuracy', point_accuracy]\n",
        ")"
      ],
      "metadata": {
        "colab": {
          "base_uri": "https://localhost:8080/"
        },
        "id": "b31UJpXIHkqx",
        "outputId": "e4e8d18d-87f4-47ac-f36d-b270e5d0b465"
      },
      "execution_count": 241,
      "outputs": [
        {
          "output_type": "stream",
          "name": "stdout",
          "text": [
            "Model: \"sequential_45\"\n",
            "_________________________________________________________________\n",
            " Layer (type)                Output Shape              Param #   \n",
            "=================================================================\n",
            " flatten_47 (Flatten)        (None, 2)                 0         \n",
            "                                                                 \n",
            " dense_209 (Dense)           (None, 100)               300       \n",
            "                                                                 \n",
            " dense_210 (Dense)           (None, 50)                5050      \n",
            "                                                                 \n",
            " dense_211 (Dense)           (None, 25)                1275      \n",
            "                                                                 \n",
            " dense_212 (Dense)           (None, 50)                1300      \n",
            "                                                                 \n",
            " dense_213 (Dense)           (None, 75)                3825      \n",
            "                                                                 \n",
            " dense_214 (Dense)           (None, 100)               7600      \n",
            "                                                                 \n",
            " dense_215 (Dense)           (None, 2)                 202       \n",
            "                                                                 \n",
            "=================================================================\n",
            "Total params: 19,552\n",
            "Trainable params: 19,552\n",
            "Non-trainable params: 0\n",
            "_________________________________________________________________\n"
          ]
        }
      ]
    },
    {
      "cell_type": "code",
      "source": [
        "history = model.fit(\n",
        "    x_train,\n",
        "    y_train,\n",
        "    epochs=100,# 300,\n",
        "    batch_size=batch_size\n",
        ")"
      ],
      "metadata": {
        "id": "jxYv1xHFrAY2",
        "outputId": "b9ce8fcc-a019-4163-e647-b1e09e1d337c",
        "colab": {
          "base_uri": "https://localhost:8080/"
        }
      },
      "execution_count": 242,
      "outputs": [
        {
          "output_type": "stream",
          "name": "stdout",
          "text": [
            "Epoch 1/100\n",
            "40/40 [==============================] - 0s 3ms/step - loss: 3.2208 - accuracy: 0.5361 - point_accuracy: 0.1016\n",
            "Epoch 2/100\n",
            "40/40 [==============================] - 0s 3ms/step - loss: 2.3507 - accuracy: 0.4927 - point_accuracy: 0.1041\n",
            "Epoch 3/100\n",
            "40/40 [==============================] - 0s 3ms/step - loss: 1.8809 - accuracy: 0.5396 - point_accuracy: 0.1519\n",
            "Epoch 4/100\n",
            "40/40 [==============================] - 0s 3ms/step - loss: 1.0108 - accuracy: 0.8780 - point_accuracy: 0.3885\n",
            "Epoch 5/100\n",
            "40/40 [==============================] - 0s 3ms/step - loss: 0.3838 - accuracy: 0.9434 - point_accuracy: 0.7130\n",
            "Epoch 6/100\n",
            "40/40 [==============================] - 0s 4ms/step - loss: 0.2948 - accuracy: 0.9528 - point_accuracy: 0.8284\n",
            "Epoch 7/100\n",
            "40/40 [==============================] - 0s 4ms/step - loss: 0.2674 - accuracy: 0.9531 - point_accuracy: 0.8710\n",
            "Epoch 8/100\n",
            "40/40 [==============================] - 0s 3ms/step - loss: 0.2573 - accuracy: 0.9510 - point_accuracy: 0.8865\n",
            "Epoch 9/100\n",
            "40/40 [==============================] - 0s 4ms/step - loss: 0.2488 - accuracy: 0.9495 - point_accuracy: 0.9079\n",
            "Epoch 10/100\n",
            "40/40 [==============================] - 0s 4ms/step - loss: 0.2455 - accuracy: 0.9520 - point_accuracy: 0.9194\n",
            "Epoch 11/100\n",
            "40/40 [==============================] - 0s 4ms/step - loss: 0.2469 - accuracy: 0.9511 - point_accuracy: 0.9087\n",
            "Epoch 12/100\n",
            "40/40 [==============================] - 0s 3ms/step - loss: 0.2475 - accuracy: 0.9514 - point_accuracy: 0.9063\n",
            "Epoch 13/100\n",
            "40/40 [==============================] - 0s 3ms/step - loss: 0.2429 - accuracy: 0.9534 - point_accuracy: 0.9229\n",
            "Epoch 14/100\n",
            "40/40 [==============================] - 0s 3ms/step - loss: 0.2434 - accuracy: 0.9516 - point_accuracy: 0.9212\n",
            "Epoch 15/100\n",
            "40/40 [==============================] - 0s 3ms/step - loss: 0.2424 - accuracy: 0.9516 - point_accuracy: 0.9232\n",
            "Epoch 16/100\n",
            "40/40 [==============================] - 0s 3ms/step - loss: 0.2392 - accuracy: 0.9518 - point_accuracy: 0.9307\n",
            "Epoch 17/100\n",
            "40/40 [==============================] - 0s 3ms/step - loss: 0.2403 - accuracy: 0.9516 - point_accuracy: 0.9282\n",
            "Epoch 18/100\n",
            "40/40 [==============================] - 0s 3ms/step - loss: 0.2386 - accuracy: 0.9525 - point_accuracy: 0.9333\n",
            "Epoch 19/100\n",
            "40/40 [==============================] - 0s 4ms/step - loss: 0.2387 - accuracy: 0.9524 - point_accuracy: 0.9314\n",
            "Epoch 20/100\n",
            "40/40 [==============================] - 0s 5ms/step - loss: 0.2398 - accuracy: 0.9530 - point_accuracy: 0.9305\n",
            "Epoch 21/100\n",
            "40/40 [==============================] - 0s 4ms/step - loss: 0.2400 - accuracy: 0.9524 - point_accuracy: 0.9265\n",
            "Epoch 22/100\n",
            "40/40 [==============================] - 0s 5ms/step - loss: 0.2420 - accuracy: 0.9526 - point_accuracy: 0.9208\n",
            "Epoch 23/100\n",
            "40/40 [==============================] - 0s 4ms/step - loss: 0.2415 - accuracy: 0.9525 - point_accuracy: 0.9161\n",
            "Epoch 24/100\n",
            "40/40 [==============================] - 0s 4ms/step - loss: 0.2485 - accuracy: 0.9524 - point_accuracy: 0.8977\n",
            "Epoch 25/100\n",
            "40/40 [==============================] - 0s 3ms/step - loss: 0.2355 - accuracy: 0.9535 - point_accuracy: 0.9409\n",
            "Epoch 26/100\n",
            "40/40 [==============================] - 0s 3ms/step - loss: 0.2410 - accuracy: 0.9531 - point_accuracy: 0.9179\n",
            "Epoch 27/100\n",
            "40/40 [==============================] - 0s 10ms/step - loss: 0.2387 - accuracy: 0.9526 - point_accuracy: 0.9303\n",
            "Epoch 28/100\n",
            "40/40 [==============================] - 0s 4ms/step - loss: 0.2367 - accuracy: 0.9534 - point_accuracy: 0.9373\n",
            "Epoch 29/100\n",
            "40/40 [==============================] - 0s 3ms/step - loss: 0.2380 - accuracy: 0.9533 - point_accuracy: 0.9274\n",
            "Epoch 30/100\n",
            "40/40 [==============================] - 0s 4ms/step - loss: 0.2361 - accuracy: 0.9527 - point_accuracy: 0.9341\n",
            "Epoch 31/100\n",
            "40/40 [==============================] - 0s 4ms/step - loss: 0.2451 - accuracy: 0.9545 - point_accuracy: 0.9131\n",
            "Epoch 32/100\n",
            "40/40 [==============================] - 0s 3ms/step - loss: 0.2417 - accuracy: 0.9510 - point_accuracy: 0.9139\n",
            "Epoch 33/100\n",
            "40/40 [==============================] - 0s 5ms/step - loss: 0.2370 - accuracy: 0.9536 - point_accuracy: 0.9324\n",
            "Epoch 34/100\n",
            "40/40 [==============================] - 1s 13ms/step - loss: 0.2354 - accuracy: 0.9531 - point_accuracy: 0.9414\n",
            "Epoch 35/100\n",
            "40/40 [==============================] - 0s 3ms/step - loss: 0.2371 - accuracy: 0.9535 - point_accuracy: 0.9323\n",
            "Epoch 36/100\n",
            "40/40 [==============================] - 0s 8ms/step - loss: 0.2412 - accuracy: 0.9539 - point_accuracy: 0.9155\n",
            "Epoch 37/100\n",
            "40/40 [==============================] - 0s 3ms/step - loss: 0.2391 - accuracy: 0.9542 - point_accuracy: 0.9222\n",
            "Epoch 38/100\n",
            "40/40 [==============================] - 0s 4ms/step - loss: 0.2356 - accuracy: 0.9561 - point_accuracy: 0.9375\n",
            "Epoch 39/100\n",
            "40/40 [==============================] - 0s 4ms/step - loss: 0.2372 - accuracy: 0.9535 - point_accuracy: 0.9311\n",
            "Epoch 40/100\n",
            "40/40 [==============================] - 0s 5ms/step - loss: 0.2443 - accuracy: 0.9520 - point_accuracy: 0.9078\n",
            "Epoch 41/100\n",
            "40/40 [==============================] - 0s 4ms/step - loss: 0.2350 - accuracy: 0.9536 - point_accuracy: 0.9394\n",
            "Epoch 42/100\n",
            "40/40 [==============================] - 0s 4ms/step - loss: 0.2370 - accuracy: 0.9560 - point_accuracy: 0.9267\n",
            "Epoch 43/100\n",
            "40/40 [==============================] - 0s 5ms/step - loss: 0.2347 - accuracy: 0.9531 - point_accuracy: 0.9397\n",
            "Epoch 44/100\n",
            "40/40 [==============================] - 0s 4ms/step - loss: 0.2377 - accuracy: 0.9547 - point_accuracy: 0.9302\n",
            "Epoch 45/100\n",
            "40/40 [==============================] - 0s 4ms/step - loss: 0.2402 - accuracy: 0.9536 - point_accuracy: 0.9182\n",
            "Epoch 46/100\n",
            "40/40 [==============================] - 0s 4ms/step - loss: 0.2439 - accuracy: 0.9538 - point_accuracy: 0.9069\n",
            "Epoch 47/100\n",
            "40/40 [==============================] - 0s 4ms/step - loss: 0.2378 - accuracy: 0.9530 - point_accuracy: 0.9244\n",
            "Epoch 48/100\n",
            "40/40 [==============================] - 0s 4ms/step - loss: 0.2324 - accuracy: 0.9543 - point_accuracy: 0.9460\n",
            "Epoch 49/100\n",
            "40/40 [==============================] - 0s 5ms/step - loss: 0.2357 - accuracy: 0.9516 - point_accuracy: 0.9343\n",
            "Epoch 50/100\n",
            "40/40 [==============================] - 0s 5ms/step - loss: 0.2412 - accuracy: 0.9542 - point_accuracy: 0.9193\n",
            "Epoch 51/100\n",
            "40/40 [==============================] - 0s 4ms/step - loss: 0.2406 - accuracy: 0.9533 - point_accuracy: 0.9172\n",
            "Epoch 52/100\n",
            "40/40 [==============================] - 0s 4ms/step - loss: 0.2364 - accuracy: 0.9531 - point_accuracy: 0.9297\n",
            "Epoch 53/100\n",
            "40/40 [==============================] - 0s 3ms/step - loss: 0.2361 - accuracy: 0.9545 - point_accuracy: 0.9313\n",
            "Epoch 54/100\n",
            "40/40 [==============================] - 0s 5ms/step - loss: 0.2338 - accuracy: 0.9530 - point_accuracy: 0.9416\n",
            "Epoch 55/100\n",
            "40/40 [==============================] - 0s 5ms/step - loss: 0.2396 - accuracy: 0.9534 - point_accuracy: 0.9162\n",
            "Epoch 56/100\n",
            "40/40 [==============================] - 0s 5ms/step - loss: 0.2358 - accuracy: 0.9532 - point_accuracy: 0.9339\n",
            "Epoch 57/100\n",
            "40/40 [==============================] - 0s 5ms/step - loss: 0.2326 - accuracy: 0.9535 - point_accuracy: 0.9451\n",
            "Epoch 58/100\n",
            "40/40 [==============================] - 0s 4ms/step - loss: 0.2357 - accuracy: 0.9536 - point_accuracy: 0.9316\n",
            "Epoch 59/100\n",
            "40/40 [==============================] - 0s 4ms/step - loss: 0.2359 - accuracy: 0.9538 - point_accuracy: 0.9331\n",
            "Epoch 60/100\n",
            "40/40 [==============================] - 0s 5ms/step - loss: 0.2333 - accuracy: 0.9535 - point_accuracy: 0.9403\n",
            "Epoch 61/100\n",
            "40/40 [==============================] - 0s 4ms/step - loss: 0.2338 - accuracy: 0.9537 - point_accuracy: 0.9410\n",
            "Epoch 62/100\n",
            "40/40 [==============================] - 0s 3ms/step - loss: 0.2352 - accuracy: 0.9542 - point_accuracy: 0.9303\n",
            "Epoch 63/100\n",
            "40/40 [==============================] - 0s 3ms/step - loss: 0.2436 - accuracy: 0.9533 - point_accuracy: 0.9076\n",
            "Epoch 64/100\n",
            "40/40 [==============================] - 0s 4ms/step - loss: 0.2326 - accuracy: 0.9543 - point_accuracy: 0.9459\n",
            "Epoch 65/100\n",
            "40/40 [==============================] - 0s 3ms/step - loss: 0.2366 - accuracy: 0.9538 - point_accuracy: 0.9273\n",
            "Epoch 66/100\n",
            "40/40 [==============================] - 0s 4ms/step - loss: 0.2368 - accuracy: 0.9534 - point_accuracy: 0.9272\n",
            "Epoch 67/100\n",
            "40/40 [==============================] - 0s 4ms/step - loss: 0.2341 - accuracy: 0.9545 - point_accuracy: 0.9355\n",
            "Epoch 68/100\n",
            "40/40 [==============================] - 0s 3ms/step - loss: 0.2350 - accuracy: 0.9557 - point_accuracy: 0.9339\n",
            "Epoch 69/100\n",
            "40/40 [==============================] - 0s 4ms/step - loss: 0.2358 - accuracy: 0.9526 - point_accuracy: 0.9297\n",
            "Epoch 70/100\n",
            "40/40 [==============================] - 0s 4ms/step - loss: 0.2328 - accuracy: 0.9546 - point_accuracy: 0.9408\n",
            "Epoch 71/100\n",
            "40/40 [==============================] - 0s 3ms/step - loss: 0.2314 - accuracy: 0.9535 - point_accuracy: 0.9466\n",
            "Epoch 72/100\n",
            "40/40 [==============================] - 0s 3ms/step - loss: 0.2437 - accuracy: 0.9548 - point_accuracy: 0.9030\n",
            "Epoch 73/100\n",
            "40/40 [==============================] - 0s 3ms/step - loss: 0.2373 - accuracy: 0.9541 - point_accuracy: 0.9262\n",
            "Epoch 74/100\n",
            "40/40 [==============================] - 0s 4ms/step - loss: 0.2342 - accuracy: 0.9539 - point_accuracy: 0.9313\n",
            "Epoch 75/100\n",
            "40/40 [==============================] - 0s 4ms/step - loss: 0.2383 - accuracy: 0.9537 - point_accuracy: 0.9211\n",
            "Epoch 76/100\n",
            "40/40 [==============================] - 0s 3ms/step - loss: 0.2328 - accuracy: 0.9548 - point_accuracy: 0.9402\n",
            "Epoch 77/100\n",
            "40/40 [==============================] - 0s 4ms/step - loss: 0.2375 - accuracy: 0.9536 - point_accuracy: 0.9225\n",
            "Epoch 78/100\n",
            "40/40 [==============================] - 0s 4ms/step - loss: 0.2345 - accuracy: 0.9540 - point_accuracy: 0.9356\n",
            "Epoch 79/100\n",
            "40/40 [==============================] - 0s 3ms/step - loss: 0.2373 - accuracy: 0.9553 - point_accuracy: 0.9219\n",
            "Epoch 80/100\n",
            "40/40 [==============================] - 0s 4ms/step - loss: 0.2340 - accuracy: 0.9551 - point_accuracy: 0.9328\n",
            "Epoch 81/100\n",
            "40/40 [==============================] - 0s 5ms/step - loss: 0.2383 - accuracy: 0.9520 - point_accuracy: 0.9201\n",
            "Epoch 82/100\n",
            "40/40 [==============================] - 0s 4ms/step - loss: 0.2337 - accuracy: 0.9547 - point_accuracy: 0.9343\n",
            "Epoch 83/100\n",
            "40/40 [==============================] - 0s 4ms/step - loss: 0.2305 - accuracy: 0.9548 - point_accuracy: 0.9472\n",
            "Epoch 84/100\n",
            "40/40 [==============================] - 0s 5ms/step - loss: 0.2318 - accuracy: 0.9546 - point_accuracy: 0.9399\n",
            "Epoch 85/100\n",
            "40/40 [==============================] - 0s 4ms/step - loss: 0.2336 - accuracy: 0.9554 - point_accuracy: 0.9313\n",
            "Epoch 86/100\n",
            "40/40 [==============================] - 0s 4ms/step - loss: 0.2336 - accuracy: 0.9546 - point_accuracy: 0.9313\n",
            "Epoch 87/100\n",
            "40/40 [==============================] - 0s 5ms/step - loss: 0.2386 - accuracy: 0.9564 - point_accuracy: 0.9159\n",
            "Epoch 88/100\n",
            "40/40 [==============================] - 0s 4ms/step - loss: 0.2371 - accuracy: 0.9553 - point_accuracy: 0.9198\n",
            "Epoch 89/100\n",
            "40/40 [==============================] - 0s 5ms/step - loss: 0.2332 - accuracy: 0.9543 - point_accuracy: 0.9345\n",
            "Epoch 90/100\n",
            "40/40 [==============================] - 0s 5ms/step - loss: 0.2314 - accuracy: 0.9535 - point_accuracy: 0.9396\n",
            "Epoch 91/100\n",
            "40/40 [==============================] - 0s 5ms/step - loss: 0.2343 - accuracy: 0.9535 - point_accuracy: 0.9290\n",
            "Epoch 92/100\n",
            "40/40 [==============================] - 0s 5ms/step - loss: 0.2372 - accuracy: 0.9532 - point_accuracy: 0.9201\n",
            "Epoch 93/100\n",
            "40/40 [==============================] - 0s 4ms/step - loss: 0.2318 - accuracy: 0.9547 - point_accuracy: 0.9373\n",
            "Epoch 94/100\n",
            "40/40 [==============================] - 0s 4ms/step - loss: 0.2297 - accuracy: 0.9545 - point_accuracy: 0.9485\n",
            "Epoch 95/100\n",
            "40/40 [==============================] - 0s 5ms/step - loss: 0.2342 - accuracy: 0.9562 - point_accuracy: 0.9310\n",
            "Epoch 96/100\n",
            "40/40 [==============================] - 0s 4ms/step - loss: 0.2359 - accuracy: 0.9543 - point_accuracy: 0.9248\n",
            "Epoch 97/100\n",
            "40/40 [==============================] - 0s 4ms/step - loss: 0.2359 - accuracy: 0.9546 - point_accuracy: 0.9279\n",
            "Epoch 98/100\n",
            "40/40 [==============================] - 0s 4ms/step - loss: 0.2312 - accuracy: 0.9556 - point_accuracy: 0.9387\n",
            "Epoch 99/100\n",
            "40/40 [==============================] - 0s 4ms/step - loss: 0.2293 - accuracy: 0.9554 - point_accuracy: 0.9481\n",
            "Epoch 100/100\n",
            "40/40 [==============================] - 0s 4ms/step - loss: 0.2400 - accuracy: 0.9530 - point_accuracy: 0.9123\n"
          ]
        }
      ]
    },
    {
      "cell_type": "code",
      "source": [
        "score, _, acc = model.evaluate(x_test, y_test,\n",
        "                            batch_size=batch_size)\n",
        "print(x_test.shape, y_test.shape)\n",
        "print('Test score:', score)\n",
        "print('Accuracy: {:.1f}%'.format(acc*100))\n",
        "\n",
        "accs = []\n",
        "for x in range(50):\n",
        "  (theta,rho),y = next(gen)\n",
        "  x=np.array([i for i in zip(theta,rho)])\n",
        "  y = np.array(list(map(map_map, y)))\n",
        "\n",
        "  score, _, acc = model.evaluate(x, y, batch_size=batch_size)\n",
        "  accs.append(acc)\n",
        "\n",
        "acc = np.mean(accs)\n",
        "print('Accuracy: {:.1f}%'.format(acc*100))"
      ],
      "metadata": {
        "colab": {
          "base_uri": "https://localhost:8080/"
        },
        "id": "CxuyWeFvVWXN",
        "outputId": "761d4ae0-e8b2-409a-f36d-49cbde962213"
      },
      "execution_count": 243,
      "outputs": [
        {
          "output_type": "stream",
          "name": "stdout",
          "text": [
            "40/40 [==============================] - 0s 2ms/step - loss: 0.2362 - accuracy: 0.9625 - point_accuracy: 0.9185\n",
            "(20000, 2) (20000, 2)\n",
            "Test score: 0.2361559122800827\n",
            "Accuracy: 91.9%\n",
            "40/40 [==============================] - 0s 1ms/step - loss: 0.2323 - accuracy: 0.9458 - point_accuracy: 0.9371\n",
            "40/40 [==============================] - 0s 2ms/step - loss: 0.2598 - accuracy: 0.9607 - point_accuracy: 0.8303\n",
            "40/40 [==============================] - 0s 2ms/step - loss: 0.2299 - accuracy: 0.9498 - point_accuracy: 0.9468\n",
            "40/40 [==============================] - 0s 2ms/step - loss: 0.2343 - accuracy: 0.9444 - point_accuracy: 0.9263\n",
            "40/40 [==============================] - 0s 1ms/step - loss: 0.2564 - accuracy: 0.9301 - point_accuracy: 0.8545\n",
            "40/40 [==============================] - 0s 2ms/step - loss: 0.3059 - accuracy: 0.9115 - point_accuracy: 0.7697\n",
            "40/40 [==============================] - 0s 2ms/step - loss: 0.3307 - accuracy: 0.9050 - point_accuracy: 0.7453\n",
            "40/40 [==============================] - 0s 3ms/step - loss: 0.3245 - accuracy: 0.9058 - point_accuracy: 0.7391\n",
            "40/40 [==============================] - 0s 2ms/step - loss: 0.2344 - accuracy: 0.9643 - point_accuracy: 0.9259\n",
            "40/40 [==============================] - 0s 2ms/step - loss: 0.2410 - accuracy: 0.9388 - point_accuracy: 0.9005\n",
            "40/40 [==============================] - 0s 2ms/step - loss: 0.3928 - accuracy: 0.9115 - point_accuracy: 0.6492\n",
            "40/40 [==============================] - 0s 1ms/step - loss: 0.3259 - accuracy: 0.9356 - point_accuracy: 0.7379\n",
            "40/40 [==============================] - 0s 2ms/step - loss: 0.3767 - accuracy: 0.9351 - point_accuracy: 0.6521\n",
            "40/40 [==============================] - 0s 2ms/step - loss: 0.2733 - accuracy: 0.9409 - point_accuracy: 0.8278\n",
            "40/40 [==============================] - 0s 3ms/step - loss: 0.2355 - accuracy: 0.9462 - point_accuracy: 0.9137\n",
            "40/40 [==============================] - 0s 2ms/step - loss: 0.3360 - accuracy: 0.9337 - point_accuracy: 0.7229\n",
            "40/40 [==============================] - 0s 2ms/step - loss: 0.2390 - accuracy: 0.9447 - point_accuracy: 0.9089\n",
            "40/40 [==============================] - 0s 2ms/step - loss: 0.2527 - accuracy: 0.9351 - point_accuracy: 0.8663\n",
            "40/40 [==============================] - 0s 3ms/step - loss: 0.2553 - accuracy: 0.9500 - point_accuracy: 0.8652\n",
            "40/40 [==============================] - 0s 2ms/step - loss: 0.2305 - accuracy: 0.9582 - point_accuracy: 0.9324\n",
            "40/40 [==============================] - 0s 3ms/step - loss: 0.3003 - accuracy: 0.9233 - point_accuracy: 0.7881\n",
            "40/40 [==============================] - 0s 2ms/step - loss: 0.4263 - accuracy: 0.9393 - point_accuracy: 0.6077\n",
            "40/40 [==============================] - 0s 2ms/step - loss: 0.2567 - accuracy: 0.9592 - point_accuracy: 0.8622\n",
            "40/40 [==============================] - 0s 2ms/step - loss: 0.2341 - accuracy: 0.9568 - point_accuracy: 0.9139\n",
            "40/40 [==============================] - 0s 1ms/step - loss: 0.3094 - accuracy: 0.9682 - point_accuracy: 0.7668\n",
            "40/40 [==============================] - 0s 2ms/step - loss: 0.2368 - accuracy: 0.9627 - point_accuracy: 0.9166\n",
            "40/40 [==============================] - 0s 2ms/step - loss: 0.2721 - accuracy: 0.9204 - point_accuracy: 0.8317\n",
            "40/40 [==============================] - 0s 3ms/step - loss: 0.3182 - accuracy: 0.9288 - point_accuracy: 0.7476\n",
            "40/40 [==============================] - 0s 2ms/step - loss: 0.2375 - accuracy: 0.9458 - point_accuracy: 0.9140\n",
            "40/40 [==============================] - 0s 2ms/step - loss: 0.2536 - accuracy: 0.9405 - point_accuracy: 0.8663\n",
            "40/40 [==============================] - 0s 3ms/step - loss: 0.2812 - accuracy: 0.9349 - point_accuracy: 0.8072\n",
            "40/40 [==============================] - 0s 2ms/step - loss: 0.2497 - accuracy: 0.9322 - point_accuracy: 0.8850\n",
            "40/40 [==============================] - 0s 2ms/step - loss: 0.2410 - accuracy: 0.9375 - point_accuracy: 0.8981\n",
            "40/40 [==============================] - 0s 2ms/step - loss: 0.2892 - accuracy: 0.9442 - point_accuracy: 0.7979\n",
            "40/40 [==============================] - 0s 3ms/step - loss: 0.4201 - accuracy: 0.9578 - point_accuracy: 0.6173\n",
            "40/40 [==============================] - 0s 2ms/step - loss: 0.2456 - accuracy: 0.9366 - point_accuracy: 0.8945\n",
            "40/40 [==============================] - 0s 2ms/step - loss: 0.2471 - accuracy: 0.9589 - point_accuracy: 0.8899\n",
            "40/40 [==============================] - 0s 3ms/step - loss: 0.2648 - accuracy: 0.9244 - point_accuracy: 0.8399\n",
            "40/40 [==============================] - 0s 2ms/step - loss: 0.2316 - accuracy: 0.9467 - point_accuracy: 0.9358\n",
            "40/40 [==============================] - 0s 2ms/step - loss: 0.3183 - accuracy: 0.9075 - point_accuracy: 0.7462\n",
            "40/40 [==============================] - 0s 3ms/step - loss: 0.3129 - accuracy: 0.9589 - point_accuracy: 0.7582\n",
            "40/40 [==============================] - 0s 2ms/step - loss: 0.2543 - accuracy: 0.9568 - point_accuracy: 0.8696\n",
            "40/40 [==============================] - 0s 2ms/step - loss: 0.2633 - accuracy: 0.9316 - point_accuracy: 0.8409\n",
            "40/40 [==============================] - 0s 2ms/step - loss: 0.2626 - accuracy: 0.9513 - point_accuracy: 0.8526\n",
            "40/40 [==============================] - 0s 2ms/step - loss: 0.2713 - accuracy: 0.9255 - point_accuracy: 0.8249\n",
            "40/40 [==============================] - 0s 2ms/step - loss: 0.2321 - accuracy: 0.9434 - point_accuracy: 0.9344\n",
            "40/40 [==============================] - 0s 3ms/step - loss: 0.2877 - accuracy: 0.9137 - point_accuracy: 0.7984\n",
            "40/40 [==============================] - 0s 3ms/step - loss: 0.2861 - accuracy: 0.9143 - point_accuracy: 0.7964\n",
            "40/40 [==============================] - 0s 2ms/step - loss: 0.3324 - accuracy: 0.9024 - point_accuracy: 0.7433\n",
            "40/40 [==============================] - 0s 3ms/step - loss: 0.2616 - accuracy: 0.9320 - point_accuracy: 0.8393\n",
            "Accuracy: 82.9%\n"
          ]
        }
      ]
    },
    {
      "cell_type": "code",
      "source": [
        "x, y = xy(next(gen))\n",
        "for i in range(100):\n",
        "  y_pred = model.predict(x[i:i+1], verbose=0)\n",
        "  ans = np.round(y_pred)[0]\n",
        "  if(~np.equal(y[i], ans).all()):\n",
        "    print(y[i], y_pred[0], ans)"
      ],
      "metadata": {
        "colab": {
          "base_uri": "https://localhost:8080/"
        },
        "id": "PlL3N3WT0cAA",
        "outputId": "7c2d7559-353c-4a7d-f2eb-2f176e1ef007"
      },
      "execution_count": 223,
      "outputs": [
        {
          "output_type": "stream",
          "name": "stdout",
          "text": [
            "[1 8] [1.6918747 7.9072466] [2. 8.]\n",
            "[7 1] [7.72345   0.5811634] [8. 1.]\n",
            "[5 6] [5.5203557 5.820051 ] [6. 6.]\n",
            "[2 3] [2.7413785 2.9114342] [3. 3.]\n",
            "[5 6] [5.615502 6.330038] [6. 6.]\n",
            "[4 2] [4.550197  2.4694378] [5. 2.]\n",
            "[4 8] [4.6336503 8.546014 ] [5. 9.]\n",
            "[2 8] [1.866356 8.577712] [2. 9.]\n",
            "[6 2] [6.5518494 2.28608  ] [7. 2.]\n",
            "[8 7] [8.512311 7.015404] [9. 7.]\n",
            "[2 3] [2.781919 2.759175] [3. 3.]\n",
            "[7 3] [7.6382375 2.8167334] [8. 3.]\n",
            "[6 9] [6.6883197 9.252294 ] [7. 9.]\n",
            "[9 3] [9.509774  3.1504257] [10.  3.]\n",
            "[5 1] [5.6179605 1.3603102] [6. 1.]\n",
            "[8 1] [8.25647    0.46758547] [8. 0.]\n",
            "[1 2] [0.86550725 2.729677  ] [1. 3.]\n",
            "[3 7] [3.0359097 7.5240703] [3. 8.]\n",
            "[3 0] [3.5369406 0.2683025] [4. 0.]\n",
            "[4 5] [4.6773305 5.1505375] [5. 5.]\n",
            "[6 5] [6.8044896 5.196588 ] [7. 5.]\n",
            "[0 0] [0.         0.76221025] [0. 1.]\n",
            "[4 0] [4.641539   0.46320155] [5. 0.]\n",
            "[3 1] [3.7650893 1.3877875] [4. 1.]\n",
            "[7 2] [7.8303537 2.2623384] [8. 2.]\n",
            "[7 9] [7.863147 9.293246] [8. 9.]\n",
            "[0 6] [0.       6.778114] [0. 7.]\n",
            "[9 5] [9.587254 4.662373] [10.  5.]\n",
            "[2 2] [2.1701906 2.5815768] [2. 3.]\n",
            "[5 3] [5.6336923 2.6152382] [6. 3.]\n",
            "[5 2] [5.7948384 2.1972787] [6. 2.]\n",
            "[8 3] [8.673186  2.9482567] [9. 3.]\n",
            "[8 5] [8.615954  5.1463723] [9. 5.]\n",
            "[0 2] [0.        2.8050158] [0. 3.]\n",
            "[4 3] [4.696668  3.5949912] [5. 4.]\n",
            "[8 8] [8.770522 8.176916] [9. 8.]\n",
            "[5 1] [5.580601   0.55325145] [6. 1.]\n",
            "[4 9] [4.7487407 8.954066 ] [5. 9.]\n",
            "[3 7] [2.8831177 7.641485 ] [3. 8.]\n",
            "[8 7] [8.595137  6.9760833] [9. 7.]\n"
          ]
        }
      ]
    }
  ]
}