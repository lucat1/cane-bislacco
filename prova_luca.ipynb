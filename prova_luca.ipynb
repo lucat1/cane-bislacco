{
  "nbformat": 4,
  "nbformat_minor": 0,
  "metadata": {
    "colab": {
      "provenance": []
    },
    "kernelspec": {
      "name": "python3",
      "display_name": "Python 3"
    },
    "language_info": {
      "name": "python"
    }
  },
  "cells": [
    {
      "cell_type": "markdown",
      "source": [
        "\n",
        "L'obiettivo del progetto è apprendere mediante una rete neurale la trasformazione da punti del piano espressi in coordinate polari ad una rappresentazione basata su di una griglia discreta di dimensione 10x10, dove la cella della griglia ha valore 1 se contiene il punto, e 0 altrimenti.\n",
        "\n",
        "Il dataset supervisionato è fornito in questo notebook nella forma di una generatore. Il generatore deve essere considerato come una \"scatola nera\" il cui comportamento deve essere appreso. \n",
        "\n",
        "Dovete progettare una rete neurale in grado di raggiungere una accuratezza del 95%. Questa è una condizione necessaria per superare l'esame, ma l'accuratezza non influisce in altro modo sulla valutazione.  \n",
        "\n",
        "I modelli che raggiungono l'accuratezza attesa saranno invece valutati in modo inversamente proporzionale al numero dei loro parametri: **più il modello è piccolo, meglio è.**\n",
        "\n",
        "\n",
        "**Attenzione**: Qualunque soluzione che tragga vantaggio, diretto o indiretto, da meta-conoscenza relativa al generatore sarà automaticamente bocciato.\n"
      ],
      "metadata": {
        "id": "Zw_326KLT9dF"
      }
    },
    {
      "cell_type": "markdown",
      "source": [
        "Veniamo al generatore. Questo restituisce delle triple della forma\n",
        "((theta,rho),out) dove (theta,rho) sono le coordinate polari di un punto nel primo quadrante del piano, e out è una mappa 10x10 con \"1\" in correspondenza alla cella che contiene il punto, e \"0\" altrimenti.\n",
        "\n",
        "Settando  flat=True, la mappa 10x10 viene appiattita ad un vettore di dimensione 100. Potete utilizzare questa variante, se preferite. Nessuna altra modifica del generatore è ammessa. "
      ],
      "metadata": {
        "id": "iA01pkKbUt7Q"
      }
    },
    {
      "cell_type": "markdown",
      "source": [
        "Creiamo una istanza del generatore con una griglia di dimensione 3x4"
      ],
      "metadata": {
        "id": "ZF-jlaqAWc2o"
      }
    },
    {
      "cell_type": "markdown",
      "source": [
        "... e osserviamo qualche esempio"
      ],
      "metadata": {
        "id": "b4hntQtSWjPk"
      }
    },
    {
      "cell_type": "code",
      "source": [
        "import keras\n",
        "from keras import layers\n",
        "from keras import activations\n",
        "import numpy as np\n",
        "import tensorflow as tf\n",
        "from tensorflow.keras.layers import Input, Dense, Reshape, concatenate\n",
        "from tensorflow.keras.models import Model\n",
        "from sklearn.model_selection import train_test_split\n",
        "\n",
        "def polar_generator(batchsize,grid=(10,10),noise=.002,flat=False):\n",
        "  while True:\n",
        "    x = np.random.rand(batchsize)\n",
        "    y = np.random.rand(batchsize)\n",
        "    out = np.zeros((batchsize,grid[0],grid[1]))\n",
        "    xc = (x*grid[0]).astype(int)\n",
        "    yc = (y*grid[1]).astype(int)\n",
        "    for b in range(batchsize):\n",
        "      out[b,xc[b],yc[b]] = 1\n",
        "    #compute rho and theta and add some noise\n",
        "    rho = np.sqrt(x**2+y**2) + np.random.normal(scale=noise)\n",
        "    theta = np.arctan(y/np.maximum(x,.00001)) + np.random.normal(scale=noise)\n",
        "    if flat:\n",
        "      out = np.reshape(out,(batchsize,grid[0]*grid[1]))\n",
        "    yield ((theta,rho),out)\n",
        "\n",
        "n_train = 4000000\n",
        "n_test = 20000\n",
        "batch_size = 2048\n",
        "\n",
        "g1,g2 = 10,10\n",
        "gen = polar_generator(n_train+n_test,grid=(g1,g2),noise=0.002,flat=True)\n",
        "# (theta,rho),y = next(gen)\n",
        "(theta,rho),y = next(gen)\n",
        "\n",
        "x=np.array([i for i in zip(theta,rho)])\n",
        "\n",
        "# def xy(i):\n",
        "#   (theta,rho),y = i\n",
        "#   x=np.array([i for i in zip(theta,rho)])\n",
        "#   return (x,y)\n",
        "\n",
        "# gcd = np.gcd(n_train, n_test)\n",
        "# gen = pol.ipynbar_generator(gcd,grid=(size,size),noise=0.02)\n",
        "\n",
        "# x_train, y_train = xy(next(gen))\n",
        "# for i in range(int(n_train/gcd)-1):\n",
        "#   x,y = xy(next(gen))\n",
        "#   x_train = np.concatenate((x, x_train), axis=0)\n",
        "#   y_train = np.concatenate((y, y_train), axis=0)\n",
        "\n",
        "# x_test, y_test = xy(next(gen))\n",
        "# for i in range(int(n_train/gcd)-1):\n",
        "#   x,y = xy(next(gen))\n",
        "#   x_test = np.concatenate((x, x_test), axis=0)\n",
        "#   y_test = np.concatenate((y, y_test), axis=0)\n",
        "\n",
        "x_train, x_test, y_train, y_test = train_test_split(x, y, test_size=n_test/(n_train+n_test), shuffle=True, random_state=1)\n",
        "\n",
        "\n",
        "def discretized_accuracy(true_maps: tf.Tensor, my_maps: tf.Tensor) -> float:\n",
        "  equals = tf.equal(tf.argmax(true_maps, axis=1), tf.argmax(my_maps, axis=1))\n",
        "  return tf.cast(tf.math.count_nonzero(equals), tf.float64) / tf.cast(len(true_maps), tf.float64)"
      ],
      "metadata": {
        "id": "0Hh8TIUvKuXp",
        "colab": {
          "base_uri": "https://localhost:8080/"
        },
        "outputId": "68893c91-1848-47b6-ef69-64543bc21dfa"
      },
      "execution_count": 1,
      "outputs": [
        {
          "output_type": "stream",
          "name": "stderr",
          "text": [
            "2023-01-11 17:46:20.764659: I tensorflow/core/platform/cpu_feature_guard.cc:193] This TensorFlow binary is optimized with oneAPI Deep Neural Network Library (oneDNN) to use the following CPU instructions in performance-critical operations:  SSE3 SSE4.1 SSE4.2 AVX AVX2 FMA\n",
            "To enable them in other operations, rebuild TensorFlow with the appropriate compiler flags.\n"
          ]
        }
      ]
    },
    {
      "cell_type": "code",
      "source": [
        "network = keras.Sequential([\n",
        "layers.Flatten(),\n",
        "# layers.Dense(20, activation=keras.activations.relu),\n",
        "# layers.Dense(20, activation=keras.activations.tanh),\n",
        "# layers.Dropout(0.1), # Spegni il 10% dei neuroni a caso\n",
        "layers.Dense(6, activation=keras.activations.softsign),\n",
        "layers.Dense(12, activation=keras.activations.swish),\n",
        "# layers.BatchNormalization(),\n",
        "# layers.Dropout(0.5), # Spegni il 10% dei neuroni a caso\n",
        "layers.Dense(6, activation=keras.activations.relu),\n",
        "layers.Dense(6, activation=keras.activations.swish),\n",
        "# layers.Dropout(0.5), # Spegni il 10% dei neuroni a caso\n",
        "# layers.LayerNormalization(),\n",
        "# layers.BatchNormalization(),\n",
        "layers.Dense(100, activation=activations.softmax)\n",
        "])\n",
        "\n",
        "# Prima di poter usare il modello dobbiamo dire a Keras la dimensione dei nostri input\n",
        "# \"None\" vuol dire che il numero è ignoto/può cambiare (perché quante immagini alla volta g# può cambiare)\n",
        "network.build((None, 2))\n",
        "network.summary()\n",
        "\n",
        "network.compile(\n",
        "optimizer=keras.optimizers.Adam(learning_rate=1e-3), # Impostiamo SGD come ottimizzatore\n",
        "loss=keras.losses.CategoricalCrossentropy(),\n",
        "# loss=customLoss,\n",
        "metrics=['accuracy', discretized_accuracy]\n",
        ")\n"
      ],
      "metadata": {
        "colab": {
          "base_uri": "https://localhost:8080/"
        },
        "id": "icsL8zRUZ1Y-",
        "outputId": "30dd76a8-5053-40f7-eda2-f2743ed13690"
      },
      "execution_count": 2,
      "outputs": [
        {
          "output_type": "stream",
          "name": "stdout",
          "text": [
            "Model: \"sequential\"\n",
            "_________________________________________________________________\n",
            " Layer (type)                Output Shape              Param #   \n",
            "=================================================================\n",
            " flatten (Flatten)           (None, 2)                 0         \n",
            "                                                                 \n",
            " dense (Dense)               (None, 6)                 18        \n",
            "                                                                 \n",
            " dense_1 (Dense)             (None, 12)                84        \n",
            "                                                                 \n",
            " dense_2 (Dense)             (None, 6)                 78        \n",
            "                                                                 \n",
            " dense_3 (Dense)             (None, 6)                 42        \n",
            "                                                                 \n",
            " dense_4 (Dense)             (None, 100)               700       \n",
            "                                                                 \n",
            "=================================================================\n",
            "Total params: 922\n",
            "Trainable params: 922\n",
            "Non-trainable params: 0\n",
            "_________________________________________________________________\n"
          ]
        },
        {
          "output_type": "stream",
          "name": "stderr",
          "text": [
            "2023-01-11 17:46:28.675499: I tensorflow/core/platform/cpu_feature_guard.cc:193] This TensorFlow binary is optimized with oneAPI Deep Neural Network Library (oneDNN) to use the following CPU instructions in performance-critical operations:  SSE3 SSE4.1 SSE4.2 AVX AVX2 FMA\n",
            "To enable them in other operations, rebuild TensorFlow with the appropriate compiler flags.\n",
            "2023-01-11 17:46:28.676996: I tensorflow/core/common_runtime/process_util.cc:146] Creating new thread pool with default inter op setting: 2. Tune using inter_op_parallelism_threads for best performance.\n"
          ]
        }
      ]
    },
    {
      "cell_type": "code",
      "source": [
        "network = keras.models.load_model(\"mymodel\")"
      ],
      "metadata": {
        "id": "lVV8wkELsrfz",
        "colab": {
          "base_uri": "https://localhost:8080/",
          "height": 499
        },
        "outputId": "38f42012-0dd5-476c-bf7e-7ae8f54f6119"
      },
      "execution_count": 3,
      "outputs": [
        {
          "output_type": "error",
          "ename": "ValueError",
          "evalue": "ignored",
          "traceback": [
            "\u001b[0;31m---------------------------------------------------------------------------\u001b[0m",
            "\u001b[0;31mValueError\u001b[0m                                Traceback (most recent call last)",
            "Cell \u001b[0;32mIn[3], line 1\u001b[0m\n\u001b[0;32m----> 1\u001b[0m network \u001b[38;5;241m=\u001b[39m \u001b[43mkeras\u001b[49m\u001b[38;5;241;43m.\u001b[39;49m\u001b[43mmodels\u001b[49m\u001b[38;5;241;43m.\u001b[39;49m\u001b[43mload_model\u001b[49m\u001b[43m(\u001b[49m\u001b[38;5;124;43m\"\u001b[39;49m\u001b[38;5;124;43mmymodel\u001b[39;49m\u001b[38;5;124;43m\"\u001b[39;49m\u001b[43m)\u001b[49m\n",
            "File \u001b[0;32m/usr/lib/python3.10/site-packages/keras/utils/traceback_utils.py:70\u001b[0m, in \u001b[0;36mfilter_traceback.<locals>.error_handler\u001b[0;34m(*args, **kwargs)\u001b[0m\n\u001b[1;32m     67\u001b[0m     filtered_tb \u001b[38;5;241m=\u001b[39m _process_traceback_frames(e\u001b[38;5;241m.\u001b[39m__traceback__)\n\u001b[1;32m     68\u001b[0m     \u001b[38;5;66;03m# To get the full stack trace, call:\u001b[39;00m\n\u001b[1;32m     69\u001b[0m     \u001b[38;5;66;03m# `tf.debugging.disable_traceback_filtering()`\u001b[39;00m\n\u001b[0;32m---> 70\u001b[0m     \u001b[38;5;28;01mraise\u001b[39;00m e\u001b[38;5;241m.\u001b[39mwith_traceback(filtered_tb) \u001b[38;5;28;01mfrom\u001b[39;00m \u001b[38;5;28mNone\u001b[39m\n\u001b[1;32m     71\u001b[0m \u001b[38;5;28;01mfinally\u001b[39;00m:\n\u001b[1;32m     72\u001b[0m     \u001b[38;5;28;01mdel\u001b[39;00m filtered_tb\n",
            "File \u001b[0;32m/usr/lib/python3.10/site-packages/keras/saving/legacy/saved_model/load.py:1138\u001b[0m, in \u001b[0;36mrevive_custom_object\u001b[0;34m(identifier, metadata)\u001b[0m\n\u001b[1;32m   1136\u001b[0m     \u001b[38;5;28;01mreturn\u001b[39;00m revived_cls\u001b[38;5;241m.\u001b[39m_init_from_metadata(metadata)\n\u001b[1;32m   1137\u001b[0m \u001b[38;5;28;01melse\u001b[39;00m:\n\u001b[0;32m-> 1138\u001b[0m     \u001b[38;5;28;01mraise\u001b[39;00m \u001b[38;5;167;01mValueError\u001b[39;00m(\n\u001b[1;32m   1139\u001b[0m         \u001b[38;5;124mf\u001b[39m\u001b[38;5;124m\"\u001b[39m\u001b[38;5;124mUnable to restore custom object of type \u001b[39m\u001b[38;5;132;01m{\u001b[39;00midentifier\u001b[38;5;132;01m}\u001b[39;00m\u001b[38;5;124m. \u001b[39m\u001b[38;5;124m\"\u001b[39m\n\u001b[1;32m   1140\u001b[0m         \u001b[38;5;124m\"\u001b[39m\u001b[38;5;124mPlease make sure that any custom layers are included in the \u001b[39m\u001b[38;5;124m\"\u001b[39m\n\u001b[1;32m   1141\u001b[0m         \u001b[38;5;124m\"\u001b[39m\u001b[38;5;124m`custom_objects` arg when calling `load_model()` and make sure \u001b[39m\u001b[38;5;124m\"\u001b[39m\n\u001b[1;32m   1142\u001b[0m         \u001b[38;5;124m\"\u001b[39m\u001b[38;5;124mthat all layers implement `get_config` and `from_config`.\u001b[39m\u001b[38;5;124m\"\u001b[39m\n\u001b[1;32m   1143\u001b[0m     )\n",
            "\u001b[0;31mValueError\u001b[0m: Unable to restore custom object of type _tf_keras_metric. Please make sure that any custom layers are included in the `custom_objects` arg when calling `load_model()` and make sure that all layers implement `get_config` and `from_config`."
          ]
        }
      ]
    },
    {
      "cell_type": "code",
      "source": [
        "history = network.fit(\n",
        "x=x_train,\n",
        "y=y_train,\n",
        "epochs=15, # Addestriamo per 100 epoche\n",
        "batch_size=batch_size, # Usiamo una batch size di 128\n",
        "validation_data=(x_test, y_test),\n",
        "callbacks=[keras.callbacks.EarlyStopping(monitor='val_loss', patience=5)]\n",
        ")"
      ],
      "metadata": {
        "colab": {
          "base_uri": "https://localhost:8080/"
        },
        "id": "0s1bjWjlxkEv",
        "outputId": "3c2685bd-3965-4551-aa90-23ed4332a4d7"
      },
      "execution_count": null,
      "outputs": [
        {
          "output_type": "stream",
          "name": "stdout",
          "text": [
            "Epoch 1/15\n",
            "1954/1954 [==============================] - 34s 17ms/step - loss: 0.0670 - accuracy: 0.9745 - discretized_accuracy: 0.9745 - val_loss: 0.0635 - val_accuracy: 0.9761 - val_discretized_accuracy: 0.9761\n",
            "Epoch 2/15\n",
            " 110/1954 [>.............................] - ETA: 35s - loss: 0.0671 - accuracy: 0.9745 - discretized_accuracy: 0.9745"
          ]
        }
      ]
    },
    {
      "cell_type": "code",
      "source": [
        "score, _, acc  = network.evaluate(x_test, y_test,\n",
        "                            batch_size=batch_size)\n",
        "print('Test score:', score)\n",
        "print('Accuracy: {:.1f}%'.format(acc*100))"
      ],
      "metadata": {
        "id": "9EVrd8vdibxj",
        "outputId": "21461db7-2b3a-4963-dd22-7df6261b56bd",
        "colab": {
          "base_uri": "https://localhost:8080/"
        }
      },
      "execution_count": 12,
      "outputs": [
        {
          "output_type": "stream",
          "name": "stdout",
          "text": [
            "10/10 [==============================] - 0s 8ms/step - loss: 0.0665 - accuracy: 0.9757 - discretized_accuracy: 0.9757\n",
            "Test score: 0.06646084785461426\n",
            "Accuracy: 97.6%\n"
          ]
        }
      ]
    },
    {
      "cell_type": "code",
      "source": [
        "network.save(\"mymodel_2048\")\n",
        "network.summary()"
      ],
      "metadata": {
        "colab": {
          "base_uri": "https://localhost:8080/"
        },
        "id": "dYGzYU7dnM11",
        "outputId": "073ae6b6-5ec2-4ae8-ed2a-04f6fb6dadeb"
      },
      "execution_count": 13,
      "outputs": [
        {
          "output_type": "stream",
          "name": "stdout",
          "text": [
            "INFO:tensorflow:Assets written to: mymodel_2048/assets\n",
            "Model: \"sequential\"\n",
            "_________________________________________________________________\n",
            " Layer (type)                Output Shape              Param #   \n",
            "=================================================================\n",
            " flatten (Flatten)           (None, 2)                 0         \n",
            "                                                                 \n",
            " dense (Dense)               (None, 6)                 18        \n",
            "                                                                 \n",
            " dense_1 (Dense)             (None, 12)                84        \n",
            "                                                                 \n",
            " dense_2 (Dense)             (None, 6)                 78        \n",
            "                                                                 \n",
            " dense_3 (Dense)             (None, 6)                 42        \n",
            "                                                                 \n",
            " dense_4 (Dense)             (None, 100)               700       \n",
            "                                                                 \n",
            "=================================================================\n",
            "Total params: 922\n",
            "Trainable params: 922\n",
            "Non-trainable params: 0\n",
            "_________________________________________________________________\n"
          ]
        }
      ]
    },
    {
      "cell_type": "code",
      "source": [
        "gen = polar_generator(20000,grid=(g1,g2),noise=0.002,flat=True)\n",
        "\n",
        "accs = 0.0\n",
        "iters = 100\n",
        "for x in range(iters):\n",
        "  (theta,rho),y = next(gen)\n",
        "  x=np.array([i for i in zip(theta,rho)])\n",
        "\n",
        "  score, _, acc = network.evaluate(x, y, batch_size=batch_size)\n",
        "  accs += acc\n",
        "\n",
        "print('Accuracy: {:.1f}%'.format(accs/iters*100))"
      ],
      "metadata": {
        "colab": {
          "base_uri": "https://localhost:8080/"
        },
        "id": "YSuIej-WhztW",
        "outputId": "833d8c74-0b5a-4ad6-e934-de5a642f8375"
      },
      "execution_count": 17,
      "outputs": [
        {
          "output_type": "stream",
          "name": "stdout",
          "text": [
            "10/10 [==============================] - 0s 6ms/step - loss: 0.1131 - accuracy: 0.9527 - discretized_accuracy: 0.9527\n",
            "10/10 [==============================] - 0s 5ms/step - loss: 0.1468 - accuracy: 0.9434 - discretized_accuracy: 0.9433\n",
            "10/10 [==============================] - 0s 5ms/step - loss: 0.1359 - accuracy: 0.9441 - discretized_accuracy: 0.9441\n",
            "10/10 [==============================] - 0s 5ms/step - loss: 0.1627 - accuracy: 0.9317 - discretized_accuracy: 0.9319\n",
            "10/10 [==============================] - 0s 8ms/step - loss: 0.1750 - accuracy: 0.9330 - discretized_accuracy: 0.9332\n",
            "10/10 [==============================] - 0s 5ms/step - loss: 0.0867 - accuracy: 0.9638 - discretized_accuracy: 0.9638\n",
            "10/10 [==============================] - 0s 5ms/step - loss: 0.0812 - accuracy: 0.9658 - discretized_accuracy: 0.9659\n",
            "10/10 [==============================] - 0s 6ms/step - loss: 0.0963 - accuracy: 0.9596 - discretized_accuracy: 0.9596\n",
            "10/10 [==============================] - 0s 5ms/step - loss: 0.0801 - accuracy: 0.9675 - discretized_accuracy: 0.9676\n",
            "10/10 [==============================] - 0s 8ms/step - loss: 0.1089 - accuracy: 0.9528 - discretized_accuracy: 0.9528\n",
            "10/10 [==============================] - 0s 4ms/step - loss: 0.1396 - accuracy: 0.9417 - discretized_accuracy: 0.9417\n",
            "10/10 [==============================] - 0s 8ms/step - loss: 0.0931 - accuracy: 0.9592 - discretized_accuracy: 0.9591\n",
            "10/10 [==============================] - 0s 9ms/step - loss: 0.1074 - accuracy: 0.9529 - discretized_accuracy: 0.9529\n",
            "10/10 [==============================] - 0s 5ms/step - loss: 0.0816 - accuracy: 0.9645 - discretized_accuracy: 0.9645\n",
            "10/10 [==============================] - 0s 6ms/step - loss: 0.1063 - accuracy: 0.9543 - discretized_accuracy: 0.9543\n",
            "10/10 [==============================] - 0s 6ms/step - loss: 0.1363 - accuracy: 0.9400 - discretized_accuracy: 0.9401\n",
            "10/10 [==============================] - 0s 6ms/step - loss: 0.1835 - accuracy: 0.9322 - discretized_accuracy: 0.9321\n",
            "10/10 [==============================] - 0s 10ms/step - loss: 0.1285 - accuracy: 0.9438 - discretized_accuracy: 0.9440\n",
            "10/10 [==============================] - 0s 5ms/step - loss: 0.0734 - accuracy: 0.9698 - discretized_accuracy: 0.9697\n",
            "10/10 [==============================] - 0s 4ms/step - loss: 0.0981 - accuracy: 0.9590 - discretized_accuracy: 0.9590\n",
            "10/10 [==============================] - 0s 4ms/step - loss: 0.0780 - accuracy: 0.9667 - discretized_accuracy: 0.9668\n",
            "10/10 [==============================] - 0s 6ms/step - loss: 0.1388 - accuracy: 0.9431 - discretized_accuracy: 0.9432\n",
            "10/10 [==============================] - 0s 5ms/step - loss: 0.0847 - accuracy: 0.9651 - discretized_accuracy: 0.9651\n",
            "10/10 [==============================] - 0s 9ms/step - loss: 0.1402 - accuracy: 0.9436 - discretized_accuracy: 0.9437\n",
            "10/10 [==============================] - 0s 7ms/step - loss: 0.1279 - accuracy: 0.9424 - discretized_accuracy: 0.9424\n",
            "10/10 [==============================] - 0s 5ms/step - loss: 0.0961 - accuracy: 0.9592 - discretized_accuracy: 0.9592\n",
            "10/10 [==============================] - 0s 3ms/step - loss: 0.1226 - accuracy: 0.9489 - discretized_accuracy: 0.9490\n",
            "10/10 [==============================] - 0s 6ms/step - loss: 0.1708 - accuracy: 0.9362 - discretized_accuracy: 0.9364\n",
            "10/10 [==============================] - 0s 4ms/step - loss: 0.1126 - accuracy: 0.9522 - discretized_accuracy: 0.9521\n",
            "10/10 [==============================] - 0s 4ms/step - loss: 0.1363 - accuracy: 0.9439 - discretized_accuracy: 0.9439\n",
            "10/10 [==============================] - 0s 4ms/step - loss: 0.1474 - accuracy: 0.9406 - discretized_accuracy: 0.9407\n",
            "10/10 [==============================] - 0s 6ms/step - loss: 0.0818 - accuracy: 0.9654 - discretized_accuracy: 0.9654\n",
            "10/10 [==============================] - 0s 7ms/step - loss: 0.1614 - accuracy: 0.9376 - discretized_accuracy: 0.9377\n",
            "10/10 [==============================] - 0s 4ms/step - loss: 0.0922 - accuracy: 0.9592 - discretized_accuracy: 0.9591\n",
            "10/10 [==============================] - 0s 4ms/step - loss: 0.1708 - accuracy: 0.9337 - discretized_accuracy: 0.9338\n",
            "10/10 [==============================] - 0s 6ms/step - loss: 0.0813 - accuracy: 0.9649 - discretized_accuracy: 0.9648\n",
            "10/10 [==============================] - 0s 5ms/step - loss: 0.1987 - accuracy: 0.9287 - discretized_accuracy: 0.9286\n",
            "10/10 [==============================] - 0s 5ms/step - loss: 0.1241 - accuracy: 0.9477 - discretized_accuracy: 0.9476\n",
            "10/10 [==============================] - 0s 4ms/step - loss: 0.1033 - accuracy: 0.9536 - discretized_accuracy: 0.9536\n",
            "10/10 [==============================] - 0s 5ms/step - loss: 0.1882 - accuracy: 0.9326 - discretized_accuracy: 0.9324\n",
            "10/10 [==============================] - 0s 5ms/step - loss: 0.1660 - accuracy: 0.9356 - discretized_accuracy: 0.9355\n",
            "10/10 [==============================] - 0s 6ms/step - loss: 0.1103 - accuracy: 0.9503 - discretized_accuracy: 0.9503\n",
            "10/10 [==============================] - 0s 6ms/step - loss: 0.0695 - accuracy: 0.9728 - discretized_accuracy: 0.9730\n",
            "10/10 [==============================] - 0s 5ms/step - loss: 0.0993 - accuracy: 0.9574 - discretized_accuracy: 0.9573\n",
            "10/10 [==============================] - 0s 4ms/step - loss: 0.0922 - accuracy: 0.9603 - discretized_accuracy: 0.9602\n",
            "10/10 [==============================] - 0s 6ms/step - loss: 0.0745 - accuracy: 0.9693 - discretized_accuracy: 0.9691\n",
            "10/10 [==============================] - 0s 7ms/step - loss: 0.0968 - accuracy: 0.9597 - discretized_accuracy: 0.9598\n",
            "10/10 [==============================] - 0s 5ms/step - loss: 0.0697 - accuracy: 0.9722 - discretized_accuracy: 0.9720\n",
            "10/10 [==============================] - 0s 6ms/step - loss: 0.1282 - accuracy: 0.9473 - discretized_accuracy: 0.9472\n",
            "10/10 [==============================] - 0s 6ms/step - loss: 0.0774 - accuracy: 0.9688 - discretized_accuracy: 0.9687\n",
            "10/10 [==============================] - 0s 5ms/step - loss: 0.1011 - accuracy: 0.9567 - discretized_accuracy: 0.9568\n",
            "10/10 [==============================] - 0s 5ms/step - loss: 0.1553 - accuracy: 0.9373 - discretized_accuracy: 0.9375\n",
            "10/10 [==============================] - 0s 5ms/step - loss: 0.0913 - accuracy: 0.9603 - discretized_accuracy: 0.9601\n",
            "10/10 [==============================] - 0s 4ms/step - loss: 0.1165 - accuracy: 0.9506 - discretized_accuracy: 0.9505\n",
            "10/10 [==============================] - 0s 11ms/step - loss: 0.1277 - accuracy: 0.9471 - discretized_accuracy: 0.9471\n",
            "10/10 [==============================] - 0s 5ms/step - loss: 0.1256 - accuracy: 0.9483 - discretized_accuracy: 0.9483\n",
            "10/10 [==============================] - 0s 6ms/step - loss: 0.1019 - accuracy: 0.9568 - discretized_accuracy: 0.9568\n",
            "10/10 [==============================] - 0s 7ms/step - loss: 0.0995 - accuracy: 0.9585 - discretized_accuracy: 0.9586\n",
            "10/10 [==============================] - 0s 5ms/step - loss: 0.1284 - accuracy: 0.9487 - discretized_accuracy: 0.9487\n",
            "10/10 [==============================] - 0s 6ms/step - loss: 0.1049 - accuracy: 0.9549 - discretized_accuracy: 0.9550\n",
            "10/10 [==============================] - 0s 6ms/step - loss: 0.1794 - accuracy: 0.9293 - discretized_accuracy: 0.9294\n",
            "10/10 [==============================] - 0s 6ms/step - loss: 0.0997 - accuracy: 0.9570 - discretized_accuracy: 0.9570\n",
            "10/10 [==============================] - 0s 4ms/step - loss: 0.0976 - accuracy: 0.9599 - discretized_accuracy: 0.9600\n",
            "10/10 [==============================] - 0s 8ms/step - loss: 0.1410 - accuracy: 0.9395 - discretized_accuracy: 0.9396\n",
            "10/10 [==============================] - 0s 10ms/step - loss: 0.2035 - accuracy: 0.9269 - discretized_accuracy: 0.9268\n",
            "10/10 [==============================] - 0s 7ms/step - loss: 0.1222 - accuracy: 0.9485 - discretized_accuracy: 0.9486\n",
            "10/10 [==============================] - 0s 6ms/step - loss: 0.1701 - accuracy: 0.9354 - discretized_accuracy: 0.9352\n",
            "10/10 [==============================] - 0s 7ms/step - loss: 0.1382 - accuracy: 0.9419 - discretized_accuracy: 0.9418\n",
            "10/10 [==============================] - 0s 5ms/step - loss: 0.1619 - accuracy: 0.9355 - discretized_accuracy: 0.9352\n",
            "10/10 [==============================] - 0s 5ms/step - loss: 0.1393 - accuracy: 0.9408 - discretized_accuracy: 0.9409\n",
            "10/10 [==============================] - 0s 6ms/step - loss: 0.1239 - accuracy: 0.9463 - discretized_accuracy: 0.9462\n",
            "10/10 [==============================] - 0s 6ms/step - loss: 0.1430 - accuracy: 0.9402 - discretized_accuracy: 0.9403\n",
            "10/10 [==============================] - 0s 5ms/step - loss: 0.3083 - accuracy: 0.9046 - discretized_accuracy: 0.9047\n",
            "10/10 [==============================] - 0s 5ms/step - loss: 0.1142 - accuracy: 0.9517 - discretized_accuracy: 0.9517\n",
            "10/10 [==============================] - 0s 7ms/step - loss: 0.1011 - accuracy: 0.9563 - discretized_accuracy: 0.9564\n",
            "10/10 [==============================] - 0s 5ms/step - loss: 0.1306 - accuracy: 0.9468 - discretized_accuracy: 0.9469\n",
            "10/10 [==============================] - 0s 8ms/step - loss: 0.1589 - accuracy: 0.9362 - discretized_accuracy: 0.9361\n",
            "10/10 [==============================] - 0s 9ms/step - loss: 0.0843 - accuracy: 0.9643 - discretized_accuracy: 0.9644\n",
            "10/10 [==============================] - 0s 8ms/step - loss: 0.1459 - accuracy: 0.9402 - discretized_accuracy: 0.9402\n",
            "10/10 [==============================] - 0s 8ms/step - loss: 0.0980 - accuracy: 0.9577 - discretized_accuracy: 0.9577\n",
            "10/10 [==============================] - 0s 6ms/step - loss: 0.0802 - accuracy: 0.9681 - discretized_accuracy: 0.9681\n",
            "10/10 [==============================] - 0s 8ms/step - loss: 0.1471 - accuracy: 0.9396 - discretized_accuracy: 0.9396\n",
            "10/10 [==============================] - 0s 3ms/step - loss: 0.0788 - accuracy: 0.9667 - discretized_accuracy: 0.9667\n",
            "10/10 [==============================] - 0s 12ms/step - loss: 0.1823 - accuracy: 0.9302 - discretized_accuracy: 0.9302\n",
            "10/10 [==============================] - 0s 5ms/step - loss: 0.2347 - accuracy: 0.9214 - discretized_accuracy: 0.9216\n",
            "10/10 [==============================] - 0s 7ms/step - loss: 0.0684 - accuracy: 0.9733 - discretized_accuracy: 0.9734\n",
            "10/10 [==============================] - 0s 5ms/step - loss: 0.1459 - accuracy: 0.9397 - discretized_accuracy: 0.9397\n",
            "10/10 [==============================] - 0s 4ms/step - loss: 0.1432 - accuracy: 0.9447 - discretized_accuracy: 0.9446\n",
            "10/10 [==============================] - 0s 6ms/step - loss: 0.0806 - accuracy: 0.9665 - discretized_accuracy: 0.9667\n",
            "10/10 [==============================] - 0s 6ms/step - loss: 0.1138 - accuracy: 0.9512 - discretized_accuracy: 0.9514\n",
            "10/10 [==============================] - 0s 9ms/step - loss: 0.1322 - accuracy: 0.9437 - discretized_accuracy: 0.9434\n",
            "10/10 [==============================] - 0s 9ms/step - loss: 0.1057 - accuracy: 0.9567 - discretized_accuracy: 0.9568\n",
            "10/10 [==============================] - 0s 6ms/step - loss: 0.0833 - accuracy: 0.9654 - discretized_accuracy: 0.9656\n",
            "10/10 [==============================] - 0s 4ms/step - loss: 0.1778 - accuracy: 0.9340 - discretized_accuracy: 0.9341\n",
            "10/10 [==============================] - 0s 7ms/step - loss: 0.1569 - accuracy: 0.9324 - discretized_accuracy: 0.9323\n",
            "10/10 [==============================] - 0s 4ms/step - loss: 0.1345 - accuracy: 0.9441 - discretized_accuracy: 0.9441\n",
            "10/10 [==============================] - 0s 7ms/step - loss: 0.0876 - accuracy: 0.9621 - discretized_accuracy: 0.9621\n",
            "10/10 [==============================] - 0s 6ms/step - loss: 0.0822 - accuracy: 0.9658 - discretized_accuracy: 0.9659\n",
            "10/10 [==============================] - 0s 5ms/step - loss: 0.2491 - accuracy: 0.9105 - discretized_accuracy: 0.9108\n",
            "10/10 [==============================] - 0s 5ms/step - loss: 0.1382 - accuracy: 0.9439 - discretized_accuracy: 0.9438\n",
            "Accuracy: 94.9%\n"
          ]
        }
      ]
    },
    {
      "cell_type": "markdown",
      "source": [
        "Utile esercizio: aggiungete rumore al generatore e verificate l'effetto sulla\n",
        "\"ground truth\"."
      ],
      "metadata": {
        "id": "NTY5fu8Hg7RE"
      }
    },
    {
      "cell_type": "markdown",
      "source": [
        "# Cosa consegnare\n",
        "\n",
        "Ai fini del progetto dovete lavorare con la **griglia di default di dimensione 10x10, e con il rumore di default .002**\n",
        "\n",
        "il generatore deve essere trattato come una scatola nera: non modificatelo e non sfruttate la sua semantica, che si suppone ignota. Potete lavorare in modlaità \"flat\", se preferite.\n",
        "\n",
        "Dovete:\n",
        "\n",
        "1.   definire una funzione per il calcolo della accuratezza (potete prendere ispirazione dal cocice della cella precedente) \n",
        "2.   definire una rete neurale che prende in input theta e rho e restituisce out\n",
        "3.  misurare l'accuratezza della rete, che deve essere maggiore o uguale del 95%; l'accuratezza deve essere misurata su almeno 20000 dati\n",
        "4. perfezionare il modello cercando di diminuire il più possibile il numero dei parametri mantenendo una accuratezza superiore al 95%. Solo la vostra rete migliore deve essere consegnata.\n",
        "\n",
        "Dovete consegnare un UNICO notebook eseguibile su colab, che contenga il codice della rete, il suo sommario con il numero dei parametri, la storia di training, il codice per il calcolo della accuratezza e la sua valutazione sulla vostra rete.\n",
        "\n",
        "**N.B.** L'accuratezza deve essere superiore o uguale a 95%, ma non influisce in altro modo sulla valutazione. Il vostro punteggio dipenderà unicamente dal numero dei parametri: più è piccolo e più la vostra vaalutazione sarà elevata.  \n",
        "\n",
        "#Buon lavoro!\n",
        "\n",
        "\n",
        "\n"
      ],
      "metadata": {
        "id": "jj4akvA24maJ"
      }
    }
  ]
}